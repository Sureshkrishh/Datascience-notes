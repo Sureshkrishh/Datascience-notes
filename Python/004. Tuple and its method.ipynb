{
 "cells": [
  {
   "cell_type": "markdown",
   "metadata": {},
   "source": [
    "## QUICK REVISION NOTES 4"
   ]
  },
  {
   "cell_type": "markdown",
   "metadata": {},
   "source": [
    "### Tuple and its method"
   ]
  },
  {
   "cell_type": "code",
   "execution_count": 19,
   "metadata": {},
   "outputs": [
    {
     "name": "stdout",
     "output_type": "stream",
     "text": [
      "Declaring a simple tuple\n",
      "(10, 20, 30) \n",
      "datatype is <class 'tuple'> \n",
      "id of the tuple is: 140261163642688\n",
      "\n",
      "Declaring a nested tuple\n",
      "(10, 20, ('true', 'false'), [52, 2, 32], {5: 12, 89: 98}) \n",
      "datatype is <class 'tuple'> \n",
      "id of the tuple is: 140261214433744\n",
      "\n",
      "Declaring tuple without brackets\n",
      "('hello', 'this', 'is', 'tuple') \n",
      "datatype is <class 'tuple'> \n",
      "id of the tuple is: 140261154175152\n",
      "\n",
      "Declaring a single element as tuple\n",
      "(10,) \n",
      "datatype is <class 'tuple'> \n",
      "id of the tuple is: 140261154995552\n"
     ]
    }
   ],
   "source": [
    "# Tuple is a sequence that has ordered collection of elements.\n",
    "# Indexing, slicing, concatenation, repetation is possible.\n",
    "# Tuple is a immutable object and that can hold hetrogeneous elements.\n",
    "# In tuple all elements are kept inside '()' and seperated by comma ','\n",
    "# To declare a tuple, the brackets are optional but the comma is mandatory\n",
    "\n",
    "print('Declaring a simple tuple')\n",
    "tpl = (10,20,30)\n",
    "print(tpl, '\\ndatatype is',type(tpl), '\\nid of the tuple is:',id(tpl))\n",
    "\n",
    "print('\\nDeclaring a nested tuple')\n",
    "ntpl = (10,20,('true', 'false'),[52,2,32],{5:12,89:98})\n",
    "print(ntpl, '\\ndatatype is',type(ntpl), '\\nid of the tuple is:',id(ntpl))\n",
    "\n",
    "print('\\nDeclaring tuple without brackets')\n",
    "btpl = 'hello', 'this', 'is', 'tuple'\n",
    "print(btpl, '\\ndatatype is',type(btpl), '\\nid of the tuple is:',id(btpl))\n",
    "\n",
    "print('\\nDeclaring a single element as tuple')\n",
    "stpl = 10,\n",
    "print(stpl, '\\ndatatype is',type(stpl), '\\nid of the tuple is:',id(stpl))"
   ]
  },
  {
   "cell_type": "code",
   "execution_count": 21,
   "metadata": {},
   "outputs": [
    {
     "name": "stdout",
     "output_type": "stream",
     "text": [
      "Enter a tuple: 10,20,30\n",
      "(10, 20, 30)\n",
      "\n",
      "This method doesnt work as expected\n",
      "Enter a tuple: 10,20,30\n",
      "('1', '0', ',', '2', '0', ',', '3', '0')\n"
     ]
    }
   ],
   "source": [
    "# Tatking tuple input from user\n",
    "\n",
    "inp_tpl = eval(input('Enter a tuple: '))\n",
    "print(inp_tpl)\n",
    "\n",
    "# Similar to that of list, tuple also uses eval to process the input taken from user. \n",
    "# tuple(input()) doesnt work as expected as it splits input as a individual element.\n",
    "print('\\nThis method doesnt work as expected')\n",
    "winp_tpl = tuple(input('Enter a tuple: '))\n",
    "print(winp_tpl)"
   ]
  },
  {
   "cell_type": "markdown",
   "metadata": {},
   "source": [
    "### Methods in tuple"
   ]
  },
  {
   "cell_type": "code",
   "execution_count": 22,
   "metadata": {},
   "outputs": [
    {
     "name": "stdout",
     "output_type": "stream",
     "text": [
      "['__add__', '__class__', '__contains__', '__delattr__', '__dir__', '__doc__', '__eq__', '__format__', '__ge__', '__getattribute__', '__getitem__', '__getnewargs__', '__gt__', '__hash__', '__init__', '__init_subclass__', '__iter__', '__le__', '__len__', '__lt__', '__mul__', '__ne__', '__new__', '__reduce__', '__reduce_ex__', '__repr__', '__rmul__', '__setattr__', '__sizeof__', '__str__', '__subclasshook__', 'count', 'index']\n"
     ]
    }
   ],
   "source": [
    "print(dir(tuple))\n",
    "\n",
    "# Identifiers starting and ending with underscore are language defined identifiers\n",
    "# other than that count and index are the two methods of list."
   ]
  },
  {
   "cell_type": "code",
   "execution_count": 30,
   "metadata": {},
   "outputs": [
    {
     "name": "stdout",
     "output_type": "stream",
     "text": [
      "2\n",
      "0\n",
      "\n",
      "2\n"
     ]
    },
    {
     "ename": "ValueError",
     "evalue": "tuple.index(x): x not in tuple",
     "output_type": "error",
     "traceback": [
      "\u001b[0;31m---------------------------------------------------------------------------\u001b[0m",
      "\u001b[0;31mValueError\u001b[0m                                Traceback (most recent call last)",
      "\u001b[0;32m<ipython-input-30-aa43130d321e>\u001b[0m in \u001b[0;36m<module>\u001b[0;34m\u001b[0m\n\u001b[1;32m     10\u001b[0m \u001b[0mitple\u001b[0m \u001b[0;34m=\u001b[0m \u001b[0;36m10\u001b[0m\u001b[0;34m,\u001b[0m\u001b[0;36m20\u001b[0m\u001b[0;34m,\u001b[0m\u001b[0;36m2\u001b[0m\u001b[0;34m,\u001b[0m\u001b[0;36m5\u001b[0m\u001b[0;34m,\u001b[0m\u001b[0;36m8\u001b[0m\u001b[0;34m,\u001b[0m\u001b[0;36m2\u001b[0m\u001b[0;34m,\u001b[0m\u001b[0;36m6\u001b[0m\u001b[0;34m,\u001b[0m\u001b[0;36m4\u001b[0m\u001b[0;34m,\u001b[0m\u001b[0;36m5\u001b[0m\u001b[0;34m,\u001b[0m\u001b[0;36m1\u001b[0m\u001b[0;34m,\u001b[0m\u001b[0;36m10\u001b[0m\u001b[0;34m\u001b[0m\u001b[0;34m\u001b[0m\u001b[0m\n\u001b[1;32m     11\u001b[0m \u001b[0mprint\u001b[0m\u001b[0;34m(\u001b[0m\u001b[0mitple\u001b[0m\u001b[0;34m.\u001b[0m\u001b[0mindex\u001b[0m\u001b[0;34m(\u001b[0m\u001b[0;36m2\u001b[0m\u001b[0;34m)\u001b[0m\u001b[0;34m)\u001b[0m\u001b[0;34m\u001b[0m\u001b[0;34m\u001b[0m\u001b[0m\n\u001b[0;32m---> 12\u001b[0;31m \u001b[0mprint\u001b[0m\u001b[0;34m(\u001b[0m\u001b[0mitple\u001b[0m\u001b[0;34m.\u001b[0m\u001b[0mindex\u001b[0m\u001b[0;34m(\u001b[0m\u001b[0;36m7\u001b[0m\u001b[0;34m)\u001b[0m\u001b[0;34m)\u001b[0m \u001b[0;31m# If the element is not present in the tuple it returns ValueError\u001b[0m\u001b[0;34m\u001b[0m\u001b[0;34m\u001b[0m\u001b[0m\n\u001b[0m",
      "\u001b[0;31mValueError\u001b[0m: tuple.index(x): x not in tuple"
     ]
    }
   ],
   "source": [
    "# count and index\n",
    "\n",
    "# count() - This gives the count of all occurances of a particular element\n",
    "ctple = 10,20,2,5,8,2,6,4,5,1,10\n",
    "print(ctple.count(2))\n",
    "print(ctple.count(7)) # If the element is not present in the tuple it returns zero\n",
    "print()\n",
    "\n",
    "# index() - This gives the index of first occurance of a particular element\n",
    "itple = 10,20,2,5,8,2,6,4,5,1,10\n",
    "print(itple.index(2))\n",
    "print(itple.index(7)) # If the element is not present in the tuple it returns ValueError"
   ]
  },
  {
   "cell_type": "markdown",
   "metadata": {},
   "source": [
    "### Tuple packing and unpacking"
   ]
  },
  {
   "cell_type": "code",
   "execution_count": 44,
   "metadata": {},
   "outputs": [
    {
     "name": "stdout",
     "output_type": "stream",
     "text": [
      "('iam', 'unpacked', 'tuple', 'getting packed') \n",
      "datatype is <class 'tuple'> \n",
      "id of the tuple is: 140261154330240\n",
      "\n",
      "('iam', <class 'str'>)\n",
      "('packed', <class 'str'>)\n",
      "('tuple', <class 'str'>)\n",
      "('getting unpacked', <class 'str'>)\n"
     ]
    }
   ],
   "source": [
    "# Tuple packing - method of packing multiple hetrogeneous object as tuple.\n",
    "a = 'iam'\n",
    "b = 'unpacked'\n",
    "c = 'tuple'\n",
    "d = 'getting packed'\n",
    "ptpl = a, b, c, d\n",
    "print(ptpl, '\\ndatatype is',type(ptpl), '\\nid of the tuple is:',id(ptpl))\n",
    "print()\n",
    "\n",
    "# Tuple unpacking - method of splitting the element of tuple to individual objects / variables.\n",
    "uptpl = 'iam', 'packed', 'tuple', 'getting unpacked'\n",
    "p, q, r, s = uptpl\n",
    "print((p, type(p)),(q, type(q)),(r, type(r)),(s, type(s)),sep='\\n')\n"
   ]
  }
 ],
 "metadata": {
  "kernelspec": {
   "display_name": "Python 3",
   "language": "python",
   "name": "python3"
  },
  "language_info": {
   "codemirror_mode": {
    "name": "ipython",
    "version": 3
   },
   "file_extension": ".py",
   "mimetype": "text/x-python",
   "name": "python",
   "nbconvert_exporter": "python",
   "pygments_lexer": "ipython3",
   "version": "3.8.5"
  }
 },
 "nbformat": 4,
 "nbformat_minor": 4
}
