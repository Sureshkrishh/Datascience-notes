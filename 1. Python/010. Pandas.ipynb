{
 "cells": [
  {
   "cell_type": "markdown",
   "metadata": {},
   "source": [
    "### QUICK REVISION NOTES 10"
   ]
  },
  {
   "cell_type": "markdown",
   "metadata": {},
   "source": [
    "## What is pandas"
   ]
  },
  {
   "cell_type": "raw",
   "metadata": {},
   "source": [
    "1. Pandas is a python library that is built on top of numpy. \n",
    "2. The name 'pandas' has a reference to both 'panel data' and 'python data analysis'. \n",
    "3. It is created in the year of 2008 by Wes McKinney.\n",
    "4. Pandas is used to analyse big data and make conculsion based on statistical theories.\n",
    "5. It has functions for analyzing, cleaning, exploring, and manipulating data."
   ]
  },
  {
   "cell_type": "markdown",
   "metadata": {},
   "source": [
    "### Importing and using pandas"
   ]
  },
  {
   "cell_type": "code",
   "execution_count": 1,
   "metadata": {},
   "outputs": [
    {
     "name": "stdout",
     "output_type": "stream",
     "text": [
      "1.1.3\n",
      "140\n"
     ]
    }
   ],
   "source": [
    "import pandas as pd     # Importing pandas library\n",
    "print(pd.__version__)   # To check numpy version\n",
    "print(len(dir(pd)))     # number of functions available within pandas"
   ]
  },
  {
   "cell_type": "markdown",
   "metadata": {},
   "source": [
    "### Pandas Series"
   ]
  },
  {
   "cell_type": "raw",
   "metadata": {},
   "source": [
    "1. Pandas series is a one dimensional labeled array that is capabale of holding data of any types.\n",
    "2. The axis label of a series is called as index.\n",
    "3. Simply, series can be defined as column in a table/excel."
   ]
  },
  {
   "cell_type": "code",
   "execution_count": 28,
   "metadata": {},
   "outputs": [
    {
     "data": {
      "text/plain": [
       "0      john\n",
       "1       job\n",
       "2       sam\n",
       "3    thomas\n",
       "4      mike\n",
       "dtype: object"
      ]
     },
     "execution_count": 28,
     "metadata": {},
     "output_type": "execute_result"
    }
   ],
   "source": [
    "# Creating a simple pandas series\n",
    "\n",
    "name_lst = ['john', 'job', 'sam', 'thomas', 'mike']  # Creating a list of elements\n",
    "pd_srs= pd.Series(name_lst)                          # Assigning the list to pandas series\n",
    "pd_srs\n",
    "\n",
    "# by default the index values starts from 0 and goes till the data exhausts"
   ]
  },
  {
   "cell_type": "code",
   "execution_count": 48,
   "metadata": {},
   "outputs": [
    {
     "name": "stdout",
     "output_type": "stream",
     "text": [
      "Assigning index while creating pandas series:\n",
      "11      john\n",
      "12       job\n",
      "13       sam\n",
      "14    thomas\n",
      "15      mike\n",
      "dtype: object\n",
      "\n",
      "Assigning / changing index after creating pandas series:\n",
      "101      john\n",
      "102       job\n",
      "103       sam\n",
      "104    thomas\n",
      "105      mike\n",
      "dtype: object\n"
     ]
    }
   ],
   "source": [
    "# assigning index to the pandas series\n",
    "\n",
    "# While creating:\n",
    "ipd_srs = pd.Series(name_lst, index=list(range(11,16)))\n",
    "print('Assigning index while creating pandas series:')\n",
    "print(ipd_srs)\n",
    "\n",
    "# After creating\n",
    "ipd_srs.index = [101,102,103,104,105]\n",
    "print('\\nAssigning / changing index after creating pandas series:')\n",
    "print(ipd_srs)"
   ]
  },
  {
   "cell_type": "code",
   "execution_count": 56,
   "metadata": {},
   "outputs": [
    {
     "name": "stdout",
     "output_type": "stream",
     "text": [
      "a    1\n",
      "b    2\n",
      "c    3\n",
      "d    4\n",
      "e    5\n",
      "dtype: int64\n"
     ]
    }
   ],
   "source": [
    "# Creating a Series from an array\n",
    "\n",
    "import numpy as np\n",
    "arr = np.arange(1,6)\n",
    "apd_srs = pd.Series(arr, index = ['a', 'b', 'c', 'd', 'e'])\n",
    "print(apd_srs)"
   ]
  },
  {
   "cell_type": "code",
   "execution_count": 55,
   "metadata": {},
   "outputs": [
    {
     "name": "stdout",
     "output_type": "stream",
     "text": [
      "john      850000\n",
      "job       750000\n",
      "sam       400000\n",
      "thomas    650000\n",
      "mike      450000\n",
      "dtype: int64\n"
     ]
    }
   ],
   "source": [
    "# Creating a series from a dictionary\n",
    "\n",
    "dct = {'john':850000, 'job':750000, 'sam':400000, 'thomas':650000, 'mike':450000}\n",
    "dpd_srs = pd.Series(dct)\n",
    "print(dpd_srs)"
   ]
  },
  {
   "cell_type": "code",
   "execution_count": 3,
   "metadata": {},
   "outputs": [
    {
     "name": "stdout",
     "output_type": "stream",
     "text": [
      "TN    CHN\n",
      "KL    TVM\n",
      "AP    HYD\n",
      "KA    BLR\n",
      "MP    BHO\n",
      "RJ    JAP\n",
      "dtype: object\n"
     ]
    }
   ],
   "source": [
    "# Creating Serires by values and index from list\n",
    "\n",
    "state_lst = ['TN', 'KL', 'AP', 'KA', 'MP', 'RJ']\n",
    "capital_lst = ['CHN', 'TVM', 'HYD', 'BLR', 'BHO','JAP']\n",
    "state_capital = pd.Series(capital_lst, index = state_lst)\n",
    "print(state_capital)"
   ]
  },
  {
   "cell_type": "code",
   "execution_count": 21,
   "metadata": {},
   "outputs": [
    {
     "name": "stdout",
     "output_type": "stream",
     "text": [
      "BLR\n",
      "CHN\n",
      "KL    TVM\n",
      "AP    HYD\n",
      "KA    BLR\n",
      "dtype: object\n",
      "\n",
      "Index of state_capital: Index(['TN', 'KL', 'AP', 'KA', 'MP', 'RJ'], dtype='object')\n",
      "Values of state_capital: ['CHN' 'TVM' 'HYD' 'BLR' 'BHO' 'JAP']\n"
     ]
    }
   ],
   "source": [
    "# Accessing elements of the series\n",
    "\n",
    "# Indexing and slicing\n",
    "\n",
    "print(state_capital[3])     # can be accesd by index number\n",
    "print(state_capital['TN'])  # can be accessed by index name\n",
    "print(state_capital[1:4])   # accessing a array by slicing\n",
    "\n",
    "# index and values\n",
    "print('\\nIndex of state_capital:', state_capital.index)\n",
    "print('Values of state_capital:', state_capital.values)"
   ]
  },
  {
   "cell_type": "code",
   "execution_count": null,
   "metadata": {},
   "outputs": [],
   "source": []
  }
 ],
 "metadata": {
  "kernelspec": {
   "display_name": "Python 3",
   "language": "python",
   "name": "python3"
  },
  "language_info": {
   "codemirror_mode": {
    "name": "ipython",
    "version": 3
   },
   "file_extension": ".py",
   "mimetype": "text/x-python",
   "name": "python",
   "nbconvert_exporter": "python",
   "pygments_lexer": "ipython3",
   "version": "3.8.5"
  }
 },
 "nbformat": 4,
 "nbformat_minor": 4
}
