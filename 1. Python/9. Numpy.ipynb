{
 "cells": [
  {
   "cell_type": "markdown",
   "metadata": {},
   "source": [
    "### QUICK REVISION NOTES 9"
   ]
  },
  {
   "cell_type": "markdown",
   "metadata": {},
   "source": [
    "## What is NumPy"
   ]
  },
  {
   "cell_type": "code",
   "execution_count": null,
   "metadata": {},
   "outputs": [],
   "source": [
    "# NumPy stands for numerical python, which is used for working with arrays\n",
    "# An array is a collection of items stored at contiguous memory locations.\n",
    "# They are called as ndarrays (n-dimensional arrays)\n",
    "# The idea is to store multiple items of the same type together."
   ]
  },
  {
   "cell_type": "markdown",
   "metadata": {},
   "source": [
    "### Why is NumPy array is faster than list"
   ]
  },
  {
   "cell_type": "code",
   "execution_count": null,
   "metadata": {},
   "outputs": [],
   "source": [
    "# NumPy aims to provide an array object that is up to 50x faster than traditional Python lists.\n",
    "# NumPy is capable of storing only the homogeneous datatypes in contiguous memory location.\n",
    "# This makes the calculation / processing faster in numpy\n",
    "# But list is only capabale of storing hetrogeneous datatypes in non-contigious memory location."
   ]
  },
  {
   "cell_type": "markdown",
   "metadata": {},
   "source": [
    "### Importing and using numpy"
   ]
  },
  {
   "cell_type": "code",
   "execution_count": 1,
   "metadata": {},
   "outputs": [
    {
     "name": "stdout",
     "output_type": "stream",
     "text": [
      "1.19.2\n",
      "623\n"
     ]
    }
   ],
   "source": [
    "import numpy as np     # Importing numpy library\n",
    "print(np.__version__)  # To check numpy version\n",
    "print(len(dir(np)))    # number of functions available within numpy"
   ]
  },
  {
   "cell_type": "markdown",
   "metadata": {},
   "source": [
    "### Creating a numpy array"
   ]
  },
  {
   "cell_type": "code",
   "execution_count": 5,
   "metadata": {},
   "outputs": [
    {
     "name": "stdout",
     "output_type": "stream",
     "text": [
      "[20 30 40]\n",
      "int64\n",
      "<class 'numpy.ndarray'>\n"
     ]
    }
   ],
   "source": [
    "# creating array using np.array(list)\n",
    "\n",
    "arr = np.array([20,30,40])  # craeting a numpy array\n",
    "print(arr)\n",
    "print(arr.dtype)  # to check the datatype of the array\n",
    "print(type(arr))  # tells us the type of the object passed to it"
   ]
  },
  {
   "cell_type": "code",
   "execution_count": 90,
   "metadata": {},
   "outputs": [
    {
     "name": "stdout",
     "output_type": "stream",
     "text": [
      "[ 0  1  2  3  4  5  6  7  8  9 10 11 12 13 14 15 16 17 18 19]\n",
      "int64\n",
      "<class 'numpy.ndarray'>\n",
      "\n",
      "[ 0 10 20 30 40 50 60 70 80 90]\n",
      "int64\n",
      "<class 'numpy.ndarray'>\n"
     ]
    }
   ],
   "source": [
    "# creating array using np.arange(start, stop, step)  # returns int\n",
    "\n",
    "# by default start is 0 and stop is n-1 and step is 1\n",
    "ara = np.arange(20) \n",
    "print(ara)\n",
    "print(ara.dtype)  \n",
    "print(type(ara))\n",
    "print()\n",
    "\n",
    "ara2 = np.arange(0,100,10)\n",
    "print(ara2)\n",
    "print(ara2.dtype)  \n",
    "print(type(ara2))"
   ]
  },
  {
   "cell_type": "code",
   "execution_count": 109,
   "metadata": {},
   "outputs": [
    {
     "name": "stdout",
     "output_type": "stream",
     "text": [
      "[ 1.          1.18367347  1.36734694  1.55102041  1.73469388  1.91836735\n",
      "  2.10204082  2.28571429  2.46938776  2.65306122  2.83673469  3.02040816\n",
      "  3.20408163  3.3877551   3.57142857  3.75510204  3.93877551  4.12244898\n",
      "  4.30612245  4.48979592  4.67346939  4.85714286  5.04081633  5.2244898\n",
      "  5.40816327  5.59183673  5.7755102   5.95918367  6.14285714  6.32653061\n",
      "  6.51020408  6.69387755  6.87755102  7.06122449  7.24489796  7.42857143\n",
      "  7.6122449   7.79591837  7.97959184  8.16326531  8.34693878  8.53061224\n",
      "  8.71428571  8.89795918  9.08163265  9.26530612  9.44897959  9.63265306\n",
      "  9.81632653 10.        ]\n",
      "\n",
      "[1.  1.2 1.4 1.6 1.8 2. ]\n"
     ]
    }
   ],
   "source": [
    "# creating array using np.linspace(start, stop, no.of.division)  # returns float\n",
    "\n",
    "# it requires start and stop, by default no.of.division is 50. Unlike arange here stop value is n.\n",
    "lar = np.linspace(1,10)  # 50 division between 1 and 10\n",
    "print(lar)\n",
    "print()\n",
    "\n",
    "ular = np.linspace(1,2,6) # 5 division between 1 and 2\n",
    "print(ular)"
   ]
  },
  {
   "cell_type": "code",
   "execution_count": 177,
   "metadata": {},
   "outputs": [
    {
     "name": "stdout",
     "output_type": "stream",
     "text": [
      "Array using np.zeros(shape, dtype=float)\n",
      "[[0 0 0]\n",
      " [0 0 0]\n",
      " [0 0 0]\n",
      " [0 0 0]\n",
      " [0 0 0]]\n",
      "\n",
      "Array using np.ones(shape, dtype=float)\n",
      "[[[1 1 1 1 1]\n",
      "  [1 1 1 1 1]\n",
      "  [1 1 1 1 1]\n",
      "  [1 1 1 1 1]\n",
      "  [1 1 1 1 1]]\n",
      "\n",
      " [[1 1 1 1 1]\n",
      "  [1 1 1 1 1]\n",
      "  [1 1 1 1 1]\n",
      "  [1 1 1 1 1]\n",
      "  [1 1 1 1 1]]]\n",
      "\n",
      "Array using np.eye(N= no.of.row, M= no.of.column, k=0)\n",
      "[[0. 0. 0. 0.]\n",
      " [1. 0. 0. 0.]\n",
      " [0. 1. 0. 0.]\n",
      " [0. 0. 1. 0.]\n",
      " [0. 0. 0. 1.]]\n",
      "\n",
      "Empty array without initializing elements\n",
      "[[0.15987732 0.14384308]\n",
      " [0.44601534 0.70760803]\n",
      " [0.03833358 0.51824214]\n",
      " [0.40451634 0.99140559]\n",
      " [0.77779761 0.09728929]]\n",
      "\n",
      "Full array using np.full(shape, fill_value, dtype=None)\n",
      "[[8 8 8]\n",
      " [8 8 8]]\n",
      "\n",
      " [[3 8]\n",
      " [3 8]\n",
      " [3 8]\n",
      " [3 8]\n",
      " [3 8]]\n",
      "\n",
      " [[3 8]\n",
      " [9 2]\n",
      " [3 8]\n",
      " [9 2]\n",
      " [1 1]]\n",
      "\n",
      "Creating a random array using np.random.rand()\n",
      "[[0.21762945 0.5352883 ]\n",
      " [0.51323204 0.82597318]\n",
      " [0.99857004 0.48505474]\n",
      " [0.68675667 0.69855079]\n",
      " [0.07542479 0.74159909]]\n",
      "\n",
      " [[[0.30386456 0.57837939 0.06108156]\n",
      "  [0.67605484 0.75323263 0.088514  ]\n",
      "  [0.07202638 0.14589452 0.17637406]]\n",
      "\n",
      " [[0.22942196 0.70207724 0.99158956]\n",
      "  [0.0142373  0.92744389 0.17020957]\n",
      "  [0.98319193 0.90731654 0.85760263]]]\n"
     ]
    }
   ],
   "source": [
    "# creating array using np.zeros()\n",
    "print('Array using np.zeros(shape, dtype=float)')\n",
    "zar = np.zeros((5,3),dtype=int)\n",
    "print(zar)\n",
    "\n",
    "# creating array using np.ones()\n",
    "print('\\nArray using np.ones(shape, dtype=float)')\n",
    "oar = np.ones((2,5,5),dtype=int)\n",
    "print(oar)\n",
    "\n",
    "# creating array using np.eye()\n",
    "print('\\nArray using np.eye(N= no.of.row, M= no.of.column, k=0)')\n",
    "# k represents to the diagonal type, by default it main diagonal.\n",
    "# negative k value refers lower diagonal eye matrix value refers upper diagonal eye matrix\n",
    "ear = np.eye(5,4,-1)\n",
    "print(ear)\n",
    "\n",
    "# creating empty array\n",
    "print('\\nEmpty array without initializing elements')\n",
    "marr = np.empty((5,2))\n",
    "print(marr)\n",
    "\n",
    "# creating a full array using np.full\n",
    "print('\\nFull array using np.full(shape, fill_value, dtype=None)')\n",
    "far  = np.full((2,3),(8))\n",
    "far1 = np.full((5,2),(3,8))\n",
    "far2 = np.full((5,2),((3,8),(9,2),(3,8),(9,2),(1,1)))\n",
    "print(far)\n",
    "print('\\n',far1)\n",
    "print('\\n',far2)\n",
    "\n",
    "# creating a random array elements\n",
    "print('\\nCreating a random array using np.random.rand()')\n",
    "rar = np.random.rand(5,2)\n",
    "rar1 = np.random.rand(2,3,3)\n",
    "print(rar)\n",
    "print('\\n', rar1)"
   ]
  },
  {
   "cell_type": "markdown",
   "metadata": {},
   "source": [
    "### upcasting"
   ]
  },
  {
   "cell_type": "code",
   "execution_count": 6,
   "metadata": {},
   "outputs": [],
   "source": [
    "# when a numpy array consist of elements of different datatype upcasting can be done\n",
    "# Upcasting is the process of converting all the elements of the array to higher oreder element\n",
    "# The upcasting hireracy follows int --> float --> complex --> object\n",
    "# Upcasting happens automatically in NumPy and that can also be user contolled\n",
    "\n",
    "# NumPy has following datatypes that can be assigned when declaring an array\n",
    "    # i - integer (i1 - int8, i2 - int16, i4 - int32, i8 - int64)\n",
    "    # b - boolean\n",
    "    # u - unsigned integer\n",
    "    # f - float\n",
    "    # c - complex\n",
    "    # m - timedelta\n",
    "    # M - datetime\n",
    "    # O - object\n",
    "    # S - string\n",
    "    # U - unicode string\n",
    "    # V - fixed chunk of memory for other type ( void )\n",
    "    \n",
    "# For i, u, f, S and U we can define size as well. (ie., i4, u8 etc..)\n",
    "# i4 represents 4byte integer"
   ]
  },
  {
   "cell_type": "code",
   "execution_count": 7,
   "metadata": {},
   "outputs": [
    {
     "name": "stdout",
     "output_type": "stream",
     "text": [
      "[20.  30.  25.6 56. ] float64\n",
      "[20 30 25 56] int16\n",
      "[b'20' b'30' b'25.6' b'56'] |S4\n"
     ]
    }
   ],
   "source": [
    "lst = [20, 30, 25.6, 56]         # Hetrogeneous list contains int and float\n",
    "farr = np.array(lst)             # creating numpy array\n",
    "iarr = np.array(lst, dtype='i2') # creating numpy array of int datatype with hetrogeneous list object\n",
    "sarr = np.array(lst, dtype='S')  # creating numpy array of string datatype with hetrogeneous list object\n",
    "print(farr, farr.dtype)          # Automatic upcasting happened\n",
    "print(iarr, iarr.dtype)          # Manual upcasting to int\n",
    "print(sarr, sarr.dtype)          # Manual upcasting to string"
   ]
  },
  {
   "cell_type": "code",
   "execution_count": 8,
   "metadata": {},
   "outputs": [
    {
     "name": "stdout",
     "output_type": "stream",
     "text": [
      "[20.  30.  25.6 56. ] float64\n"
     ]
    }
   ],
   "source": [
    "# converting datatype of existing array\n",
    "\n",
    "carr = sarr.astype('f8')  # use as type to change the datatype of exixting array\n",
    "print(carr, carr.dtype)"
   ]
  },
  {
   "cell_type": "markdown",
   "metadata": {},
   "source": [
    "### Array dimensions"
   ]
  },
  {
   "cell_type": "code",
   "execution_count": 12,
   "metadata": {},
   "outputs": [
    {
     "name": "stdout",
     "output_type": "stream",
     "text": [
      "hello\n",
      "numbers of dimension = 0\n"
     ]
    }
   ],
   "source": [
    "# Zero dimensional array (0-D Array)\n",
    "\n",
    "# 0-D array can be defined as scalars, every individual of the array is a 0-D array.\n",
    "\n",
    "zero_arr = np.array('hello')\n",
    "print(zero_arr)\n",
    "print('numbers of dimension =',zero_arr.ndim)  # to check no.of dimension use 'var.ndim'"
   ]
  },
  {
   "cell_type": "code",
   "execution_count": 16,
   "metadata": {},
   "outputs": [
    {
     "name": "stdout",
     "output_type": "stream",
     "text": [
      "[1 2 3 4]\n",
      "numbers of dimension = 1\n"
     ]
    }
   ],
   "source": [
    "# One dimensional array (1-D Array)\n",
    "\n",
    "# Array that has more than one 0-D array is called as 1-D Array\n",
    "\n",
    "one_arr = np.array([1,2,3,4])\n",
    "print(one_arr)\n",
    "print('numbers of dimension =',one_arr.ndim) # to check no.of dimension use 'var.ndim'"
   ]
  },
  {
   "cell_type": "code",
   "execution_count": 20,
   "metadata": {},
   "outputs": [
    {
     "name": "stdout",
     "output_type": "stream",
     "text": [
      "[[ 1  2  3  4]\n",
      " [ 5  6  7  8]\n",
      " [ 8  9 10 11]]\n",
      "numbers of dimension = 2\n"
     ]
    }
   ],
   "source": [
    "# Two dimensional array (2-D Array)\n",
    "\n",
    "# Array with more than one 1-D array is called as 2-D array. This is alsop called as matrices.\n",
    "\n",
    "two_arr = np.array([[1,2,3,4],[5,6,7,8],[8,9,10,11]])\n",
    "print(two_arr)\n",
    "print('numbers of dimension =',two_arr.ndim) # to check no.of dimension use 'var.ndim'"
   ]
  },
  {
   "cell_type": "code",
   "execution_count": 28,
   "metadata": {},
   "outputs": [
    {
     "name": "stdout",
     "output_type": "stream",
     "text": [
      "[[[1 2 0]\n",
      "  [3 4 0]]\n",
      "\n",
      " [[5 6 0]\n",
      "  [7 8 0]]]\n",
      "numbers of dimension = 3\n"
     ]
    }
   ],
   "source": [
    "# Three dimensional array (3-D Array)\n",
    "\n",
    "# Array with more than one 2-D array is called as 3-D array\n",
    "\n",
    "three_arr = np.array([\n",
    "    [[1,2,0],[3,4,0]],\n",
    "    [[5,6,0],[7,8,0]]\n",
    "])\n",
    "print(three_arr)\n",
    "print('numbers of dimension =',three_arr.ndim) # to check no.of dimension use 'var.ndim'"
   ]
  },
  {
   "cell_type": "code",
   "execution_count": 40,
   "metadata": {},
   "outputs": [
    {
     "name": "stdout",
     "output_type": "stream",
     "text": [
      "[[[[[2 3 4]\n",
      "    [5 6 7]]]]]\n",
      "numbers of dimension = 5\n"
     ]
    }
   ],
   "source": [
    "# Higher dimensional array\n",
    "\n",
    "# 1-D, 2-D, 3-D are the most commonly used array types\n",
    "# but array can be of any dimension\n",
    "# number of dimensions can be assigned using ndmin argument\n",
    "\n",
    "ndim_arr = np.array([[2,3,4],[5,6,7]], ndmin=5)\n",
    "print(ndim_arr)\n",
    "print('numbers of dimension =',ndim_arr.ndim) "
   ]
  },
  {
   "cell_type": "markdown",
   "metadata": {},
   "source": [
    "### shape and size of an array"
   ]
  },
  {
   "cell_type": "code",
   "execution_count": 60,
   "metadata": {},
   "outputs": [
    {
     "name": "stdout",
     "output_type": "stream",
     "text": [
      "(2, 3)\n",
      "(4, 2, 3)\n",
      "(3,)\n"
     ]
    }
   ],
   "source": [
    "# shape --> returns tuple with shape of the array\n",
    "\n",
    "# two dimensional array\n",
    "sarr = np.array([[14,15,16],[20,23,26]])\n",
    "print(sarr.shape)  # Output represents that the array has 2 rows and 3 columns\n",
    "\n",
    "# three dimensional array\n",
    "tarr = np.array([[[14,15,16],[20,23,26]],[[14,15,16],[20,23,26]],[[14,15,16],[20,23,26]],[[14,15,16],[20,23,26]]])\n",
    "print(tarr.shape) # output represents that tha array has 4 block size and each layes has 2 rows and 3 columns\n",
    "\n",
    "# one dimensional array\n",
    "oarr = np.array([25,56,78])\n",
    "print(oarr.shape)  # output represents that the array has 1 row and 3 columns\n",
    "\n",
    "# for 1-D array the shape attribute returns the columns alone (ie.,(no.of.columns,))"
   ]
  },
  {
   "cell_type": "code",
   "execution_count": 188,
   "metadata": {},
   "outputs": [
    {
     "name": "stdout",
     "output_type": "stream",
     "text": [
      "\n",
      " [[ 1  2  3  4  5  6]\n",
      " [ 7  8  9 10 11 12]]\n",
      "\n",
      " [[[ 1  2  3]\n",
      "  [ 4  5  6]]\n",
      "\n",
      " [[ 7  8  9]\n",
      "  [10 11 12]]]\n",
      "\n",
      " [[ 1  2]\n",
      " [ 3  4]\n",
      " [ 5  6]\n",
      " [ 7  8]\n",
      " [ 9 10]\n",
      " [11 12]]\n",
      "\n",
      " [2 3 2 4 5 6 2 3 2 4 5 6]\n"
     ]
    }
   ],
   "source": [
    "# reshape --> process of changing the shape of an array\n",
    "\n",
    "# to reshape a array the number of elements should be equal to the product of rows and columns\n",
    "\n",
    "rsarr = np.arange(1,13)      # 12 elements in the array\n",
    "print('\\n',rsarr.reshape(2,6))    # 2-D array\n",
    "print('\\n',rsarr.reshape(2,2,3))  # 3-D array (product of block size, rows and column = no.of.elements)\n",
    "print('\\n',rsarr.reshape(6,-1))   # -1 solves itself for the unknown product \n",
    "\n",
    "rsarr2 = np.array([[[2,3],[2,4],[5,6]],[[2,3],[2,4],[5,6]]])\n",
    "print('\\n',rsarr2.reshape(-1))      # reshape(-1) flatternes the multidimensional array"
   ]
  },
  {
   "cell_type": "code",
   "execution_count": 68,
   "metadata": {},
   "outputs": [
    {
     "name": "stdout",
     "output_type": "stream",
     "text": [
      "6\n",
      "24\n",
      "3\n"
     ]
    }
   ],
   "source": [
    "# size --> returns int with the number of elements that an array has\n",
    "\n",
    "print(sarr.size)\n",
    "print(tarr.size)\n",
    "print(oarr.size)"
   ]
  },
  {
   "cell_type": "code",
   "execution_count": 25,
   "metadata": {},
   "outputs": [
    {
     "name": "stdout",
     "output_type": "stream",
     "text": [
      "Non transpose 2D matrix:\n",
      "[[2 3 4]\n",
      " [4 5 6]\n",
      " [7 8 9]]\n",
      "\n",
      "Transpose 2D matrix:\n",
      "[[2 4 7]\n",
      " [3 5 8]\n",
      " [4 6 9]]\n",
      "\n",
      "Non transpose 3D matrix:\n",
      "[[[ 1  2  3]\n",
      "  [ 4  5  6]]\n",
      "\n",
      " [[10 20 30]\n",
      "  [40 50 60]]]\n",
      "\n",
      "Transpose 3Dmatrix:\n",
      "[[[ 1 10]\n",
      "  [ 4 40]]\n",
      "\n",
      " [[ 2 20]\n",
      "  [ 5 50]]\n",
      "\n",
      " [[ 3 30]\n",
      "  [ 6 60]]]\n"
     ]
    }
   ],
   "source": [
    "# Creating a transpose of a array (transpose matrix)\n",
    "\n",
    "ar1 = np.array([[2,3,4],[4,5,6],[7,8,9]])\n",
    "print('Non transpose 2D matrix:')\n",
    "print(ar1)\n",
    "print('\\nTranspose 2D matrix:')\n",
    "print(ar1.T)\n",
    "\n",
    "# Tranpose can also be done three dimensional array\n",
    "\n",
    "ar2 = np.array([[[1,2,3],[4,5,6]],[[10,20,30],[40,50,60]]])\n",
    "print('\\nNon transpose 3D matrix:')\n",
    "print(ar2)\n",
    "print('\\nTranspose 3Dmatrix:')\n",
    "print(ar2.T)\n",
    "\n",
    "# 1D array cant be transposed because it is a scalar unit and its not a matrix"
   ]
  },
  {
   "cell_type": "markdown",
   "metadata": {},
   "source": [
    "### Basic oprations in an array\n"
   ]
  },
  {
   "cell_type": "code",
   "execution_count": 28,
   "metadata": {},
   "outputs": [],
   "source": [
    "# Array can handle all the element level and array level arithematic operation\n",
    "# For performing operation between two array the length of both array has to be same.\n",
    "\n",
    "oar1 = np.arange(5)\n",
    "oar2 = np.arange(6,11)\n"
   ]
  },
  {
   "cell_type": "code",
   "execution_count": 43,
   "metadata": {},
   "outputs": [
    {
     "name": "stdout",
     "output_type": "stream",
     "text": [
      "Addition of [0 1 2 3 4] and 2 is [2 3 4 5 6]\n",
      "Subtraction of [0 1 2 3 4] and 2 is [-2 -1  0  1  2]\n",
      "Multiplication of [0 1 2 3 4] and 2 is [0 2 4 6 8]\n",
      "Division of [0 1 2 3 4] and 2 is [0.  0.5 1.  1.5 2. ]\n",
      "Floor division of [0 1 2 3 4] and 2 is [0 0 1 1 2]\n",
      "Modulo of [0 1 2 3 4] and 2 is [0 1 0 1 0]\n",
      "[0 1 2 3 4] to the power of 2 is [ 0  1  4  9 16]\n"
     ]
    }
   ],
   "source": [
    "# Element level operation\n",
    "\n",
    "print(f'Addition of {oar1} and 2 is {oar1+2}')\n",
    "print(f'Subtraction of {oar1} and 2 is {oar1-2}')\n",
    "print(f'Multiplication of {oar1} and 2 is {oar1*2}')\n",
    "print(f'Division of {oar1} and 2 is {oar1/2}')\n",
    "print(f'Floor division of {oar1} and 2 is {oar1//2}')\n",
    "print(f'Modulo of {oar1} and 2 is {oar1%2}')\n",
    "print(f'{oar1} to the power of 2 is {oar1**2}')"
   ]
  },
  {
   "cell_type": "code",
   "execution_count": 37,
   "metadata": {},
   "outputs": [
    {
     "name": "stdout",
     "output_type": "stream",
     "text": [
      "Addition of [0 1 2 3 4] and [ 6  7  8  9 10] is [ 6  8 10 12 14]\n",
      "Subtraction of [0 1 2 3 4] and [ 6  7  8  9 10] is [-6 -6 -6 -6 -6]\n",
      "Multiplication of [0 1 2 3 4] and [ 6  7  8  9 10] is [ 0  7 16 27 40]\n",
      "Division of [0 1 2 3 4] and [ 6  7  8  9 10] is [0.         0.14285714 0.25       0.33333333 0.4       ]\n",
      "Floor division of [0 1 2 3 4] and [ 6  7  8  9 10] is [0 0 0 0 0]\n",
      "Modulo of [0 1 2 3 4] and [ 6  7  8  9 10] is [0 1 2 3 4]\n",
      "[0 1 2 3 4] power [ 6  7  8  9 10] is [      0       1     256   19683 1048576]\n"
     ]
    }
   ],
   "source": [
    "# Operation between array\n",
    "\n",
    "print(f'Addition of {oar1} and {oar2} is {oar1+oar2}')\n",
    "print(f'Subtraction of {oar1} and {oar2} is {oar1-oar2}')\n",
    "print(f'Multiplication of {oar1} and {oar2} is {oar1*oar2}')\n",
    "print(f'Division of {oar1} and {oar2} is {oar1/oar2}')\n",
    "print(f'Floor division of {oar1} and {oar2} is {oar1//oar2}')\n",
    "print(f'Modulo of {oar1} and {oar2} is {oar1%oar2}')\n",
    "print(f'{oar1} to the power {oar2} is {oar1**oar2}')"
   ]
  },
  {
   "cell_type": "code",
   "execution_count": 70,
   "metadata": {},
   "outputs": [
    {
     "name": "stdout",
     "output_type": "stream",
     "text": [
      "[[ 2  4  6]\n",
      " [ 8 10 12]\n",
      " [14 16 18]]\n",
      "[[ 5 10 15]\n",
      " [20 25 30]\n",
      " [35 40 45]]\n"
     ]
    }
   ],
   "source": [
    "# Scalar multiplication:\n",
    "\n",
    "scm1 = np.array([[1,2,3],[4,5,6],[7,8,9]])\n",
    "scm2 = np.zeros((3,3), dtype= int)+2\n",
    "print(scm1*scm2)\n",
    "print(scm1*5)\n",
    "# To perform scalar multiplication the number of rows and colums should be equal or it has to be single element\n",
    "# In scalar multiplication (3*5) and (5*8) is a ValueError"
   ]
  },
  {
   "cell_type": "code",
   "execution_count": 81,
   "metadata": {},
   "outputs": [
    {
     "name": "stdout",
     "output_type": "stream",
     "text": [
      "[[12 12 12]\n",
      " [30 30 30]\n",
      " [48 48 48]]\n",
      "\n",
      " (3, 8)\n"
     ]
    }
   ],
   "source": [
    "# Vector multiplication \n",
    "\n",
    "print(scm1.dot(scm2))\n",
    "# To perform vector multiplication no of columns in 1 array should match the no of rows in next array\n",
    "# Or it has to be single element\n",
    "# In vector multiplication (3*5) and (5*8) is (3*8)\n",
    "# Example:\n",
    "print('\\n',(np.zeros((3,5),dtype=int).dot(np.zeros((5,8),dtype=int))).shape)"
   ]
  },
  {
   "cell_type": "markdown",
   "metadata": {},
   "source": [
    "### Unary operation"
   ]
  },
  {
   "cell_type": "code",
   "execution_count": 12,
   "metadata": {},
   "outputs": [
    {
     "name": "stdout",
     "output_type": "stream",
     "text": [
      "Adding two array [11 22 33 44]\n",
      "Subtract two array [ 9 18 27 36]\n",
      "Multilpy two array [ 10  40  90 160]\n",
      "Divide two array [10. 10. 10. 10.]\n",
      "Power of array [     10     400   27000 2560000]\n",
      "Reminder of array using mod [0 0 0 0]\n",
      "Reminder of array using remainder [0 0 0 0]\n",
      "Quotient of array (array([10, 10, 10, 10]), array([0, 0, 0, 0]))\n",
      "Absolute of the array is [ 1  2  5  6  7  8 52]\n",
      "Mean value of the array is 13.75\n",
      "Median value of the array is 7.0\n",
      "Standard deviation value of the array is 13.77270852083932\n",
      "Variance value of the array is 189.6875\n"
     ]
    }
   ],
   "source": [
    "import numpy as np\n",
    "uar1 = np.array([10,20,30,40])\n",
    "uar2 = np.array([1,2,3,4])\n",
    "\n",
    "# To add two array using add function\n",
    "print('Adding two array',np.add(uar1,uar2))\n",
    "\n",
    "# To add subtract two array using subtract function\n",
    "print('Subtract two array',np.subtract(uar1,uar2))\n",
    "\n",
    "# To multiply two array using multiply function\n",
    "print('Multilpy two array',np.multiply(uar1,uar2))\n",
    "\n",
    "# To divide two array using divide function\n",
    "print('Divide two array',np.divide(uar1,uar2))\n",
    "\n",
    "# To power two array using power function\n",
    "print('Power of array',np.power(uar1,uar2))\n",
    "\n",
    "# To find the reminder of two array using remainder or mod function\n",
    "print('Reminder of array using mod',np.mod(uar1,uar2))\n",
    "print('Reminder of array using remainder',np.remainder(uar1,uar2))\n",
    "\n",
    "# To find the quotient of two array using divmod function\n",
    "print('Quotient of array',np.divmod(uar1,uar2))\n",
    "\n",
    "# To change the array to absolute array\n",
    "print('Absolute of the array is', np.absolute(np.array([-1,-2,-5,6,7,-8,-52])))\n",
    "\n",
    "# To find the mean of an array\n",
    "print('Mean value of the array is', np.mean((uar1, uar2)))\n",
    "\n",
    "# To find the meadian of an array\n",
    "print('Median value of the array is', np.median((uar1, uar2)))\n",
    "\n",
    "# To find the standard deviation of an array\n",
    "print('Standard deviation value of the array is', np.std((uar1, uar2)))\n",
    "\n",
    "# To find the variance of an array\n",
    "print('Variance value of the array is', np.var((uar1, uar2)))"
   ]
  },
  {
   "cell_type": "code",
   "execution_count": 87,
   "metadata": {},
   "outputs": [
    {
     "name": "stdout",
     "output_type": "stream",
     "text": [
      "Truncating 1.6251 is equal to 1.0\n",
      "Rounding of 2.322 and 2.866 is eqal to [2.3 2.9]\n",
      "Floor of 2.322 and 2.866 is eqal to [2. 2.]\n",
      "Ceil of 2.322 and 2.866 is eqal to [3 3]\n"
     ]
    }
   ],
   "source": [
    "# Rounding Decimals\n",
    "\n",
    "# Truncating the decimals\n",
    "print('Truncating 1.6251 is equal to', np.trunc(1.6251))\n",
    "\n",
    "# Rounding off to nearest decimal\n",
    "print('Rounding of 2.322 and 2.866 is eqal to', np.around((2.322,2.866), decimals=1))\n",
    "\n",
    "# Flooring the decimal\n",
    "print('Floor of 2.322 and 2.866 is eqal to', np.floor((2.322,2.866)))\n",
    "\n",
    "# Ceiling the decimal\n",
    "print('Ceil of 2.322 and 2.866 is eqal to', np.array(np.ceil((2.322,2.866)),dtype=int))"
   ]
  },
  {
   "cell_type": "markdown",
   "metadata": {},
   "source": [
    "### Indexing and slicing"
   ]
  },
  {
   "cell_type": "code",
   "execution_count": 97,
   "metadata": {},
   "outputs": [
    {
     "name": "stdout",
     "output_type": "stream",
     "text": [
      "Third index of an array is 40\n",
      "Last index of an array is 60\n",
      "Slicing from first to third index is [20 30 40]\n",
      "Reversing the array by slicing [60 50 40 30 20 10]\n",
      "Reversing slicing by step two [60 40 20]\n",
      "Reverse slicing the required elements [50 40 30]\n",
      "Reverse slicing the required elements [50 30]\n",
      "Slicing by step two [10 30 50]\n"
     ]
    }
   ],
   "source": [
    "# Indexing and slicing in 1D array\n",
    "iar1 = np.array([10,20,30,40,50,60])\n",
    "\n",
    "print('Third index of an array is',iar1[3])\n",
    "print('Last index of an array is',iar1[-1])\n",
    "print('Slicing from first to third index is',iar1[1:4])\n",
    "print('Reversing the array by slicing',iar1[::-1])\n",
    "print('Reversing slicing by step two',iar1[::-2])\n",
    "print('Reverse slicing the required elements',iar1[4:1:-1])\n",
    "print('Reverse slicing the required elements',iar1[-2:-5:-2])\n",
    "print('Slicing by step two',iar1[::2])"
   ]
  },
  {
   "cell_type": "code",
   "execution_count": 183,
   "metadata": {},
   "outputs": [
    {
     "name": "stdout",
     "output_type": "stream",
     "text": [
      "[[ 1  2  3  4]\n",
      " [ 5  6  7  8]\n",
      " [ 9 10 11 12]\n",
      " [13 14 15 16]]\n",
      "\n",
      "Indexing of matrix/2D array: \n",
      "Fourth element of first row is 4\n",
      "First element of second row is 5\n",
      "Last element of first row is 4\n",
      "Last element of second row is 8\n",
      "Last element of last row is 16\n",
      "\n",
      "Slicing of matrix/2D array: \n",
      "Slicing the first row of the matrix [[1 2 3 4]]\n",
      "Slicing the second row of the matrix [[5 6 7 8]]\n",
      "Slicing the fourth row of the matrix [[13 14 15 16]]\n",
      "Slicing the first two rows of the matrix\n",
      " [[1 2 3 4]\n",
      " [5 6 7 8]]\n",
      "Slicing the last two rows of the matrix\n",
      " [[ 9 10 11 12]\n",
      " [13 14 15 16]]\n",
      "Slicing third row 2nd element of the matrix [10]\n",
      "Slicing middle rows and middle element of the matrix\n",
      " [[ 6  7]\n",
      " [10 11]]\n",
      "Slicing second and fourth column of the matrix\n",
      " [[ 2  4]\n",
      " [ 6  8]\n",
      " [10 12]\n",
      " [14 16]]\n"
     ]
    }
   ],
   "source": [
    "# Indexing and slicing in 2D array\n",
    "\n",
    "iar2 = np.arange(1,17).reshape(4,4)\n",
    "print(iar2)\n",
    "\n",
    "# indexing\n",
    "print('\\nIndexing of matrix/2D array: ')\n",
    "print('Fourth element of first row is', iar2[0,3])\n",
    "print('First element of second row is', iar2[1,0])\n",
    "print('Last element of first row is', iar2[0,-1])\n",
    "print('Last element of second row is', iar2[1,-1])\n",
    "print('Last element of last row is', iar2[-1,-1])\n",
    "\n",
    "# slicing\n",
    "print('\\nSlicing of matrix/2D array: ')\n",
    "print('Slicing the first row of the matrix', iar2[:1])\n",
    "print('Slicing the second row of the matrix', iar2[1:2])\n",
    "print('Slicing the fourth row of the matrix', iar2[3:4])\n",
    "print('Slicing the first two rows of the matrix\\n', iar2[:2])\n",
    "print('Slicing the last two rows of the matrix\\n', iar2[-2:])\n",
    "print('Slicing third row 2nd element of the matrix', iar2[2:3,1])\n",
    "print('Slicing middle rows and middle element of the matrix\\n', iar2[1:3,1:3])\n",
    "print('Slicing second and fourth column of the matrix\\n', iar2[::,1::2])"
   ]
  },
  {
   "cell_type": "code",
   "execution_count": 190,
   "metadata": {},
   "outputs": [
    {
     "name": "stdout",
     "output_type": "stream",
     "text": [
      "Elements of the first diagonal are [ 0  7 14 21 28 35]\n",
      "Elements of the second diagonal are [ 5 10 15 20 25 30]\n"
     ]
    }
   ],
   "source": [
    "# Extracting the diagonal values from a matrix\n",
    "\n",
    "dnr = np.arange(36).reshape(6,6)\n",
    "print('Elements of the first diagonal are',dnr[(np.eye(6))==1])\n",
    "print('Elements of the second diagonal are',dnr[(np.eye(6)[::-1])==1])"
   ]
  },
  {
   "cell_type": "markdown",
   "metadata": {},
   "source": [
    "### Performing operation along the axis"
   ]
  },
  {
   "cell_type": "code",
   "execution_count": 15,
   "metadata": {},
   "outputs": [
    {
     "name": "stdout",
     "output_type": "stream",
     "text": [
      "[[ 0  1  2  3  4  5]\n",
      " [ 6  7  8  9 10 11]\n",
      " [12 13 14 15 16 17]\n",
      " [18 19 20 21 22 23]\n",
      " [24 25 26 27 28 29]\n",
      " [30 31 32 33 34 35]]\n",
      "\n",
      "Adding the elements in rows [ 15  51  87 123 159 195]\n",
      "Adding the elements in columns [ 90  96 102 108 114 120]\n"
     ]
    }
   ],
   "source": [
    "axa = np.arange(36).reshape(6,6)\n",
    "print(s)\n",
    "print('\\nAdding the elements in rows', np.sum(axa, axis=1))\n",
    "print('Adding the elements in columns', np.sum(axa, axis=0))"
   ]
  },
  {
   "cell_type": "markdown",
   "metadata": {},
   "source": [
    "### Iterating over the array"
   ]
  },
  {
   "cell_type": "code",
   "execution_count": 28,
   "metadata": {},
   "outputs": [
    {
     "name": "stdout",
     "output_type": "stream",
     "text": [
      "Printing row 1 = [0 1 2 3 4]\n",
      "Printing row 2 = [5 6 7 8 9]\n",
      "Printing row 3 = [10 11 12 13 14]\n",
      "Printing row 4 = [15 16 17 18 19]\n",
      "Printing row 5 = [20 21 22 23 24]\n"
     ]
    }
   ],
   "source": [
    "iar = np.arange(25).reshape(5,5)\n",
    "\n",
    "# printing the rows of the array\n",
    "cnt = 0\n",
    "for i in iar:\n",
    "    cnt += 1\n",
    "    print('Printing row '+str(cnt),'=',i)"
   ]
  },
  {
   "cell_type": "code",
   "execution_count": 30,
   "metadata": {},
   "outputs": [
    {
     "name": "stdout",
     "output_type": "stream",
     "text": [
      "[0, 1, 2, 3, 4, 5, 6, 7, 8, 9, 10, 11, 12, 13, 14, 15, 16, 17, 18, 19, 20, 21, 22, 23, 24]\n"
     ]
    }
   ],
   "source": [
    "# To store the elements of the array to a list\n",
    "lst = []\n",
    "for row in iar:\n",
    "    for ele in row:\n",
    "        lst.append(ele)\n",
    "print(lst)"
   ]
  },
  {
   "cell_type": "code",
   "execution_count": 46,
   "metadata": {},
   "outputs": [
    {
     "name": "stdout",
     "output_type": "stream",
     "text": [
      "10 is in the list\n",
      "20 is in the list\n",
      "\n",
      "10 is in the list\n",
      "20 is in the list\n"
     ]
    }
   ],
   "source": [
    "for i in iar:\n",
    "    for j in i:\n",
    "        if j in [10,20,30]:\n",
    "            print(j,'is in the list')\n",
    "print()            \n",
    "# ------ or use below code ----\n",
    "\n",
    "for i in iar.flatten():\n",
    "    if i in [10,20,30]:\n",
    "        print(i, 'is in the list')"
   ]
  },
  {
   "cell_type": "code",
   "execution_count": null,
   "metadata": {},
   "outputs": [],
   "source": []
  }
 ],
 "metadata": {
  "kernelspec": {
   "display_name": "Python 3",
   "language": "python",
   "name": "python3"
  },
  "language_info": {
   "codemirror_mode": {
    "name": "ipython",
    "version": 3
   },
   "file_extension": ".py",
   "mimetype": "text/x-python",
   "name": "python",
   "nbconvert_exporter": "python",
   "pygments_lexer": "ipython3",
   "version": "3.8.5"
  }
 },
 "nbformat": 4,
 "nbformat_minor": 4
}
