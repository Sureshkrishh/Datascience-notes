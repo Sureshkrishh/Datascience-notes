{
 "cells": [
  {
   "cell_type": "markdown",
   "metadata": {},
   "source": [
    "### QUICK REVISION NOTES 9"
   ]
  },
  {
   "cell_type": "markdown",
   "metadata": {},
   "source": [
    "## What is NumPy"
   ]
  },
  {
   "cell_type": "code",
   "execution_count": null,
   "metadata": {},
   "outputs": [],
   "source": [
    "# NumPy stands for numerical python, which is used for working with arrays\n",
    "# An array is a collection of items stored at contiguous memory locations.\n",
    "# They are called as ndarrays (n-dimensional arrays)\n",
    "# The idea is to store multiple items of the same type together."
   ]
  },
  {
   "cell_type": "markdown",
   "metadata": {},
   "source": [
    "### Why is NumPy array is faster than list"
   ]
  },
  {
   "cell_type": "code",
   "execution_count": null,
   "metadata": {},
   "outputs": [],
   "source": [
    "# NumPy aims to provide an array object that is up to 50x faster than traditional Python lists.\n",
    "# NumPy is capable of storing only the homogeneous datatypes in contiguous memory location.\n",
    "# This makes the calculation / processing faster in numpy\n",
    "# But list is only capabale of storing hetrogeneous datatypes in non-contigious memory location."
   ]
  },
  {
   "cell_type": "markdown",
   "metadata": {},
   "source": [
    "### Importing and using numpy"
   ]
  },
  {
   "cell_type": "code",
   "execution_count": 12,
   "metadata": {},
   "outputs": [
    {
     "name": "stdout",
     "output_type": "stream",
     "text": [
      "1.19.2\n",
      "623\n"
     ]
    }
   ],
   "source": [
    "import numpy as np     # Importing numpy library\n",
    "print(np.__version__)  # To check numpy version\n",
    "print(len(dir(np)))    # number of functions available within numpy"
   ]
  },
  {
   "cell_type": "code",
   "execution_count": 15,
   "metadata": {},
   "outputs": [
    {
     "name": "stdout",
     "output_type": "stream",
     "text": [
      "[20 30 40]\n",
      "int64\n",
      "<class 'numpy.ndarray'>\n"
     ]
    }
   ],
   "source": [
    "arr = np.array([20,30,40])  # craeting a numpy array\n",
    "print(arr)\n",
    "print(arr.dtype)  # to check the datatype of the array\n",
    "print(type(arr))  # tells us the type of the object passed to it"
   ]
  },
  {
   "cell_type": "markdown",
   "metadata": {},
   "source": [
    "### upcasting"
   ]
  },
  {
   "cell_type": "code",
   "execution_count": null,
   "metadata": {},
   "outputs": [],
   "source": [
    "# when a numpy array consist of elements of different datatype upcasting can be done\n",
    "# Upcasting is the process of converting all the elements of the array to higher oreder element\n",
    "# The upcasting hireracy follows int --> float --> complex --> object\n",
    "# Upcasting happens automatically in NumPy and that can also be user contolled\n",
    "\n",
    "# NumPy has following datatypes that can be assigned when declaring an array\n",
    "    # i - integer (i1 - int8, i2 - int16, i4 - int32, i8 - int64)\n",
    "    # b - boolean\n",
    "    # u - unsigned integer\n",
    "    # f - float\n",
    "    # c - complex\n",
    "    # m - timedelta\n",
    "    # M - datetime\n",
    "    # O - object\n",
    "    # S - string\n",
    "    # U - unicode string\n",
    "    # V - fixed chunk of memory for other type ( void )\n",
    "    \n",
    "# For i, u, f, S and U we can define size as well. (ie., i4, u8 etc..)\n",
    "# i4 represents 4byte integer"
   ]
  },
  {
   "cell_type": "code",
   "execution_count": 41,
   "metadata": {},
   "outputs": [
    {
     "name": "stdout",
     "output_type": "stream",
     "text": [
      "[20.  30.  25.6 56. ] float64\n",
      "[20 30 25 56] int16\n"
     ]
    }
   ],
   "source": [
    "lst = [20, 30, 25.6, 56]         # Hetrogeneous list contains int and float\n",
    "farr = np.array(lst)             # creating numpy array\n",
    "iarr = np.array(lst, dtype='i2') # creating numpy array of int datatype with hetrogeneous list object\n",
    "sarr = np.array(lst, dtype='S')  # creating numpy array of string datatype with hetrogeneous list object\n",
    "print(farr, farr.dtype)          # Automatic upcasting happened\n",
    "print(iarr, iarr.dtype)          # Manual upcasting to int\n",
    "print(sarr, sarr.dtype)          # Manual upcasting to string"
   ]
  },
  {
   "cell_type": "code",
   "execution_count": 50,
   "metadata": {},
   "outputs": [
    {
     "name": "stdout",
     "output_type": "stream",
     "text": [
      "[20.  30.  25.6 56. ] float64\n"
     ]
    }
   ],
   "source": [
    "# converting datatype of existing array\n",
    "\n",
    "carr = sarr.astype('f8')  # use as type to change the datatype of exixting array\n",
    "print(carr, carr.dtype)"
   ]
  },
  {
   "cell_type": "code",
   "execution_count": null,
   "metadata": {},
   "outputs": [],
   "source": []
  },
  {
   "cell_type": "code",
   "execution_count": null,
   "metadata": {},
   "outputs": [],
   "source": []
  },
  {
   "cell_type": "code",
   "execution_count": null,
   "metadata": {},
   "outputs": [],
   "source": []
  }
 ],
 "metadata": {
  "kernelspec": {
   "display_name": "Python 3",
   "language": "python",
   "name": "python3"
  },
  "language_info": {
   "codemirror_mode": {
    "name": "ipython",
    "version": 3
   },
   "file_extension": ".py",
   "mimetype": "text/x-python",
   "name": "python",
   "nbconvert_exporter": "python",
   "pygments_lexer": "ipython3",
   "version": "3.8.5"
  }
 },
 "nbformat": 4,
 "nbformat_minor": 4
}
