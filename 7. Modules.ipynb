{
 "cells": [
  {
   "cell_type": "markdown",
   "metadata": {},
   "source": [
    "### QUICK REVISION NOTES 7"
   ]
  },
  {
   "cell_type": "markdown",
   "metadata": {},
   "source": [
    "### Module"
   ]
  },
  {
   "cell_type": "code",
   "execution_count": 4,
   "metadata": {},
   "outputs": [],
   "source": [
    "# Any python file written and that can be executed is called as module.\n",
    "# There are lot of builtin modules in python. User defined modules can also be created.\n",
    "\n",
    "# Example\n",
    "import math\n",
    "import random\n",
    "import datetime\n",
    "import statistics   # These are all the some in built modules in python written in 'C language'\n",
    "\n",
    "# Specific sub module or function inside a module can also be imported\n",
    "from math import sqrt\n",
    "from math import sqrt, pi, tan # importing multiple module"
   ]
  },
  {
   "cell_type": "markdown",
   "metadata": {},
   "source": [
    "### Creating and importing user defined module"
   ]
  },
  {
   "cell_type": "code",
   "execution_count": 5,
   "metadata": {},
   "outputs": [],
   "source": [
    "# 1. create a 'file_name.py' (ex: trail.py). executable file if __name__ == '__main__'\n",
    "\n",
    "    # Example\n",
    "\n",
    "        # def ud_sum():\n",
    "        #     x = int(input('Enter first number: '))\n",
    "        #     y = int(input('Enter second number: '))\n",
    "        #     z = x+y\n",
    "        #     print(z)\n",
    "        # print(__name__)\n",
    "        #\n",
    "        #def ud_sub():\n",
    "        #     x = int(input('Enter first number: '))\n",
    "        #     y = int(input('Enter second number: '))\n",
    "        #     if x>y:\n",
    "        #          z = x-y\n",
    "        #          print(z)\n",
    "        #     else\n",
    "        #          z = y-x\n",
    "        #          print(z)\n",
    "        #  \n",
    "        # if __name__ == '__main__':\n",
    "        #     ud_sum()\n",
    "        # if __name__ == '__main__':\n",
    "        #     ud_sub()\n",
    "        \n",
    "        \n",
    "# 2. save the executable file with some name. (ie. trail.py)\n",
    "# 3. open a new file in the same loction where the executable file is saved\n",
    "# 4. In the new file open the existing file and import the module using import\n",
    "\n",
    "    # Example\n",
    "    \n",
    "        # print(__name__)   ---> this will return '__main__'\n",
    "        # import trail      ---> this will return the file file name when imported"
   ]
  },
  {
   "cell_type": "code",
   "execution_count": 6,
   "metadata": {},
   "outputs": [
    {
     "name": "stdout",
     "output_type": "stream",
     "text": [
      "['__builtins__', '__cached__', '__doc__', '__file__', '__loader__', '__name__', '__package__', '__spec__', 'ud_sub', 'ud_sum']\n"
     ]
    }
   ],
   "source": [
    "import trail\n",
    "print(dir(trail))   # to view all the functions inside the module."
   ]
  },
  {
   "cell_type": "code",
   "execution_count": 9,
   "metadata": {},
   "outputs": [
    {
     "name": "stdout",
     "output_type": "stream",
     "text": [
      "Enter first number: 56\n",
      "Enter second number: 6\n",
      "62\n"
     ]
    }
   ],
   "source": [
    "trail.ud_sum()"
   ]
  },
  {
   "cell_type": "code",
   "execution_count": 27,
   "metadata": {},
   "outputs": [
    {
     "name": "stdout",
     "output_type": "stream",
     "text": [
      "Enter first number: 56\n",
      "Enter second number: 6\n",
      "50\n"
     ]
    }
   ],
   "source": [
    "trail.ud_sub()"
   ]
  },
  {
   "cell_type": "markdown",
   "metadata": {},
   "source": [
    "### Importing builtins of python"
   ]
  },
  {
   "cell_type": "code",
   "execution_count": 11,
   "metadata": {},
   "outputs": [
    {
     "name": "stdout",
     "output_type": "stream",
     "text": [
      "['__doc__', '__file__', '__loader__', '__name__', '__package__', '__spec__', 'acos', 'acosh', 'asin', 'asinh', 'atan', 'atan2', 'atanh', 'ceil', 'comb', 'copysign', 'cos', 'cosh', 'degrees', 'dist', 'e', 'erf', 'erfc', 'exp', 'expm1', 'fabs', 'factorial', 'floor', 'fmod', 'frexp', 'fsum', 'gamma', 'gcd', 'hypot', 'inf', 'isclose', 'isfinite', 'isinf', 'isnan', 'isqrt', 'ldexp', 'lgamma', 'log', 'log10', 'log1p', 'log2', 'modf', 'nan', 'perm', 'pi', 'pow', 'prod', 'radians', 'remainder', 'sin', 'sinh', 'sqrt', 'tan', 'tanh', 'tau', 'trunc']\n",
      "\n",
      "['In', 'Out', '_', '__', '___', '__builtin__', '__builtins__', '__doc__', '__loader__', '__name__', '__package__', '__spec__', '_dh', '_i', '_i1', '_i10', '_i11', '_i2', '_i3', '_i4', '_i5', '_i6', '_i7', '_i8', '_i9', '_ih', '_ii', '_iii', '_oh', 'acos', 'acosh', 'asin', 'asinh', 'atan', 'atan2', 'atanh', 'ceil', 'comb', 'copysign', 'cos', 'cosh', 'datetime', 'degrees', 'dist', 'e', 'erf', 'erfc', 'exit', 'exp', 'expm1', 'fabs', 'factorial', 'floor', 'fmod', 'frexp', 'fsum', 'gamma', 'gcd', 'get_ipython', 'hypot', 'inf', 'isclose', 'isfinite', 'isinf', 'isnan', 'isqrt', 'ldexp', 'lgamma', 'log', 'log10', 'log1p', 'log2', 'math', 'modf', 'nan', 'perm', 'pi', 'pow', 'prod', 'quit', 'radians', 'random', 'remainder', 'sin', 'sinh', 'sqrt', 'statistics', 'tan', 'tanh', 'tau', 'trail', 'trunc']\n"
     ]
    }
   ],
   "source": [
    "import math      # This will import the math module\n",
    "print(dir(math)) # This will print all function inside the imported module. syntax - print(dir(module_name))\n",
    "print()\n",
    "print(dir())     # This will print all the function and modules that are currently imported"
   ]
  },
  {
   "cell_type": "code",
   "execution_count": 12,
   "metadata": {},
   "outputs": [
    {
     "name": "stdout",
     "output_type": "stream",
     "text": [
      "4.795831523312719\n",
      "3.141592653589793\n",
      "23\n",
      "2.302585092994046\n"
     ]
    }
   ],
   "source": [
    "# To use the particular function within the module\n",
    "\n",
    "print(math.sqrt(23))     \n",
    "print(math.pi)\n",
    "print(math.floor(23.67))\n",
    "print(math.log(10))\n",
    "\n",
    "# these are the functions available within the math module\n",
    "# they can be accesed by using 'math.function_name()' when math is simply imported"
   ]
  },
  {
   "cell_type": "code",
   "execution_count": 13,
   "metadata": {},
   "outputs": [
    {
     "name": "stdout",
     "output_type": "stream",
     "text": [
      "4.795831523312719\n",
      "3.141592653589793\n",
      "23\n",
      "2.302585092994046\n"
     ]
    }
   ],
   "source": [
    "# To use the function directly without using the module name\n",
    "\n",
    "from math import * # This will import all the function in math\n",
    "print(sqrt(23))\n",
    "print(pi)\n",
    "print(floor(23.67))\n",
    "print(log(10))\n",
    "\n",
    "# These functions are used directly without using module name before function call."
   ]
  },
  {
   "cell_type": "code",
   "execution_count": 2,
   "metadata": {},
   "outputs": [
    {
     "name": "stdout",
     "output_type": "stream",
     "text": [
      "3.141592653589793\n"
     ]
    }
   ],
   "source": [
    "# To use particular function from a module\n",
    "\n",
    "from math import pi \n",
    "# now only the imported fnction will be available, other function are not available.\n",
    "\n",
    "# print(sqrt(8)) ---> This will give name error since other modules of matha are not available.\n",
    "print(pi)"
   ]
  },
  {
   "cell_type": "code",
   "execution_count": 26,
   "metadata": {},
   "outputs": [
    {
     "name": "stdout",
     "output_type": "stream",
     "text": [
      "2.23606797749979\n",
      "404\n"
     ]
    }
   ],
   "source": [
    "# Aliasing -  To rename a function during usage\n",
    "\n",
    "import math as m\n",
    "from math import sqrt as s, pi as p, floor as fl\n",
    "import random as rd\n",
    "print(m.sqrt(5))\n",
    "print(rd.getrandbits(10))"
   ]
  }
 ],
 "metadata": {
  "kernelspec": {
   "display_name": "Python 3",
   "language": "python",
   "name": "python3"
  },
  "language_info": {
   "codemirror_mode": {
    "name": "ipython",
    "version": 3
   },
   "file_extension": ".py",
   "mimetype": "text/x-python",
   "name": "python",
   "nbconvert_exporter": "python",
   "pygments_lexer": "ipython3",
   "version": "3.8.5"
  }
 },
 "nbformat": 4,
 "nbformat_minor": 4
}
