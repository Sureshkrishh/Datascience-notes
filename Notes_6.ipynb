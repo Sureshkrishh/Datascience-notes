{
 "cells": [
  {
   "cell_type": "markdown",
   "metadata": {},
   "source": [
    "## QUICK REVISION NOTES 6"
   ]
  },
  {
   "cell_type": "markdown",
   "metadata": {},
   "source": [
    "### Functions"
   ]
  },
  {
   "cell_type": "raw",
   "metadata": {},
   "source": [
    "- Function is a block of code that runs only when its called.\n",
    "- Function is used to avoid the repetation of code.\n",
    "- To define a function we use 'def' followed by function name.\n",
    "- The code written below the function definition has to intended properly.\n",
    "\n",
    "- syntax:\n",
    "      def function_name():\n",
    "          code\n",
    "          code\n",
    "\n",
    "- Function definition is not function execution.\n",
    "- To execute a function it has to be called by its name."
   ]
  },
  {
   "cell_type": "code",
   "execution_count": 3,
   "metadata": {},
   "outputs": [
    {
     "name": "stdout",
     "output_type": "stream",
     "text": [
      "Enter first number: 23\n",
      "Enter second number: 7\n",
      "Sum of 23 and 7 is 30\n"
     ]
    }
   ],
   "source": [
    "# Example\n",
    "# - Function to add two user defined numbers\n",
    "\n",
    "def addition():\n",
    "    x = int(input('Enter first number: '))\n",
    "    y = int(input('Enter second number: '))\n",
    "    print(f'Sum of {x} and {y} is {x+y}')       # Till this point everthing is function definition\n",
    "    \n",
    "    \n",
    "addition()   # executing the function by calling its name (function execution)"
   ]
  },
  {
   "cell_type": "code",
   "execution_count": null,
   "metadata": {},
   "outputs": [],
   "source": []
  },
  {
   "cell_type": "code",
   "execution_count": null,
   "metadata": {},
   "outputs": [],
   "source": []
  }
 ],
 "metadata": {
  "kernelspec": {
   "display_name": "Python 3",
   "language": "python",
   "name": "python3"
  },
  "language_info": {
   "codemirror_mode": {
    "name": "ipython",
    "version": 3
   },
   "file_extension": ".py",
   "mimetype": "text/x-python",
   "name": "python",
   "nbconvert_exporter": "python",
   "pygments_lexer": "ipython3",
   "version": "3.8.5"
  }
 },
 "nbformat": 4,
 "nbformat_minor": 4
}
