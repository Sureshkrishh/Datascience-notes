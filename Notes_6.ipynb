{
 "cells": [
  {
   "cell_type": "markdown",
   "metadata": {},
   "source": [
    "## QUICK REVISION NOTES 6"
   ]
  },
  {
   "cell_type": "markdown",
   "metadata": {},
   "source": [
    "### Functions"
   ]
  },
  {
   "cell_type": "code",
   "execution_count": 1,
   "metadata": {},
   "outputs": [],
   "source": [
    "# - Function is a block of code that runs only when its called.\n",
    "# - Function is used to avoid the repetation of code.\n",
    "# - To define a function we use 'def' followed by function name.\n",
    "# - The code written below the function definition has to intended properly.\n",
    "\n",
    "# - syntax:\n",
    "#       def function_name():\n",
    "#           code\n",
    "#           code\n",
    "\n",
    "# - Function definition is not function execution.\n",
    "# - To execute a function it has to be called by its name."
   ]
  },
  {
   "cell_type": "code",
   "execution_count": 2,
   "metadata": {},
   "outputs": [
    {
     "name": "stdout",
     "output_type": "stream",
     "text": [
      "Enter first number: 23\n",
      "Enter second number: 8\n",
      "Sum of 23 and 8 is 31\n"
     ]
    }
   ],
   "source": [
    "# Example\n",
    "# - Function to add two user defined numbers\n",
    "\n",
    "def addition():\n",
    "    x = int(input('Enter first number: '))\n",
    "    y = int(input('Enter second number: '))\n",
    "    print(f'Sum of {x} and {y} is {x+y}')       # Till this point everthing is function definition\n",
    "    \n",
    "    \n",
    "addition()   # executing the function by calling its name (function execution)"
   ]
  },
  {
   "cell_type": "code",
   "execution_count": null,
   "metadata": {},
   "outputs": [],
   "source": [
    "# Input to the functions:\n",
    "\n",
    "def mult(a, b):       # parameters\n",
    "    print(a*b)\n",
    "    \n",
    "num1 = int(input('Enter first number: '))\n",
    "num2 = int(input('Enter second number: '))\n",
    "mult(num1, num2)      # arguments\n",
    "\n",
    "# parameter - Variable listed during function definition is parameter\n",
    "# argument - value sent into function when its called.\n",
    "\n",
    "# parameters and arguments are used inter-changeably"
   ]
  },
  {
   "cell_type": "code",
   "execution_count": null,
   "metadata": {},
   "outputs": [],
   "source": [
    "# Positional argument / parameter\n",
    "\n",
    "# - in positional argument, number of argument and the parameter should count the same.\n",
    "# - If the function is defined as \"def value(a, b)\" then function call sholud have two variable.\n",
    "# - The values can be anything but number of argument and parameter should count equal."
   ]
  },
  {
   "cell_type": "code",
   "execution_count": 4,
   "metadata": {},
   "outputs": [
    {
     "name": "stdout",
     "output_type": "stream",
     "text": [
      "Enter the first number: 19\n",
      "Enter the second number: 10\n",
      "Enter the third number: 3\n",
      "The result of the operation is 12\n"
     ]
    }
   ],
   "source": [
    "# keyworded argument - Assigning paramater to argumet based on condition is keyworded argument\n",
    "\n",
    "def operation(a, b, c):\n",
    "    z = (a-b)+c\n",
    "    print(f'The result of the operation is {z}')\n",
    "\n",
    "    \n",
    "inp1 = int(input('Enter the first number: '))\n",
    "inp2 = int(input('Enter the second number: '))\n",
    "inp3 = int(input('Enter the third number: '))\n",
    "if inp1>inp2:\n",
    "    operation(a=inp1, b=inp2, c= inp3)  # Assigning paramater to argumet based on condition\n",
    "else:\n",
    "    operation(a=inp2, b=inp1, c= inp3) # Assigning paramater to argumet based on condition"
   ]
  },
  {
   "cell_type": "code",
   "execution_count": 10,
   "metadata": {},
   "outputs": [
    {
     "name": "stdout",
     "output_type": "stream",
     "text": [
      "Enter the first number: 10\n",
      "Enter the second number: 2\n",
      "20\n",
      "40\n",
      "800\n"
     ]
    }
   ],
   "source": [
    "# Default parameter\n",
    "\n",
    "def product(a, b=1, c=1, d=1):\n",
    "    res = a*b*c*d\n",
    "    print(res)\n",
    "    \n",
    "us1 = int(input('Enter the first number: '))\n",
    "us2 = int(input('Enter the second number: '))\n",
    "product(us1, us2)           # Its user preference to pass the number of arguments\n",
    "product(us1, us2, 2)        # Minimum one argument has to be passed\n",
    "product(us1, us2, 2, 20)    # Default parameter should be written after positional parameter"
   ]
  },
  {
   "cell_type": "code",
   "execution_count": 16,
   "metadata": {},
   "outputs": [
    {
     "name": "stdout",
     "output_type": "stream",
     "text": [
      "hello suresh, Good morning!\n",
      "hello suresh, how do you do!\n"
     ]
    }
   ],
   "source": [
    "# Default parameter\n",
    "\n",
    "def welcome(name, msg='Good morning!'):\n",
    "    print('hello', name+',', msg)\n",
    "welcome('suresh')                      # Default parameter is used when its not defined in the argument\n",
    "welcome('suresh', 'how do you do!')    # User defined argument is used in place of default argument"
   ]
  },
  {
   "cell_type": "code",
   "execution_count": 37,
   "metadata": {},
   "outputs": [],
   "source": [
    "# Variable length argument. (Arbitary arguments)\n",
    "\n",
    "# - Value passed by the user will be taken in form of tuple\n",
    "# - It is used to process large dataset\n",
    "\n",
    "def greet(*args):   # (*args) can be replaced with (*anything)\n",
    "    names = eval(input('Enter the names: '))\n",
    "    for i in names:\n",
    "        print('welcome', i)\n",
    "        \n",
    "def total(*addition):   \n",
    "    num = eval(input('Enter the number to add: '))\n",
    "    c = 0\n",
    "    for i in num:\n",
    "        c += i\n",
    "    print('The sum of the entered number is',c)"
   ]
  },
  {
   "cell_type": "code",
   "execution_count": 35,
   "metadata": {},
   "outputs": [
    {
     "name": "stdout",
     "output_type": "stream",
     "text": [
      "Enter the names: 'Saraswathi', 'Krishna', 'mukundh'\n",
      "welcome Saraswathi\n",
      "welcome Krishna\n",
      "welcome mukundh\n"
     ]
    }
   ],
   "source": [
    "greet()"
   ]
  },
  {
   "cell_type": "code",
   "execution_count": 39,
   "metadata": {},
   "outputs": [
    {
     "name": "stdout",
     "output_type": "stream",
     "text": [
      "Enter the number to add: 10,20,30,40\n",
      "The sum of the entered number is 100\n"
     ]
    }
   ],
   "source": [
    "total()"
   ]
  },
  {
   "cell_type": "code",
   "execution_count": 45,
   "metadata": {},
   "outputs": [],
   "source": [
    "# variable length keyworded argument. (Arbitary arguments)\n",
    "\n",
    "# - Value passed by the user will be taken in form of dictionary\n",
    "\n",
    "def employee(**args):  # (**args) can be replaced with (**anything)\n",
    "    print(args, type(args))\n",
    "    print()\n",
    "    for i in args:\n",
    "        print(i, args[i], sep=' ----> ')\n",
    "        \n",
    "# In variable length keyworded argument the paramenter will be taken as key\n",
    "# the argument is taken as value and it becomes a pair"
   ]
  },
  {
   "cell_type": "code",
   "execution_count": 46,
   "metadata": {},
   "outputs": [
    {
     "name": "stdout",
     "output_type": "stream",
     "text": [
      "{'name': 'suresh', 'age': 23, 'gender': 'male'} <class 'dict'>\n",
      "\n",
      "name ----> suresh\n",
      "age ----> 23\n",
      "gender ----> male\n"
     ]
    }
   ],
   "source": [
    "employee(name='suresh', age=23, gender='male')"
   ]
  },
  {
   "cell_type": "code",
   "execution_count": 48,
   "metadata": {},
   "outputs": [
    {
     "name": "stdout",
     "output_type": "stream",
     "text": [
      "10\n"
     ]
    }
   ],
   "source": [
    "# Output to the function\n",
    "\n",
    "# 'return' statement is used to return value for the function\n",
    "\n",
    "def my_func(x):\n",
    "    return x*5      # This will not print the output if not typecasted with 'print'\n",
    "\n",
    "my_func(10)         # This will print nothing\n",
    "print(my_func(2))   # Output value of the return statement will be printed"
   ]
  },
  {
   "cell_type": "code",
   "execution_count": 6,
   "metadata": {},
   "outputs": [
    {
     "name": "stdout",
     "output_type": "stream",
     "text": [
      "Product of the numbers is 40\n",
      "\n",
      "Using lambda function inside a function\n",
      "22\n",
      "33\n"
     ]
    }
   ],
   "source": [
    "# Anonymous function\n",
    "\n",
    "# - Function without any name will be expressed by lambda and called as anonymous function\n",
    "# - syntax: var = lambda var1, var2, varn : expr\n",
    "# - lambda function has to be assigned to a variable to print the output\n",
    "# - lambda function can take any number of argument, but can have only one expression.\n",
    "\n",
    "# Example:\n",
    "\n",
    "lfunc = lambda x1, x2, x3: x1*x2*x3\n",
    "print('Product of the numbers is',lfunc(10,2,2))\n",
    "\n",
    "print('\\nUsing lambda function inside a function')\n",
    "def value_n(n):\n",
    "    return lambda a: a*n\n",
    "\n",
    "my_doubler = value_n(2)\n",
    "my_trippler = value_n(3)\n",
    "\n",
    "print(my_doubler(11))\n",
    "print(my_trippler(11))"
   ]
  },
  {
   "cell_type": "code",
   "execution_count": 33,
   "metadata": {},
   "outputs": [
    {
     "name": "stdout",
     "output_type": "stream",
     "text": [
      "Numbers in range that are not odd are (10, 12, 14, 16, 18, 20)\n",
      "\n",
      "Enter list of names to check: 'leclerc', 'vettel', 'lando', 'ricardo', 'carlos', 'hamilton'\n",
      "Name that are not in the champions list are ['leclerc', 'lando', 'ricardo', 'carlos']\n"
     ]
    }
   ],
   "source": [
    "# Filter function\n",
    "\n",
    "# This filter function is used to filter a sequence.\n",
    "# The filter returns the value of the function that holds true for the expression.\n",
    "# The input is not altered, instead a new object is created that can be assigned to a variable.\n",
    "# sytax: filter(func, seq) --> This will return filter object use print to get output.\n",
    "\n",
    "lst = list(range(10,21))\n",
    "new_lst = tuple(filter(lambda i: i%2==0, lst))\n",
    "print('Numbers in range that are not odd are',new_lst)\n",
    "print()\n",
    "\n",
    "clst = eval(input('Enter list of names to check: '))\n",
    "nlst = ['vettel', 'hamilton', 'nico', 'verstapen', 'lauda', 'james','fernando', 'schumi']\n",
    "cklst = list(filter(lambda x: x not in nlst, clst))\n",
    "print('Name that are not in the champions list are',cklst)"
   ]
  },
  {
   "cell_type": "code",
   "execution_count": 39,
   "metadata": {},
   "outputs": [
    {
     "name": "stdout",
     "output_type": "stream",
     "text": [
      "[5, 6, 7, 8, 9, 10, 11, 12, 13, 14, 15]\n",
      "\n",
      "[0, 2, 4, 6, 8, 10, 12, 14, 16, 18, 20]\n"
     ]
    }
   ],
   "source": [
    "# Map function:\n",
    "\n",
    "# Map is used to map every element of the sequence to some value.\n",
    "# The length of the sequence will be constant.\n",
    "# The input is not altered, instead a new object is created that can be assigned to a variable.\n",
    "# sytax: map(func, seq) --> This will return map object use print to get output.\n",
    "\n",
    "rlst = list(range(10,31,2))\n",
    "mlst = list(map(lambda i: int(i/2), rlst))\n",
    "print(mlst)\n",
    "print()\n",
    "\n",
    "# When two sequence of different is maped, the output will have the length equal to small sequnce length\n",
    "t1 = list(range(11))\n",
    "t2 = list(range(31))\n",
    "out = list(map(lambda i, j: i+j, t1,t2))\n",
    "print(out)"
   ]
  },
  {
   "cell_type": "code",
   "execution_count": 48,
   "metadata": {},
   "outputs": [
    {
     "name": "stdout",
     "output_type": "stream",
     "text": [
      "2450\n",
      "200\n"
     ]
    }
   ],
   "source": [
    "# Reduce\n",
    "\n",
    "# Its is used to reduce a sequence down to a single value.\n",
    "# reduce is a module and has to be imorted before using\n",
    "# from functools import reduce\n",
    "\n",
    "from functools import reduce\n",
    "rd  = list(range(2, 100, 2))\n",
    "ttl = reduce(lambda i, y: i+y, rd)\n",
    "print(ttl)\n",
    "\n",
    "# In dictionary\n",
    "dctt = {1:100, 2:200, 3:300, 4:400}\n",
    "out = reduce(lambda x, j: j-x,dctt.values())\n",
    "print(out)"
   ]
  },
  {
   "cell_type": "code",
   "execution_count": null,
   "metadata": {},
   "outputs": [],
   "source": []
  }
 ],
 "metadata": {
  "kernelspec": {
   "display_name": "Python 3",
   "language": "python",
   "name": "python3"
  },
  "language_info": {
   "codemirror_mode": {
    "name": "ipython",
    "version": 3
   },
   "file_extension": ".py",
   "mimetype": "text/x-python",
   "name": "python",
   "nbconvert_exporter": "python",
   "pygments_lexer": "ipython3",
   "version": "3.8.5"
  }
 },
 "nbformat": 4,
 "nbformat_minor": 4
}
