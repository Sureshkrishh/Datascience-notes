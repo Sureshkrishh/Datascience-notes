{
 "cells": [
  {
   "cell_type": "markdown",
   "metadata": {},
   "source": [
    "## QUICK REVISION NOTES 6"
   ]
  },
  {
   "cell_type": "markdown",
   "metadata": {},
   "source": [
    "### Functions"
   ]
  },
  {
   "cell_type": "code",
   "execution_count": 1,
   "metadata": {},
   "outputs": [],
   "source": [
    "# - Function is a block of code that runs only when its called.\n",
    "# - Function is used to avoid the repetation of code.\n",
    "# - To define a function we use 'def' followed by function name.\n",
    "# - The code written below the function definition has to intended properly.\n",
    "\n",
    "# - syntax:\n",
    "#       def function_name():\n",
    "#           code\n",
    "#           code\n",
    "\n",
    "# - Function definition is not function execution.\n",
    "# - To execute a function it has to be called by its name."
   ]
  },
  {
   "cell_type": "code",
   "execution_count": 2,
   "metadata": {},
   "outputs": [
    {
     "name": "stdout",
     "output_type": "stream",
     "text": [
      "Enter first number: 23\n",
      "Enter second number: 8\n",
      "Sum of 23 and 8 is 31\n"
     ]
    }
   ],
   "source": [
    "# Example\n",
    "# - Function to add two user defined numbers\n",
    "\n",
    "def addition():\n",
    "    x = int(input('Enter first number: '))\n",
    "    y = int(input('Enter second number: '))\n",
    "    print(f'Sum of {x} and {y} is {x+y}')       # Till this point everthing is function definition\n",
    "    \n",
    "    \n",
    "addition()   # executing the function by calling its name (function execution)"
   ]
  },
  {
   "cell_type": "code",
   "execution_count": null,
   "metadata": {},
   "outputs": [],
   "source": [
    "# Input to the functions:\n",
    "\n",
    "def mult(a, b):       # parameters\n",
    "    print(a*b)\n",
    "    \n",
    "num1 = int(input('Enter first number: '))\n",
    "num2 = int(input('Enter second number: '))\n",
    "mult(num1, num2)      # arguments\n",
    "\n",
    "# parameter - Variable listed during function definition is parameter\n",
    "# argument - value sent into function when its called.\n",
    "\n",
    "# parameters and arguments are used inter-changeably"
   ]
  },
  {
   "cell_type": "code",
   "execution_count": null,
   "metadata": {},
   "outputs": [],
   "source": [
    "# Positional argument / parameter\n",
    "\n",
    "# - in positional argument, number of argument and the parameter should count the same.\n",
    "# - If the function is defined as \"def value(a, b)\" then function call sholud have two variable.\n",
    "# - The values can be anything but number of argument and parameter should count equal."
   ]
  },
  {
   "cell_type": "code",
   "execution_count": 28,
   "metadata": {},
   "outputs": [
    {
     "name": "stdout",
     "output_type": "stream",
     "text": [
      "Enter the first number: 50\n",
      "Enter the second number: 10\n",
      "Enter the third number: 3\n",
      "43\n"
     ]
    }
   ],
   "source": [
    "# keyworded argument - Assigning paramater to argumet based on condition is keyworded argument\n",
    "\n",
    "def difference(a, b, c):\n",
    "    z = (a-b)+c\n",
    "    print(z)\n",
    "\n",
    "    \n",
    "inp1 = int(input('Enter the first number: '))\n",
    "inp2 = int(input('Enter the second number: '))\n",
    "inp3 = int(input('Enter the third number: '))\n",
    "if inp1>inp2:\n",
    "    difference(a=inp1, b=inp2, c= inp3)  # Assigning paramater to argumet based on condition\n",
    "else:\n",
    "    difference(a=inp2, b=inp1, c= inp3) # Assigning paramater to argumet based on condition"
   ]
  },
  {
   "cell_type": "code",
   "execution_count": null,
   "metadata": {},
   "outputs": [],
   "source": []
  },
  {
   "cell_type": "code",
   "execution_count": null,
   "metadata": {},
   "outputs": [],
   "source": []
  },
  {
   "cell_type": "code",
   "execution_count": null,
   "metadata": {},
   "outputs": [],
   "source": []
  },
  {
   "cell_type": "code",
   "execution_count": null,
   "metadata": {},
   "outputs": [],
   "source": []
  },
  {
   "cell_type": "code",
   "execution_count": null,
   "metadata": {},
   "outputs": [],
   "source": []
  },
  {
   "cell_type": "code",
   "execution_count": null,
   "metadata": {},
   "outputs": [],
   "source": []
  }
 ],
 "metadata": {
  "kernelspec": {
   "display_name": "Python 3",
   "language": "python",
   "name": "python3"
  },
  "language_info": {
   "codemirror_mode": {
    "name": "ipython",
    "version": 3
   },
   "file_extension": ".py",
   "mimetype": "text/x-python",
   "name": "python",
   "nbconvert_exporter": "python",
   "pygments_lexer": "ipython3",
   "version": "3.8.5"
  }
 },
 "nbformat": 4,
 "nbformat_minor": 4
}
