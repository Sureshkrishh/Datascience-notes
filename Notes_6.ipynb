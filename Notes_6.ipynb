{
 "cells": [
  {
   "cell_type": "markdown",
   "metadata": {},
   "source": [
    "## QUICK REVISION NOTES 6"
   ]
  },
  {
   "cell_type": "markdown",
   "metadata": {},
   "source": [
    "### Functions"
   ]
  },
  {
   "cell_type": "code",
   "execution_count": 1,
   "metadata": {},
   "outputs": [],
   "source": [
    "# - Function is a block of code that runs only when its called.\n",
    "# - Function is used to avoid the repetation of code.\n",
    "# - To define a function we use 'def' followed by function name.\n",
    "# - The code written below the function definition has to intended properly.\n",
    "\n",
    "# - syntax:\n",
    "#       def function_name():\n",
    "#           code\n",
    "#           code\n",
    "\n",
    "# - Function definition is not function execution.\n",
    "# - To execute a function it has to be called by its name."
   ]
  },
  {
   "cell_type": "code",
   "execution_count": 2,
   "metadata": {},
   "outputs": [
    {
     "name": "stdout",
     "output_type": "stream",
     "text": [
      "Enter first number: 23\n",
      "Enter second number: 8\n",
      "Sum of 23 and 8 is 31\n"
     ]
    }
   ],
   "source": [
    "# Example\n",
    "# - Function to add two user defined numbers\n",
    "\n",
    "def addition():\n",
    "    x = int(input('Enter first number: '))\n",
    "    y = int(input('Enter second number: '))\n",
    "    print(f'Sum of {x} and {y} is {x+y}')       # Till this point everthing is function definition\n",
    "    \n",
    "    \n",
    "addition()   # executing the function by calling its name (function execution)"
   ]
  },
  {
   "cell_type": "code",
   "execution_count": null,
   "metadata": {},
   "outputs": [],
   "source": [
    "# Input to the functions:\n",
    "\n",
    "def mult(a, b):       # parameters\n",
    "    print(a*b)\n",
    "    \n",
    "num1 = int(input('Enter first number: '))\n",
    "num2 = int(input('Enter second number: '))\n",
    "mult(num1, num2)      # arguments\n",
    "\n",
    "# parameter - Variable listed during function definition is parameter\n",
    "# argument - value sent into function when its called.\n",
    "\n",
    "# parameters and arguments are used inter-changeably"
   ]
  },
  {
   "cell_type": "code",
   "execution_count": null,
   "metadata": {},
   "outputs": [],
   "source": [
    "# Positional argument / parameter\n",
    "\n",
    "# - in positional argument, number of argument and the parameter should count the same.\n",
    "# - If the function is defined as \"def value(a, b)\" then function call sholud have two variable.\n",
    "# - The values can be anything but number of argument and parameter should count equal."
   ]
  },
  {
   "cell_type": "code",
   "execution_count": 4,
   "metadata": {},
   "outputs": [
    {
     "name": "stdout",
     "output_type": "stream",
     "text": [
      "Enter the first number: 19\n",
      "Enter the second number: 10\n",
      "Enter the third number: 3\n",
      "The result of the operation is 12\n"
     ]
    }
   ],
   "source": [
    "# keyworded argument - Assigning paramater to argumet based on condition is keyworded argument\n",
    "\n",
    "def operation(a, b, c):\n",
    "    z = (a-b)+c\n",
    "    print(f'The result of the operation is {z}')\n",
    "\n",
    "    \n",
    "inp1 = int(input('Enter the first number: '))\n",
    "inp2 = int(input('Enter the second number: '))\n",
    "inp3 = int(input('Enter the third number: '))\n",
    "if inp1>inp2:\n",
    "    operation(a=inp1, b=inp2, c= inp3)  # Assigning paramater to argumet based on condition\n",
    "else:\n",
    "    operation(a=inp2, b=inp1, c= inp3) # Assigning paramater to argumet based on condition"
   ]
  },
  {
   "cell_type": "code",
   "execution_count": 10,
   "metadata": {},
   "outputs": [
    {
     "name": "stdout",
     "output_type": "stream",
     "text": [
      "Enter the first number: 10\n",
      "Enter the second number: 2\n",
      "20\n",
      "40\n",
      "800\n"
     ]
    }
   ],
   "source": [
    "# Default parameter\n",
    "\n",
    "def product(a, b=1, c=1, d=1):\n",
    "    res = a*b*c*d\n",
    "    print(res)\n",
    "    \n",
    "us1 = int(input('Enter the first number: '))\n",
    "us2 = int(input('Enter the second number: '))\n",
    "product(us1, us2)           # Its user preference to pass the number of arguments\n",
    "product(us1, us2, 2)        # Minimum one argument has to be passed\n",
    "product(us1, us2, 2, 20)    # Default parameter should be written after positional parameter"
   ]
  },
  {
   "cell_type": "code",
   "execution_count": 16,
   "metadata": {},
   "outputs": [
    {
     "name": "stdout",
     "output_type": "stream",
     "text": [
      "hello suresh, Good morning!\n",
      "hello suresh, how do you do!\n"
     ]
    }
   ],
   "source": [
    "# Default parameter\n",
    "\n",
    "def welcome(name, msg='Good morning!'):\n",
    "    print('hello', name+',', msg)\n",
    "welcome('suresh')                      # Default parameter is used when its not defined in the argument\n",
    "welcome('suresh', 'how do you do!')    # User defined argument is used in place of default argument"
   ]
  },
  {
   "cell_type": "code",
   "execution_count": 37,
   "metadata": {},
   "outputs": [],
   "source": [
    "# Variable length argument. (Arbitary arguments)\n",
    "\n",
    "# - Value passed by the user will be taken in form of tuple\n",
    "# - It is used to process large dataset\n",
    "\n",
    "def greet(*args):   # (*args) can be replaced with (*anything)\n",
    "    names = eval(input('Enter the names: '))\n",
    "    for i in names:\n",
    "        print('welcome', i)\n",
    "        \n",
    "def total(*addition):   \n",
    "    num = eval(input('Enter the number to add: '))\n",
    "    c = 0\n",
    "    for i in num:\n",
    "        c += i\n",
    "    print('The sum of the entered number is',c)"
   ]
  },
  {
   "cell_type": "code",
   "execution_count": 35,
   "metadata": {},
   "outputs": [
    {
     "name": "stdout",
     "output_type": "stream",
     "text": [
      "Enter the names: 'Saraswathi', 'Krishna', 'mukundh'\n",
      "welcome Saraswathi\n",
      "welcome Krishna\n",
      "welcome mukundh\n"
     ]
    }
   ],
   "source": [
    "greet()"
   ]
  },
  {
   "cell_type": "code",
   "execution_count": 39,
   "metadata": {},
   "outputs": [
    {
     "name": "stdout",
     "output_type": "stream",
     "text": [
      "Enter the number to add: 10,20,30,40\n",
      "The sum of the entered number is 100\n"
     ]
    }
   ],
   "source": [
    "total()"
   ]
  },
  {
   "cell_type": "code",
   "execution_count": 45,
   "metadata": {},
   "outputs": [],
   "source": [
    "# variable length keyworded argument. (Arbitary arguments)\n",
    "\n",
    "# - Value passed by the user will be taken in form of dictionary\n",
    "\n",
    "def employee(**args):  # (**args) can be replaced with (**anything)\n",
    "    print(args, type(args))\n",
    "    print()\n",
    "    for i in args:\n",
    "        print(i, args[i], sep=' ----> ')\n",
    "        \n",
    "# In variable length keyworded argument the paramenter will be taken as key\n",
    "# the argument is taken as value and it becomes a pair"
   ]
  },
  {
   "cell_type": "code",
   "execution_count": 46,
   "metadata": {},
   "outputs": [
    {
     "name": "stdout",
     "output_type": "stream",
     "text": [
      "{'name': 'suresh', 'age': 23, 'gender': 'male'} <class 'dict'>\n",
      "\n",
      "name ----> suresh\n",
      "age ----> 23\n",
      "gender ----> male\n"
     ]
    }
   ],
   "source": [
    "employee(name='suresh', age=23, gender='male')"
   ]
  },
  {
   "cell_type": "code",
   "execution_count": 48,
   "metadata": {},
   "outputs": [
    {
     "name": "stdout",
     "output_type": "stream",
     "text": [
      "10\n"
     ]
    }
   ],
   "source": [
    "# Output to the function\n",
    "\n",
    "# 'return' statement is used to return value for the function\n",
    "\n",
    "def my_func(x):\n",
    "    return x*5      # This will not print the output if not typecasted with 'print'\n",
    "\n",
    "my_func(10)         # This will print nothing\n",
    "print(my_func(2))   # Output value of the return statement will be printed"
   ]
  },
  {
   "cell_type": "code",
   "execution_count": null,
   "metadata": {},
   "outputs": [],
   "source": []
  }
 ],
 "metadata": {
  "kernelspec": {
   "display_name": "Python 3",
   "language": "python",
   "name": "python3"
  },
  "language_info": {
   "codemirror_mode": {
    "name": "ipython",
    "version": 3
   },
   "file_extension": ".py",
   "mimetype": "text/x-python",
   "name": "python",
   "nbconvert_exporter": "python",
   "pygments_lexer": "ipython3",
   "version": "3.8.5"
  }
 },
 "nbformat": 4,
 "nbformat_minor": 4
}
