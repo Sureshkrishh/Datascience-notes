{
 "cells": [
  {
   "cell_type": "markdown",
   "metadata": {},
   "source": [
    "## QUICK REVISION NOTES 3"
   ]
  },
  {
   "cell_type": "markdown",
   "metadata": {},
   "source": [
    "### List and its method"
   ]
  },
  {
   "cell_type": "code",
   "execution_count": 14,
   "metadata": {},
   "outputs": [
    {
     "name": "stdout",
     "output_type": "stream",
     "text": [
      "[10, 10.2, 'python', (1, 2, 3), {1: 100, 2: 300}, ('true', 'false')]\n",
      "140690048747968 <class 'list'>\n"
     ]
    }
   ],
   "source": [
    "# - List is a sequence and an ordered collection of elements in square bracket.\n",
    "# - Indexing, slicing, concatenation, repetation, membership operations are possible.\n",
    "# - It is a collection of hetrogeneous elements and allow duplicate element and its mutable.\n",
    "\n",
    "lst = [10, 10.20, 'python', (1, 2, 3), {1:100, 2:300}, ('true','false')]\n",
    "print(lst)\n",
    "print(id(lst), type(lst))"
   ]
  },
  {
   "cell_type": "code",
   "execution_count": 15,
   "metadata": {},
   "outputs": [
    {
     "name": "stdout",
     "output_type": "stream",
     "text": [
      "Enter a list: [10,20,30]\n",
      "[10, 20, 30] <class 'list'>\n"
     ]
    }
   ],
   "source": [
    "# taking list input from user\n",
    "\n",
    "inp_lst = eval(input('Enter a list: '))\n",
    "print(inp_lst, type(inp_lst))\n",
    "\n",
    "# eval can be used to get list input from user\n",
    "# We cant use list instead of eval as it returns each and every character as a element in list"
   ]
  },
  {
   "cell_type": "code",
   "execution_count": 21,
   "metadata": {},
   "outputs": [
    {
     "name": "stdout",
     "output_type": "stream",
     "text": [
      "Coverting string to list\n",
      "['This', 'is', 'the', 'string', 'to', 'convert']\n",
      "\n",
      "Indexing in list\n",
      "{1: 100, 2: 300}\n",
      "100\n",
      "3\n",
      "\n",
      "Slicing in list\n",
      "['python', (1, 2, 3), {1: 100, 2: 300}, ('true', 'false')]\n",
      "[('true', 'false'), {1: 100, 2: 300}, (1, 2, 3), 'python', 10.2, 10]\n"
     ]
    }
   ],
   "source": [
    "# coverting string to list:\n",
    "cnv = 'This is the string to convert'\n",
    "print('Coverting string to list')\n",
    "print(cnv.split())\n",
    "\n",
    "# indexing in the list\n",
    "print('\\nIndexing in list')\n",
    "print(lst[4])\n",
    "print(lst[4][1]) # nested indexing\n",
    "print(lst[3][2]) # nested indexing\n",
    "\n",
    "# slicing in the list\n",
    "print('\\nSlicing in list')\n",
    "print(lst[2:6])\n",
    "print(lst[::-1])"
   ]
  },
  {
   "cell_type": "code",
   "execution_count": 23,
   "metadata": {},
   "outputs": [
    {
     "name": "stdout",
     "output_type": "stream",
     "text": [
      "[10, 20, 30]\n",
      "[10, 20, 30]\n",
      "['Aliased', 20, 30, 40]\n",
      "['Aliased', 20, 30, 40]\n",
      "True\n"
     ]
    }
   ],
   "source": [
    "# Aliasing \n",
    "    # - It is the process of assigning another name to exsisting list\n",
    "    # - Changes made in any of them will impact both\n",
    "    \n",
    "ck_lst = [10,20,30]\n",
    "al_lst = ck_lst\n",
    "print(ck_lst)\n",
    "print(al_lst)\n",
    "al_lst[0] = 'Aliased'\n",
    "ck_lst.append(40)\n",
    "print(ck_lst)\n",
    "print(al_lst)\n",
    "print(ck_lst is al_lst)"
   ]
  },
  {
   "cell_type": "code",
   "execution_count": 34,
   "metadata": {},
   "outputs": [
    {
     "name": "stdout",
     "output_type": "stream",
     "text": [
      "[10, 20, 30]\n",
      "[10, 20, 30]\n",
      "[10, 'shallow', 30]\n",
      "[10, 20, 30, 'appended']\n",
      "False\n",
      "\n",
      "Shallow copy in nested list\n",
      "[10, 20, 30, ['oops', 40, 'nest']]\n",
      "[10, 20, 30, ['oops', 40, 'nest']]\n",
      "\n",
      "Concept of deepcopy\n",
      "[10, 20, 30, ['oops', 40, 'deep copy']]\n",
      "[10, 20, 30, ['oops', 40, 'nest']]\n"
     ]
    }
   ],
   "source": [
    "# Shallow copy\n",
    "\n",
    "    # - This is used to create a independent copy of existing an list.\n",
    "    # - Changes made dosnot affect the another list.\n",
    "    \n",
    "olst = [10,20,30]\n",
    "slst = olst[::]\n",
    "print(olst)\n",
    "print(slst)\n",
    "olst[1] = 'shallow'\n",
    "slst.append('appended')\n",
    "print(olst)\n",
    "print(slst)\n",
    "print(olst is slst)\n",
    "\n",
    "    # - Concept of shallow copy doesnt work on nested list.\n",
    "print('\\nShallow copy in nested list')\n",
    "nlst = [10,20,30,['oops',40,100]]\n",
    "snlst = nlst[::]\n",
    "snlst[3][2] = 'nest'\n",
    "print(nlst)\n",
    "print(snlst)\n",
    "\n",
    "    # - To create a copy of nested list deepcopy has to imported and used\n",
    "print('\\nConcept of deepcopy')\n",
    "from copy import deepcopy\n",
    "dnlst = deepcopy(nlst)\n",
    "snlst[3][2] = 'deep copy'\n",
    "print(nlst)\n",
    "print(dnlst)"
   ]
  },
  {
   "cell_type": "code",
   "execution_count": 28,
   "metadata": {},
   "outputs": [
    {
     "name": "stdout",
     "output_type": "stream",
     "text": [
      "[10, 20, 30, ['oops', 40, 'change']] [10, 20, 30, ['oops', 40, 'change']]\n"
     ]
    }
   ],
   "source": [
    "nlst = [10,20,30,['oops',40,100]]\n",
    "snlst = nlst[::]\n",
    "snlst[3][2] = 'change'\n",
    "print(nlst,snlst)"
   ]
  },
  {
   "cell_type": "code",
   "execution_count": null,
   "metadata": {},
   "outputs": [],
   "source": []
  },
  {
   "cell_type": "code",
   "execution_count": null,
   "metadata": {},
   "outputs": [],
   "source": []
  },
  {
   "cell_type": "code",
   "execution_count": null,
   "metadata": {},
   "outputs": [],
   "source": []
  },
  {
   "cell_type": "code",
   "execution_count": null,
   "metadata": {},
   "outputs": [],
   "source": []
  },
  {
   "cell_type": "code",
   "execution_count": null,
   "metadata": {},
   "outputs": [],
   "source": []
  },
  {
   "cell_type": "code",
   "execution_count": null,
   "metadata": {},
   "outputs": [],
   "source": []
  },
  {
   "cell_type": "code",
   "execution_count": null,
   "metadata": {},
   "outputs": [],
   "source": []
  }
 ],
 "metadata": {
  "kernelspec": {
   "display_name": "Python 3",
   "language": "python",
   "name": "python3"
  },
  "language_info": {
   "codemirror_mode": {
    "name": "ipython",
    "version": 3
   },
   "file_extension": ".py",
   "mimetype": "text/x-python",
   "name": "python",
   "nbconvert_exporter": "python",
   "pygments_lexer": "ipython3",
   "version": "3.8.5"
  }
 },
 "nbformat": 4,
 "nbformat_minor": 4
}
