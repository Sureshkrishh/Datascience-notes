{
 "cells": [
  {
   "cell_type": "markdown",
   "metadata": {},
   "source": [
    "# QUICK REVISION NOTES"
   ]
  },
  {
   "cell_type": "markdown",
   "metadata": {},
   "source": [
    "## 1. INTRODUCTION TO PROGRAMMING"
   ]
  },
  {
   "cell_type": "markdown",
   "metadata": {},
   "source": [
    "### 1.1 What is Programming Language and Operating System and why do we need them?"
   ]
  },
  {
   "cell_type": "raw",
   "metadata": {},
   "source": [
    "A Programming Language is a set of predefined words that are combined into a program according to predefined rules(syntax). Programming languages are used to develop the application which helps in turn to get our task done. \n",
    "\n",
    "An Operating Systemis a software that allows a user to run other applications on a computing device. The main job of operating system is to manage computer’s software and hardware resources like I/O device, Network device, storage device etc. and to run the application on our system and resource allocation required for the same."
   ]
  },
  {
   "cell_type": "markdown",
   "metadata": {},
   "source": [
    "### 1.2 A brief introduction to computer memory"
   ]
  },
  {
   "cell_type": "raw",
   "metadata": {},
   "source": [
    "There are mainly two types of memory in computer:-\n",
    "    1. Volatile Memory - Primary Memory - Temporary Storage - RAM, Cache, Register\n",
    "   2. Non-volatile memory - Secondary Memory - Permanent Storage - HDD, SDD, Floppy, CD, Pen Drive\n",
    "\n",
    "-> Every program runs into RAM. \n",
    "-> Secondary memory are used for permanent storage."
   ]
  },
  {
   "cell_type": "markdown",
   "metadata": {},
   "source": [
    "### 1.3 Types of Programming Languages"
   ]
  },
  {
   "cell_type": "raw",
   "metadata": {},
   "source": [
    "There are mainly two types of programming language.\n",
    "    1. Low Level Programming Language\n",
    "        I. Machine Level Language or Binary Code\n",
    "        II. Assembly Language\n",
    "    2. High Level Programming Language\n",
    "        I. Based on purpose\n",
    "            i. General Purpose PL\n",
    "            ii. Special Purpose PL\n",
    "        II. Based on converters used\n",
    "            i. Compiled —> C/C++/Java/Python\n",
    "            ii. Interpreted —> Perl/Java Script/Python"
   ]
  },
  {
   "cell_type": "markdown",
   "metadata": {},
   "source": [
    "### 1.4 What is Source code, Byte code and Machine code in Python?"
   ]
  },
  {
   "cell_type": "raw",
   "metadata": {},
   "source": [
    "Source Code:- The code, written to develop the application. In python, (.-)file is source code.\n",
    "\n",
    "Byte code:- A fixed set of instructions that represents all operations like arithmetic, comparison, memory related operations etc. The code generated after the compilation of source code. (.pyc) file is byte code. Byte code is system and platform independent. It is also called p-code, portable code or object code.\n",
    "\n",
    "PVM:- Stands for Python Virtual Machine and is a software which comes with Python. PVM comes with Interpreter. \n",
    "\n",
    "Machine code:- The code generated after interpretation of byte code. It is system and platform dependent."
   ]
  },
  {
   "cell_type": "markdown",
   "metadata": {},
   "source": [
    "### 1.5 Type of Errors in Python"
   ]
  },
  {
   "cell_type": "raw",
   "metadata": {},
   "source": [
    "Error Handling is one of the most important feature of Python. It was main deciding factor in development of Python.\n",
    "There are mainly two type of errors in Python:-\n",
    "    I. Compile-time Error at compilation stage\n",
    "    II. Run-time Error caught at run time or interpretation stage.\n",
    "\n",
    "Compile-time Errors:- Every Programming Language comes with a set of rules which defines that how the codes will be written and interpreted or compiled. These set of rules are called Syntax. Not following the rules may lead to errors which are called Syntax errors. In Python, at compilation stage we check for the syntax errors and IndentationError. If there are no syntax errors in your program then it will be compiled successfully and byte code will be generated. If there are some syntax error in your program then compilation will not happen and byte code will not be generated. Syntax Error happens when Python can’t understand what you are saying.\n",
    "\n",
    "\n",
    "Run Time Errors:- Run time error happens when Python can understand what you are saying but runs into problem while running your instructions. To find the list of all run time error you may execute the below code:-\n",
    "\n",
    "\n",
    "---> print(dir(“__builtins__”))\n",
    "\n",
    "\n",
    "We can handle runtime errors using exception handling concept in Python unlike syntax errors which has to be rectified before compilation. Run time errors may cause partial implementation of your code.\n",
    "\n",
    "[Reference:-]\n",
    "1. https://cscircles.cemc.uwaterloo.ca/1e-errors/"
   ]
  },
  {
   "cell_type": "markdown",
   "metadata": {},
   "source": [
    "### 1.6 Compiled Languages vs Interpreted Languages"
   ]
  },
  {
   "cell_type": "raw",
   "metadata": {},
   "source": [
    "I. Compiled languages needs compiler to translate the code whereas Interpreted languages needs interpreter to translate the code from one form to another.\n",
    "\n",
    "II. Compiler & Interpreter both are translator and are computer programs.\n",
    "\n",
    "III. Compiler translates the whole code from one form to another form all at once while interpreter is instruction by instruction execution.\n",
    "\n",
    "IV. In Python, Compiler is used to translate Source code to byte code whereas Interpreter is used to translate the Byte code to Machine code.\n",
    "\n",
    "V. All Syntactical errors are caught at compilation stage in Python whereas all run time errors are caught at interpretation stage.\n",
    "\n",
    "NOTE:- Originally, Python is Interpreted Language. But over the time, Python is made compiled and Interpreted both as python has established itself as full fledged programming language and is acceptable across wide area of application.\n",
    "\n",
    "\n",
    "[References:-]\n",
    "1.https://en.wikipedia.org/wiki/Interpreted_language\n",
    "2.https://www.freecodecamp.org/news/compiled-versus-interpreted-languages/"
   ]
  },
  {
   "cell_type": "markdown",
   "metadata": {},
   "source": [
    "### 1.7 Why do we need translator?"
   ]
  },
  {
   "cell_type": "raw",
   "metadata": {},
   "source": [
    "Computer's hardware are electronic devices and they can not understand human language, rather they communicate with each other with the help of signals. Signals are nothing but binary code and is completely low level language. To translate High level languages in human readable format to machine readable format(binary code), we need translators. "
   ]
  },
  {
   "cell_type": "markdown",
   "metadata": {},
   "source": [
    "### 1.8 Why do we need Byte code?"
   ]
  },
  {
   "cell_type": "raw",
   "metadata": {},
   "source": [
    "Byte code are also called object code or p-code or portable code which may be be directly shipped to your client. As well as it is platform independent so it can run on any platform. Which makes service provider's and developer's life easy as they do not have to write the code for the same application to be used on different platform."
   ]
  },
  {
   "cell_type": "markdown",
   "metadata": {},
   "source": [
    "### 1.9 Why Python is compiled and interpreted both? Can’t we make it either compiled or interpreted?"
   ]
  },
  {
   "cell_type": "raw",
   "metadata": {},
   "source": [
    "Traditional programming languages like C or C++ were compiled languages. If you execute any source code in C or C++, it  first creates an executable file which is platform dependent and then you run this file to get the output on that particular platform.\n",
    "\n",
    "Source Code —> Compiler —> Executable Code(.exe file) —> Output\n",
    "\n",
    "\n",
    "You can see here that the intermediate code which are generated is not platform independent. But remember that the Source code written in these languages are portable.\n",
    "\n",
    "So, to counter this problem, languages like Java and Python were developed which are first compiled to object code or Byte code or p-code(portable code). These object codes are completely platform independent. Now when you move this object code to other platform then you need to translate it to machine code. For translation at this stage, you may either use compiler or interpreter, any translator which again translates the byte code to machine code. For Instance, Java, PyPI, JPython uses JIT compiler, where CPython uses interpreter.\n",
    "\n",
    "Source Code —> Compiler —> Byte Code —> Interpreter or JIT compiler(PVM/JVM) —> Machine Code —> Output \n",
    "\n",
    "So basically, we may say that to bridge the gap between portable programming languages and platform independent programming languages we came up with this idea to have two translators. First time it is used to generate shippable code and second time it is used to convert the byte code to machine code.\n",
    "\n",
    "\n",
    "[References:-]\n",
    "1.https://en.wikipedia.org/wiki/Python_(programming_language)\n",
    "2.https://www.geeksforgeeks.org/history-of-python/\n",
    "3.http://effbot.org/pyfaq/why-was-python-created-in-the-first-place.htm\n",
    "4.https://www.artima.com/intv/python.html"
   ]
  },
  {
   "cell_type": "markdown",
   "metadata": {},
   "source": [
    "## 2. WHAT IS PYTHON?"
   ]
  },
  {
   "cell_type": "raw",
   "metadata": {},
   "source": [
    "Python is General purpose, High level programming language."
   ]
  },
  {
   "cell_type": "markdown",
   "metadata": {},
   "source": [
    "### 2.1 What are some good features of Python?"
   ]
  },
  {
   "cell_type": "raw",
   "metadata": {},
   "source": [
    "1.Simple & easy to learn:-Python is one of the simplest language ever. Syntaxes are simple, easy to remember and quite expressive. When it comes to learning, it has been found that the learning curve for python is quite steeper compared to other programming languages.\n",
    "\n",
    "\n",
    "Sample Program in Java to add two numbers:-\n",
    "public class add{\n",
    "    public static void main(string[]args){\n",
    "        int a = 10;\n",
    "        int b = 20;\n",
    "        int c = a+b;\n",
    "        System.out.println(c);\n",
    "    }\n",
    "}\n",
    "\n",
    "Sample Program in Python to add two numbers:-\n",
    "a = 10\n",
    "b = 20\n",
    "c = a+b\n",
    "print(c)\n",
    "\n",
    "\n",
    "2.Most expressive language:-Being one of the most expressive language is easy to write the code in fewer lines, which leads to less cluttered program, faster execution and easy to debug and maintain.\n",
    "\n",
    "3.Freeware and open source:-Python being freeware, you don’t have to spend on licensing. And since it is open source so its original source code is freely available and can be redistributed and modifiable.\n",
    "\n",
    "\n",
    "4.Compiled and Interpreted both:- Originally, Python was developed to bridge the gap between C and shell scripting and also include the feature of exception handling from ABC language. So we can say that, initially Python was interpreted language. But later it was made compiled and interpreted both.\n",
    "\n",
    "Generally, the steps involved in execution of any python program are - "
   ]
  },
  {
   "cell_type": "markdown",
   "metadata": {},
   "source": [
    "### 2.2 How a python program runs on our system?"
   ]
  },
  {
   "cell_type": "raw",
   "metadata": {},
   "source": [
    "Source code ---> compiler ---> byte code ---> interpreter(PVM) ---> Machine code ---> Hardware ---> output\n",
    "\n",
    "In the above flow diagram, compiler is responsible to compile the source code. In the compilation stage all the syntactical errors are checked whereas interpreter is responsible to interpret the byte code and check the run time error in this stage. \n",
    "Compiler and interpreter both are translator. Compiler translates the source code to byte code(.pyc file) all at once whereas interpreter translates byte code to machine code one instruction at a time which interacts with hardware to give the final output.\n",
    "\n",
    "\n",
    "Few important commands:-\n",
    "1.python File_Name.py —> To run the file\n",
    "2.python -m py_compile File_Name.py —> To compile the file\n",
    "3.python -m dis File_Name.py —> To see the byte code.\n",
    "4.python File_Name.cpython-38.pyc —> To run the compiled code.\n",
    "\n",
    "\n",
    "5.Portable and Platform Independent:- Python is portable and platform independent both. Source code is portable whereas byte code(.pyc file) is platform independent. C is portable but not platform independent.\n",
    "\n",
    "6.Dynamically typed programming language:- In python, everything is an object. Objects get stored in the heap area and it’s memory address is referenced by the variable or name with which it is binded. Unlike other programming languages, In python, memory location does not work like a container rather it works on reference model. No need to specify the data type explicitly in python.\n",
    "\n",
    "7.Extensible and Embedded both - Extensibility - Extending the code from other programming languages into Python code. Embedded - Embedding Python code to other programming languages code.\n",
    "\n",
    "\n",
    "8.Batteries included:- Python comes with huge library support required for full usability.\n",
    "\n",
    "\n",
    "9.Community Support:- Huge Python community support available for beginner, intermediate and advance level programmers.\n",
    "10.CBSE 10th standard syllabus has Python now.\n",
    "11.The growth and acceptance python has shown over the years, is exceptional. Click Here for more details.\n",
    "\n",
    "[References:-]\n",
    "1.https://en.wikipedia.org/wiki/Python_(programming_language) "
   ]
  },
  {
   "cell_type": "markdown",
   "metadata": {},
   "source": [
    "### 2.3 Garbage Collection in Python"
   ]
  },
  {
   "cell_type": "raw",
   "metadata": {},
   "source": [
    "Python supports automatic garbage collection. It uses a combination of reference counting and cycle-detecting garbage collector for memory management an optimisation. gc module in python stands for garbage collector which runs from time to time and which ever object’s reference count reaches to zero, that gets garbage collected automatically. As a user you are not allowed to interfere in memory management. It is task of the PVM to manage the memory. Yes, but if you want to check whether gc module is enabled or disabled or if you want to enable or disable it then you may use it like below:-"
   ]
  },
  {
   "cell_type": "code",
   "execution_count": 1,
   "metadata": {},
   "outputs": [
    {
     "name": "stdout",
     "output_type": "stream",
     "text": [
      "['DEBUG_COLLECTABLE', 'DEBUG_LEAK', 'DEBUG_SAVEALL', 'DEBUG_STATS', 'DEBUG_UNCOLLECTABLE', '__doc__', '__loader__', '__name__', '__package__', '__spec__', 'callbacks', 'collect', 'disable', 'enable', 'freeze', 'garbage', 'get_count', 'get_debug', 'get_freeze_count', 'get_objects', 'get_referents', 'get_referrers', 'get_stats', 'get_threshold', 'is_tracked', 'isenabled', 'set_debug', 'set_threshold', 'unfreeze'] \n",
      "\n",
      "True \n",
      "\n",
      "False \n",
      "\n",
      "True \n",
      "\n"
     ]
    }
   ],
   "source": [
    "import gc\n",
    "print(dir(gc),'\\n')\n",
    "print(gc.isenabled(),'\\n')\n",
    "gc.disable()\n",
    "print(gc.isenabled(),'\\n')\n",
    "gc.enable()\n",
    "print(gc.isenabled(),'\\n')"
   ]
  },
  {
   "cell_type": "markdown",
   "metadata": {},
   "source": [
    "### 2.4 Different Flavours of Python"
   ]
  },
  {
   "cell_type": "raw",
   "metadata": {},
   "source": [
    "There are different flavours or implementation of python are available. Out of which the most common are:-\n",
    "\n",
    " 1.Cpython:- C implementation of Python, developed to run C application on PVM, which was designed using C.\n",
    " 2.Jython:- Java implementation of Python, developed to run Java application on PVM,which was designed using Java.\n",
    " 3.PyPI:- Python implementation of Python. Implements JIT compiler, to improve the performance of python app.\n",
    " 4.Ruby Python:- Ruby implementation of Python and was developed to run the Ruby application.\n",
    " 5.Stackless Python:- Was developed to implement concurrency in Python.\n",
    " 6.Anaconda Python:- Was developed to handle and process the big data."
   ]
  },
  {
   "cell_type": "markdown",
   "metadata": {},
   "source": [
    "## 3. COMPONENTS OF PYTHON"
   ]
  },
  {
   "cell_type": "raw",
   "metadata": {},
   "source": [
    "1.Literals\n",
    "2.Constants\n",
    "3.Identifiers\n",
    "4.Variables\n",
    "5.Reserved words\n",
    "6.Expressions\n",
    "7.Statements\n",
    "8.Comments\n",
    "9.Suites\n",
    "10.Block and identation"
   ]
  },
  {
   "cell_type": "markdown",
   "metadata": {},
   "source": [
    "### 3.1 Literals in Python"
   ]
  },
  {
   "cell_type": "raw",
   "metadata": {},
   "source": [
    "---> a = 15\n",
    "\n",
    "-Data or constant value stored in a variable.\n",
    "-In the above example, constant value ’15’ is stored in a variable ’a’. 15, here is literal.\n",
    "-5 is integer value so it is also called integer literal.\n",
    "\n",
    "Python supports different type of literals:-\n",
    "1.Numeric Literals\n",
    "\t- Integer Literals - 200, -15\n",
    "\t- Binary Literals - 0b1010\n",
    "\t- Octal Literals - 0o12\n",
    "\t- Hexadecimal Literals - 0xa\n",
    "\t- Float Literals - 10.20, -20.6\n",
    "\t- Complex Literals - 10+20j, 10-20j\n",
    "    \n",
    "2.Boolean Literals\n",
    "\t- True, False\n",
    "    \n",
    "3.Special Literal\n",
    "\t- None\n",
    "    \n",
    "4.String Literals\n",
    "\t- Sequence of characters enclosed between single quotation, double quotation or triple quotation."
   ]
  },
  {
   "cell_type": "markdown",
   "metadata": {},
   "source": [
    "### 3.2 Identifiers in Python"
   ]
  },
  {
   "cell_type": "raw",
   "metadata": {},
   "source": [
    "-A name given to a variable, function, class or object.\n",
    "-Allowed Characters in Python:-2. Identifiers in Python:-\n",
    "\t- Numbers - 0-9\n",
    "\t- Underscore - (_)\n",
    "\t- Alphabets Capital(A to Z) and small (a to z)\n",
    "-Not Allowed:-\n",
    "\t- Special Symbols are not allowed - ($,#,@)\n",
    "-Rules to define an Identifier:-\n",
    "\t- Identifier should not start with a number.\n",
    "\t- Identifiers are case sensitive.\n",
    "\t- Never use reserved words as identifier.\n",
    "\t- Not recommended to take lengthy identifier.\n",
    "\t- Identifier starting with _ - Private\n",
    "\t- Identifier starting with __ - Strongly Private\n",
    "\t- Identifier starting and ending with __ - Language defined special identifier"
   ]
  },
  {
   "cell_type": "markdown",
   "metadata": {},
   "source": [
    "### 3.3 Variables in Python"
   ]
  },
  {
   "cell_type": "raw",
   "metadata": {},
   "source": [
    "-A variable in python is a name which may change the data associated with it over time in a program as and when required.\n",
    "-Rules to define a variable is same as that of an identifier.\n",
    "-It is just a name which is used to create a reference for the data or object associated with in a given program.\n",
    "-Variable always refers to the memory location in heap where the data associated with it is stored.\n",
    "-Once user changes the data associated with a variable then the memory address of the variable also changes.\n",
    "-Variable are used to store the data in the memory and pass them to processor to process the data."
   ]
  },
  {
   "cell_type": "markdown",
   "metadata": {},
   "source": [
    "### 3.4 Constants in Python"
   ]
  },
  {
   "cell_type": "raw",
   "metadata": {},
   "source": [
    "-A constant value is similar to variable with one exception that it can not be changed once it is set.\n",
    "-In Python, You may change the value associated with a constant.\n",
    "-So, how constant is different from variable in Python:-\n",
    "\t- Constants in Python should follow the same rule used to define an identifier.\n",
    "\t- Constants in Python should use only capital letter.\n",
    "\t- Do not use generic name like NUM, you may use MAX_NUM or MIN_NUM.\n",
    "\t- Use a different  “constant.py” file to define all of your constants in your application and use them by importing this module into your main module."
   ]
  },
  {
   "cell_type": "markdown",
   "metadata": {},
   "source": [
    "### 3.5 Reserved words in Python"
   ]
  },
  {
   "cell_type": "raw",
   "metadata": {},
   "source": [
    "-Words with special meaning and task associated with it.\n",
    "-There are total 35 reserved words in python.\n",
    "-There are two types of reserved words:-\n",
    "\t- Reserved Literals:- True, False, None\n",
    "\t- Keywords:- Reserved words associated with some functionality. Apart from reserved literals, all reserved words are keywords.\n",
    "-All reserved words contains only alphabet characters.\n",
    "-All keywords contains only lowercase letters."
   ]
  },
  {
   "cell_type": "code",
   "execution_count": 4,
   "metadata": {},
   "outputs": [
    {
     "name": "stdout",
     "output_type": "stream",
     "text": [
      "['False', 'None', 'True', 'and', 'as', 'assert', 'async', 'await', 'break', 'class', 'continue', 'def', 'del', 'elif', 'else', 'except', 'finally', 'for', 'from', 'global', 'if', 'import', 'in', 'is', 'lambda', 'nonlocal', 'not', 'or', 'pass', 'raise', 'return', 'try', 'while', 'with', 'yield']\n"
     ]
    }
   ],
   "source": [
    "import keyword\n",
    "print(keyword.kwlist)"
   ]
  },
  {
   "cell_type": "markdown",
   "metadata": {},
   "source": [
    "### 3.6 Comments in Python"
   ]
  },
  {
   "cell_type": "raw",
   "metadata": {},
   "source": [
    "-Writing comments in python is a very good programming practice.\n",
    "-Writing comments in your program helps your peer coder to understand the reason of including the part of your code in your program.\n",
    "-To create a single line comment we use #.\n",
    "-Multiline comments are written inside triple quotation.\n",
    "-Triple quotations are also used for writing the doctoring."
   ]
  },
  {
   "cell_type": "markdown",
   "metadata": {},
   "source": [
    "### 3.7 Expressions in Python"
   ]
  },
  {
   "cell_type": "raw",
   "metadata": {},
   "source": [
    "-An expression is a combination of values, variables, operators and call to functions.\n",
    "-Expressions needs to be evaluated.\n",
    "-If you use print function for an expression then it evaluates the expressions and prints the result.\n",
    "-Expression generally evaluates to a value, which is why expression are written on the right hand side in an assignment statement.\n",
    "-A single value itself is a simple expression.\n",
    "\n",
    "Example:\n",
    "\n",
    "    10\n",
    "    10.20\n",
    "    a=100\n",
    "    a+80\n",
    "    import math\n",
    "    math.sqrt(10)\n",
    "    \n",
    " ---> Here each and every line is executable and it is called as expression"
   ]
  },
  {
   "cell_type": "markdown",
   "metadata": {},
   "source": [
    "### 3.8 Statements in Python"
   ]
  },
  {
   "cell_type": "raw",
   "metadata": {},
   "source": [
    "-Instructions written in the source code for execution are called statements.\n",
    "-Different types of statements in python are:-\n",
    "\t- Assignment Statements\n",
    "\t- Compound Assignment Statements\n",
    "\t- Conditional statements\n",
    "\t- Loop Statements\n",
    "\t- Statements in python can be extended to one or more lines using parenthesis(), braces{}, square brackets[], semi colon ;, continuation character \\. \n",
    "    \n",
    "Example:\n",
    "\n",
    "    a = 10 + 80 ---> assignment operation statement\n",
    "    \n",
    "    for i in range(10):\n",
    "        print(i)  ---> loop operation statement\n",
    "        \n",
    "    if a == 100:\n",
    "        print(a)  ---> conditional operator statement"
   ]
  },
  {
   "cell_type": "markdown",
   "metadata": {},
   "source": [
    "### 3.9 Blocks or suites and indentation in Python"
   ]
  },
  {
   "cell_type": "raw",
   "metadata": {},
   "source": [
    "-A combination of statements in python is called block or suites.\n",
    "-In other programming languages like C, C++, Java we use flower brackets to make a block in python.\n",
    "-We use whitespaces to make indentation and indentations are used to make block or suite in python.\n",
    "\n",
    "Example:\n",
    "\n",
    "                            ___________________________\n",
    "                           |   x = 10                  |----> Block of code\n",
    "                           |   y = 20                  |\n",
    "                           |   _______________         |\n",
    "                           |  |if x < y:      |        |\n",
    "                           |  |    print(True)| -------|----> Block/suite inside \n",
    "                           |  |_______________|        |\n",
    "                           |   else:                   |\n",
    "                           |   ___                     |\n",
    "    Indendation space<-----|--|___|print(False)        |\n",
    "                           |___________________________|                 "
   ]
  },
  {
   "cell_type": "markdown",
   "metadata": {},
   "source": [
    "### 3.10 Escape sequence"
   ]
  },
  {
   "cell_type": "raw",
   "metadata": {},
   "source": [
    "1 ---> \\ ---> Using this you may write a single line string into multi line string.\n",
    "\n",
    "2 ---> \\\\ ---> To print \\\n",
    "\n",
    "3 ---> \\n ---> New line\n",
    "\n",
    "4 ---> \\t ---> Horizantal tab\n",
    "\n",
    "5 ---> \\v ---> Vertical tab\n",
    "\n",
    "6 ---> \\' ---> To consider single quote(‘) as string character\n",
    "\n",
    "7 ---> \\'' ---> To consider double quote(\") as string character"
   ]
  },
  {
   "cell_type": "markdown",
   "metadata": {},
   "source": [
    "## 4. ZEN OF PYTHON"
   ]
  },
  {
   "cell_type": "code",
   "execution_count": 1,
   "metadata": {
    "scrolled": true
   },
   "outputs": [
    {
     "name": "stdout",
     "output_type": "stream",
     "text": [
      "The Zen of Python, by Tim Peters\n",
      "\n",
      "Beautiful is better than ugly.\n",
      "Explicit is better than implicit.\n",
      "Simple is better than complex.\n",
      "Complex is better than complicated.\n",
      "Flat is better than nested.\n",
      "Sparse is better than dense.\n",
      "Readability counts.\n",
      "Special cases aren't special enough to break the rules.\n",
      "Although practicality beats purity.\n",
      "Errors should never pass silently.\n",
      "Unless explicitly silenced.\n",
      "In the face of ambiguity, refuse the temptation to guess.\n",
      "There should be one-- and preferably only one --obvious way to do it.\n",
      "Although that way may not be obvious at first unless you're Dutch.\n",
      "Now is better than never.\n",
      "Although never is often better than *right* now.\n",
      "If the implementation is hard to explain, it's a bad idea.\n",
      "If the implementation is easy to explain, it may be a good idea.\n",
      "Namespaces are one honking great idea -- let's do more of those!\n"
     ]
    }
   ],
   "source": [
    "import this"
   ]
  },
  {
   "cell_type": "markdown",
   "metadata": {},
   "source": [
    "## 5. FUNDAMENTAL DATATYPES"
   ]
  },
  {
   "cell_type": "raw",
   "metadata": {},
   "source": [
    "---> int:\n",
    "  Whole number without decimal point is integer ---> decimal->(int(10))\n",
    "                                                     binary(0&1)->(bin(0b))\n",
    "                                                     octal(0-7)->(oct(0o))\n",
    "                                                     hexa(0-9 and a-f)-> hex(0x))\n",
    "\n",
    "---> float:\n",
    "  any number with decimal point is a float ---> print(float(10))\n",
    "    \n",
    "---> complex:\n",
    "  combination of real and imaginary part ---> 6+12j --> 6 is real part & 12j is imaginary part & j is imaginary value          \n",
    "\n",
    "---> string:\n",
    "  combination of characters kept inside quote-->print('python class')& print(\"python's class\")& print('''python's   & \"java\"''')\n",
    "    \n",
    "---> boolean:\n",
    "  represented by True or False (1 & 0) --> every thing other than 0 is True, 0 and empty string is False\n",
    "    \n",
    "---> None:\n",
    "  it represents null/no value, null is not same as 0, It can be added anywere for future changes, ID of null is     same everywere.\n"
   ]
  },
  {
   "cell_type": "markdown",
   "metadata": {},
   "source": [
    "## 6. SEQUENCE, INDEXING, SLICING, CONCATENATION AND REPETITION"
   ]
  },
  {
   "cell_type": "raw",
   "metadata": {},
   "source": [
    "---> Sequence:\n",
    "   Sequence is a ordered collection of elements --> string,list,tuple,byte,bytearray,range.\n",
    "   Indexing and slicing is allowed.\n",
    "\n",
    "---> Index:\n",
    "   Index is the represent of position of the element in python. Python allows both positive and negative index\n",
    "           \n",
    "                                           -6  -5  -4  -3  -2  -1\n",
    "     Negative index (right to left)     <--------------------------    starts from -1\n",
    "                                            p   y   t   h   o   n\n",
    "     Positive index (left to right)     --------------------------->   starts from 0\n",
    "                                            0   1   2   3   4   5\n",
    "        \n",
    "---> Indexing:\n",
    "   Indexing is a concept of accessing single element from list. only one element can be accessed at a time.\n",
    "     syntax :\n",
    "             --> list_name[index_number] --> to access the element\n",
    "             --> list_name.index('element',start,stop) --> to access the index of first occurance of element\n",
    "\n",
    "---> Slicing:\n",
    "   Slicing is a concept of accessing multiple element from list at a time.\n",
    "     syntax :\n",
    "            --> list_name[start:stop:step] --> to access multiple elements\n",
    "                  start --> position to start slicing , default = 0\n",
    "                  stop  --> position one more than were we want to end slicing, default = length of the string\n",
    "                  step  --> step of slicing , default = 1.\n",
    "                     step = 1  --> slices from left to right.\n",
    "                     step = -1 --> slices from right to left.\n",
    "\n",
    "---> Concatenation:\n",
    "   Process of combining two sequence of same datatype. print('python' + ' ' + 'is awesome')\n",
    "    \n",
    "---> Repetition:\n",
    "   It is the process of repeating a string multiple times. It should have one string and one integer datatype.\n",
    "     ex: print('python is cool, '*3)\n",
    "     \n"
   ]
  },
  {
   "cell_type": "markdown",
   "metadata": {},
   "source": [
    "## 7. OPERATORS"
   ]
  },
  {
   "cell_type": "raw",
   "metadata": {},
   "source": [
    "There are 8 operators in python. They are,\n",
    "\n",
    " - Arithematic operator.\n",
    " - Comparision operator.\n",
    " - Equality operator.\n",
    " - Logical operator.\n",
    " - Bitwise operator.\n",
    " - Assignment operator.\n",
    " - Memership and identity operator."
   ]
  },
  {
   "cell_type": "markdown",
   "metadata": {},
   "source": [
    "### 7.1 Arithematic operator:"
   ]
  },
  {
   "cell_type": "raw",
   "metadata": {},
   "source": [
    "        Addition ----------> +\n",
    "        Subtraction -------> -\n",
    "        Multiplication ----> *\n",
    "        Float division ----> /   (True division)\n",
    "        Floor division ----> //  (Floor value or quotient)\n",
    "        Modulo operation --> %   (Reminder)\n",
    "        Exponent ----------> **  (Power of 'n')\n",
    "        \n",
    "        Floor and ceil value:\n",
    "           --> Floor value returns the nearest lowest whole number.\n",
    "           --> Ceil returns the nearest largest whole number.\n",
    "           --> math module has to be imported to perform these operations."
   ]
  },
  {
   "cell_type": "code",
   "execution_count": 1,
   "metadata": {},
   "outputs": [
    {
     "name": "stdout",
     "output_type": "stream",
     "text": [
      "Floor value of 56.82 is 56\n",
      "Ceil value of 56.82 is 57\n"
     ]
    }
   ],
   "source": [
    "# EXAMPLE\n",
    "\n",
    "import math\n",
    "print('Floor value of 56.82 is', math.floor(56.82))\n",
    "print('Ceil value of 56.82 is', math.ceil(56.82))"
   ]
  },
  {
   "cell_type": "markdown",
   "metadata": {},
   "source": [
    "### 7.2 Comparision operator (<, <=, >, >=)"
   ]
  },
  {
   "cell_type": "raw",
   "metadata": {},
   "source": [
    " - Comparision operator return boolean value based on the outputs.\n",
    " - Comparision between different datatypes is not possible except int and float.\n",
    " - Sequence comparision can be done\n",
    "     - Length of the string\n",
    "     - Chae by char & using ASCII code"
   ]
  },
  {
   "cell_type": "code",
   "execution_count": 35,
   "metadata": {},
   "outputs": [
    {
     "name": "stdout",
     "output_type": "stream",
     "text": [
      "True\n",
      "False\n",
      "True\n",
      "False\n",
      "True\n",
      "\n",
      "70\n",
      "a\n"
     ]
    }
   ],
   "source": [
    "# EXAMPLE\n",
    "\n",
    "print(10<20.1)  # comparing int and float\n",
    "print(10>20)    # comparing int with int\n",
    "print('python'>'kris')  # comparing length of string\n",
    "print('Suresh'>='suresh')  # comparing the ASCII value by alphabet\n",
    "print(True<321)  # comparing int with boolean\n",
    "print()\n",
    "\n",
    "# To convert ASCII code to value and vise vera\n",
    "\n",
    "print(ord('F')) # character to ordinal\n",
    "print(chr(97))  # ordinal to character"
   ]
  },
  {
   "cell_type": "markdown",
   "metadata": {},
   "source": [
    "### 7.3 Equality operator (== and !=)"
   ]
  },
  {
   "cell_type": "raw",
   "metadata": {},
   "source": [
    " - It compares the content and return the boolean value.\n",
    " - Equality operator can be used betweeb differet data types."
   ]
  },
  {
   "cell_type": "code",
   "execution_count": 45,
   "metadata": {},
   "outputs": [
    {
     "name": "stdout",
     "output_type": "stream",
     "text": [
      "False\n",
      "False\n",
      "True\n",
      "True\n"
     ]
    }
   ],
   "source": [
    "# EXAMPLE\n",
    "\n",
    "print(20!=20.0)  # Checking equality between int and float\n",
    "print('python'!='python')  # Checking equality by length\n",
    "print('P'!='p')  # Checking equality by ASCII\n",
    "print('India'=='India') # Checking equality by both length and ASCII"
   ]
  },
  {
   "cell_type": "markdown",
   "metadata": {},
   "source": [
    "### 7.4 Logical operator (and, or, not)"
   ]
  },
  {
   "cell_type": "raw",
   "metadata": {},
   "source": [
    "  - and operator --> Returns A if A is False else it returns B\n",
    "\n",
    "          A     operator     B        Output\n",
    "       ________________________________________\n",
    "\n",
    "         True     and       True       True\n",
    "         True     and       False      False \n",
    "         False    and       True       False\n",
    "         False    and       False      False\n",
    "         \n",
    "  - or operator --> Returns A if A is True else returns B\n",
    "\n",
    "          A     operator     B        Output\n",
    "       ________________________________________\n",
    "\n",
    "         True      or       True       True\n",
    "         True      or       False      True \n",
    "         False     or       True       True\n",
    "         False     or       False      False\n",
    "         \n",
    " - not operator --> Reverses the bolean value of the output"
   ]
  },
  {
   "cell_type": "code",
   "execution_count": 71,
   "metadata": {},
   "outputs": [
    {
     "name": "stdout",
     "output_type": "stream",
     "text": [
      "True\n",
      "False\n",
      "23\n",
      "0\n",
      "0\n",
      "\n",
      "True\n",
      "False\n",
      "40\n",
      "True\n",
      "hai\n",
      "\n",
      "False\n",
      "True\n"
     ]
    }
   ],
   "source": [
    "# Example\n",
    "\n",
    "# and operator\n",
    "print((10<20) and (5!=100))  #---> Returns boolean incase of comparision and equality operator\n",
    "print((10>20) and (5!=100))  #---> Returns boolean incase of comparision and equality operator\n",
    "print((10+20) and (20+3))    #---> Returns B since A is not False\n",
    "print((80+1) and (60*0))     #---> Returns B since A is not False\n",
    "print(0 and 0.0)             #---> Returns A since A is False\n",
    "print()\n",
    "\n",
    "# or operator\n",
    "print((10<20) or (10==100))  #---> Returns boolean incase of comparision and equality operator\n",
    "print((10>20) or (10!=10))   #---> Returns boolean incase of comparision and equality operator\n",
    "print((20*0) or (10+30))     #---> Returns B since A is not True\n",
    "print(False or True)         #---> Returns B since A is not True\n",
    "print('hai' or 'bye')        #---> Returns A since A is True\n",
    "print()\n",
    "\n",
    "# not operator\n",
    "print(not((10<20) or (10==100))) #--> Reverses the output to False\n",
    "print(not('hai' and 0))      #--> reverses the output to True"
   ]
  },
  {
   "cell_type": "markdown",
   "metadata": {},
   "source": [
    "### 7.5 Bitwise operator"
   ]
  },
  {
   "cell_type": "raw",
   "metadata": {},
   "source": [
    " - These operators works on bits or binary level.\n",
    " \n",
    " - Bitwise and operator (&) \n",
    "\n",
    "         Bit    operator    Bit        Output\n",
    "       ________________________________________\n",
    "\n",
    "         1         &         1           1\n",
    "         1         &         0           0 \n",
    "         0         &         1           0\n",
    "         0         &         0           0\n",
    "         \n",
    " - Bitwise or operator (|) \n",
    "\n",
    "         Bit    operator    Bit        Output\n",
    "       ________________________________________\n",
    "\n",
    "         1         |         1           1\n",
    "         1         |         0           1 \n",
    "         0         |         1           1\n",
    "         0         |         0           0\n",
    "         \n",
    " - Bitwise xor operator (^)\n",
    "\n",
    "         Bit    operator    Bit        Output\n",
    "       ________________________________________\n",
    "\n",
    "         1         ^         1           0\n",
    "         1         ^         0           1 \n",
    "         0         ^         1           1\n",
    "         0         ^         0           0\n",
    "         \n",
    "  - Bitwise negation operator (~)\n",
    "\n",
    "         Bitwise negation runs on formula n = -(n+1)\n",
    "         \n",
    "  - Bitwise left shift (<<) and right shift (>>)\n",
    "\n",
    "         Bitwise left shift and right shift works on binary level."
   ]
  },
  {
   "cell_type": "code",
   "execution_count": 95,
   "metadata": {},
   "outputs": [
    {
     "name": "stdout",
     "output_type": "stream",
     "text": [
      "Bitwise and of 25 & 30 is 24\n",
      "Bitwise or of 25 & 30 is 31\n",
      "Bitwise xor of 25 & 30 is 7\n",
      "Bitwise negation of True is -2\n",
      "Bitwise negation of False is -1\n",
      "Bitwise negation of 8 is -9\n",
      "Bitwise negation of -16 is 15\n",
      "Bitwise left shift of 25 is 200\n",
      "Bitwise right shift of 25 is 3\n"
     ]
    }
   ],
   "source": [
    "# EXAMPLE\n",
    "\n",
    "# Bitwise and operator (&) \n",
    "\n",
    "print('Bitwise and of 25 & 30 is', 25 & 30)\n",
    "\n",
    "# 25 = 11001\n",
    "# 30 = 11110\n",
    "#     -------\n",
    "#  & = 11000 ---> 24\n",
    "\n",
    "# Bitwise or operator (|) \n",
    "\n",
    "print('Bitwise or of 25 & 30 is', 25 | 30)\n",
    "\n",
    "# 25 = 11001\n",
    "# 30 = 11110\n",
    "#     -------\n",
    "#  & = 11111 ---> 31\n",
    "\n",
    "# Bitwise xor operator (^) \n",
    "\n",
    "print('Bitwise xor of 25 & 30 is', 25 ^ 30)\n",
    "\n",
    "# 25 = 11001\n",
    "# 30 = 11110\n",
    "#     -------\n",
    "#  & = 00111 ---> 7\n",
    "\n",
    "# Bitwise negation operator (~) \n",
    "\n",
    "print('Bitwise negation of True is', ~True)    # --> -(n+1) ---> -(True+1)  = -2\n",
    "print('Bitwise negation of False is', ~False)  # --> -(n+1) ---> -(False+1) = -1\n",
    "print('Bitwise negation of 8 is', ~8)          # --> -(n+1) ---> -(8+1)     = -9\n",
    "print('Bitwise negation of -16 is', ~-16)      # --> -(n+1) ---> -(-16+1)   = 15\n",
    "\n",
    "# 25 = 11001\n",
    "# 30 = 11110\n",
    "#     -------\n",
    "#  & = 00111 ---> 7\n",
    "\n",
    "\n",
    "# Bitwise left shift operator (<<) \n",
    "\n",
    "print('Bitwise left shift of 25 is', 25 << 3)\n",
    "\n",
    "# 25  = 11001\n",
    "# <<3 = 11001000  ---> 200\n",
    "\n",
    "# Bitwise right shift operator (>>) \n",
    "\n",
    "print('Bitwise right shift of 25 is', 25 >> 3)\n",
    "\n",
    "# 25  = 11001\n",
    "# >>3 = 11  ---> 3"
   ]
  },
  {
   "cell_type": "markdown",
   "metadata": {},
   "source": [
    "### 7.6 Assignment operator"
   ]
  },
  {
   "cell_type": "raw",
   "metadata": {},
   "source": [
    "--> a = a+2\n",
    "\n",
    " - In the above example the value of variable 'a' is assigned back to it and an arithematic operation is performed and then the result is assigned back to the variable 'a'. In python same line of code can be written as 'a += 2'.\n",
    " \n",
    "   ie. (a = a+2) is equal to (a += 2)\n",
    "       (b = b/2) is equal to (b /= 2)\n",
    "       \n",
    " - Other similar assignment operators are\n",
    "    (+=, -=, *=, /=, //=, **=, %=, &=, |=, ^=, >>=, <<=)"
   ]
  },
  {
   "cell_type": "markdown",
   "metadata": {},
   "source": [
    "### 7.7 Membership & identity operator"
   ]
  },
  {
   "cell_type": "raw",
   "metadata": {},
   "source": [
    " --> Membership operator (in, not in)\n",
    "     - This operator checks an element is a member of sequence or not.\n",
    "     \n",
    " --> Identity operator (is, is not)\n",
    "     - This operator checks both the operands has same ID or not\n",
    "     \n",
    "  "
   ]
  },
  {
   "cell_type": "code",
   "execution_count": 105,
   "metadata": {},
   "outputs": [
    {
     "name": "stdout",
     "output_type": "stream",
     "text": [
      "True\n",
      "True\n",
      "False\n",
      "True\n",
      "False\n",
      "\n",
      "True\n",
      "False\n",
      "True\n",
      "True\n"
     ]
    }
   ],
   "source": [
    "# EXAMPLE\n",
    "\n",
    "# Membership operator:\n",
    "\n",
    "print('p' in 'python')\n",
    "print('th' in 'python')\n",
    "print('tn' in 'python')\n",
    "print('R' not in 'rat')\n",
    "print('t' not in 'rat')\n",
    "print()\n",
    "\n",
    "# Identity operator:\n",
    "\n",
    "a = 101\n",
    "b = 101\n",
    "print(a is b)\n",
    "\n",
    "a = 1000\n",
    "b = 1000\n",
    "print(a is b)     # Doesnt obey object reusability\n",
    "\n",
    "a = 210\n",
    "b = 220\n",
    "print(a is not b)\n",
    "\n",
    "a = 1010\n",
    "b = 1010\n",
    "print(a is not b) # Doesnt obey object reusability\n",
    "\n",
    "# -----> object between -5 to 256 in heap area obey object reusability"
   ]
  },
  {
   "cell_type": "markdown",
   "metadata": {},
   "source": [
    "## 8. DERIVED DATATYPES"
   ]
  },
  {
   "cell_type": "raw",
   "metadata": {},
   "source": [
    "---> list:\n",
    "       Collection of hetrogeneous elements written inside the square bracket --> [20,{30:40},(56,96)]\n",
    "       It is a mutable datatype and a sequence so indexing and slicing is possible.\n",
    "       list_name.append('element') ---> to add element at the end of the list.\n",
    "       list_name.remove('element') ---> to remove the element from the list.\n",
    "\n",
    "    \n",
    "---> tuple:\n",
    "       Collection of ordered and immutable data written inside round brackets. --> (20,{30:40},(56,96))\n",
    "       It is sequence so indexing and slicing is possible.  \n",
    "    \n",
    "---> set:\n",
    "       Collection of unordered unique elements written inside curly brackets --> {10,20,30,40}\n",
    "       Set is mutable but it wont allow mutable datatype as element.  \n",
    "       It is not a sequence so indexing and slicing is not possible.\n",
    "       Set doesnot allow to duplicate elements inside it .\n",
    "       set_name.add('immutable_element') --> to add element inside the set.\n",
    "       set_name.remove('immutable_element') --> to remove element from the set. \n",
    "\n",
    "---> frozenset:\n",
    "       Collection of elements written inside round brackets with prefix 'frozenset' --> frozenset({10,20,30,40})\n",
    "       frozenset is immutable datatype. Indexing and slicing is not possible.\n",
    "\n",
    "---> dictionary:\n",
    "       Collection of unordered mutable combination of key-value pair written inside curly brackets --> {1:10,2:20,3:30}\n",
    "       Keys can't be duplicated and it doesnot allow mutable datatypes as key.\n",
    "       Values can be duplicated and it allows mutable datatype as values.\n",
    "       dict_name.update({key:value}) --> adds a pair to the end of dictionary.\n",
    "       dict_name.pop(key,'return_this_if_key_not_found') --> removes the element with specified key.\n",
    "       dict_name.popitem() --> removes the last item from the dictionary.  \n",
    "    \n",
    "---> range:\n",
    "       Creates a sequence of numbers based in pattern.\n",
    "         Syntax :\n",
    "                  range(start,stop,step)\n",
    "                  range(stop) ---> stop = (n-1)\n",
    "       range can be wraped in list,tuple,set to get range in particular datatype.\n",
    "\n",
    "---> byte and bytearray:\n",
    "       They are used to store images,pdf or soundclips.\n",
    "       allowed characters are 0-256.\n",
    "         byte --> immutable --> print(bytes([10,20,30]))\n",
    "         bytearrray --> mutable --> print(bytearray([10,20,30]))"
   ]
  },
  {
   "cell_type": "markdown",
   "metadata": {},
   "source": [
    "## 9. Input, output and print functions"
   ]
  },
  {
   "cell_type": "raw",
   "metadata": {},
   "source": [
    "---> Input function\n",
    "\n",
    " - Input function is used to take input from user.\n",
    " - It converts everything to string so it has to be type casted for the needful.\n",
    " - Typecasting is allowed only for fundamental datatypes.\n",
    " - 'eval' is used to evaluate the input and find the appropriate datatype.\n",
    " - 'eval' can be used for both fundamental and derived datatypes.\n",
    "\n",
    "---> Output function (formating output)\n",
    "\n",
    " - Prefix 'f' followed by the required output string will do the output formatting.\n",
    " - The required variable has to be passed inside the paranthesis '{}'.\n",
    " \n",
    "---> Print function\n",
    "\n",
    " - Print function can take multiple arguments.\n",
    " - 'sep' and 'end' attributes can be used to modify the display format of the output.\n",
    " - For user defined seperator 'sep' can be used. (default seperator is space)\n",
    " - To display the multiline output in a single line 'end' can be used. (default seperator is \\n)"
   ]
  },
  {
   "cell_type": "code",
   "execution_count": 13,
   "metadata": {},
   "outputs": [
    {
     "name": "stdout",
     "output_type": "stream",
     "text": [
      "Enter the number: 2\n",
      "2 <class 'str'>\n",
      "Enter a number: 3\n",
      "3 <class 'int'>\n",
      "Enter something: {2:4, 'suresh':'krishna', 62:56}\n",
      "{2: 4, 'suresh': 'krishna', 62: 56} <class 'dict'>\n",
      "\n",
      "Multiplication of 23 and 56 is 1288\n",
      "Multiplication of 23 and 56 is 1288\n",
      "\n",
      "10 and 20 and 30\n",
      "10 20 and 30\n"
     ]
    }
   ],
   "source": [
    "# EXAMPLE\n",
    "\n",
    "# Input function:\n",
    "\n",
    "inp = input('Enter the number: ')\n",
    "print(inp, type(inp)) # Type will be string (we can typecaste to int)\n",
    "\n",
    "inp_int = int(input('Enter a number: '))  # Type casting to int (similarly other fundamental datatypes can be used)\n",
    "print(inp_int, type(inp_int)) \n",
    "\n",
    "inp_eval = eval(input('Enter something: '))\n",
    "print(inp_eval, type(inp_eval)) # Evaluating the appropriate datatype\n",
    "print()\n",
    "\n",
    "# Output function (Formating the output):\n",
    "\n",
    "num_1 = 23\n",
    "num_2 = 56\n",
    "res = num_1 * num_2\n",
    "print(f'Multiplication of {num_1} and {num_2} is {res}')\n",
    "# This can also be written as\n",
    "print('Multiplication of {} and {} is {}'.format(num_1, num_2, res))\n",
    "print()\n",
    "# Print function:\n",
    "\n",
    "print(10,20,30,sep=' and ') # using 'sep' attribute. Other escape sequence can also be used.\n",
    "\n",
    "print(10, end=' ')\n",
    "print(20, end=' and ')\n",
    "print(30)                  # using 'end' attribute. Other escape sequence can also be used."
   ]
  },
  {
   "cell_type": "markdown",
   "metadata": {},
   "source": [
    "## 10. Conditional statement"
   ]
  },
  {
   "cell_type": "raw",
   "metadata": {},
   "source": [
    " ---> if - elif - else\n",
    " \n",
    " - An if statement is written using 'if' keyword. Every conditional statement should have a if statement.\n",
    " - The 'elif' keyword is used to try the next condition if the previous condition is not met or satisfied.\n",
    " - 'else' keyword catches anything which isnt caught by preceeding conditions.\n",
    " "
   ]
  },
  {
   "cell_type": "code",
   "execution_count": 4,
   "metadata": {},
   "outputs": [
    {
     "name": "stdout",
     "output_type": "stream",
     "text": [
      "Enter a number between 0 to 9: 5\n",
      "The number entered is Five\n"
     ]
    }
   ],
   "source": [
    "# EXAMPLE:\n",
    "\n",
    "# To display the user entered number in string\n",
    "\n",
    "num = int(input('Enter a number between 0 to 9: '))\n",
    "if num==0:\n",
    "    print('The number entered is Zero')\n",
    "elif num==1:\n",
    "    print('The number entered is One')\n",
    "elif num==2:\n",
    "    print('The number entered is Two')\n",
    "elif num==3:\n",
    "    print('The number entered is Three')\n",
    "elif num==4:\n",
    "    print('The number entered is Four')\n",
    "elif num==5:\n",
    "    print('The number entered is Five')\n",
    "elif num==6:\n",
    "    print('The number entered is Six')\n",
    "elif num==7:\n",
    "    print('The number entered is Seven')\n",
    "elif num==8:\n",
    "    print('The number entered is Eight')\n",
    "elif num==9:\n",
    "    print('The number entered is Nine')\n",
    "else:\n",
    "    print('Number not in range. Try between 0 to 9')"
   ]
  },
  {
   "cell_type": "code",
   "execution_count": 31,
   "metadata": {},
   "outputs": [
    {
     "name": "stdout",
     "output_type": "stream",
     "text": [
      "Enter the first number: 2\n",
      "Enter the second number: 3\n",
      "Enter a operation by choosing between 1 to 7 \n",
      "\n",
      "                \t 1. Addition\n",
      "                \t 2. Subtraction\n",
      "                \t 3. Multipliation\n",
      "                \t 4. Division\n",
      "                \t 5. Floor division\n",
      "                \t 6. Modulo division\n",
      "                \t 7. Addition\n",
      "                \t Enter here: 5\n",
      "\n",
      "Floor division of 2 and 3 is 0\n"
     ]
    }
   ],
   "source": [
    "# Write a program for calculator to perform arithematic operation for two numbers taken from user.\n",
    "# Operation has to defined by user\n",
    "\n",
    "x = int(input('Enter the first number: '))\n",
    "y = int(input('Enter the second number: '))\n",
    "op = int(input('''Enter a operation by choosing between 1 to 7 \\n\n",
    "                \\t 1. Addition\n",
    "                \\t 2. Subtraction\n",
    "                \\t 3. Multipliation\n",
    "                \\t 4. Division\n",
    "                \\t 5. Floor division\n",
    "                \\t 6. Modulo division\n",
    "                \\t 7. Addition\n",
    "                \\t Enter here: '''))\n",
    "print()\n",
    "if op == 1:\n",
    "    print(f'Addition of {x} and {y} is {x+y}')\n",
    "    \n",
    "elif op == 2:\n",
    "    print(f'Subtraction of {x} and {y} is {x-y}')\n",
    "    \n",
    "elif op == 3:\n",
    "    print(f'Multiplication of {x} and {y} is {x*y}')\n",
    "    \n",
    "elif op == 4:\n",
    "    if y == 0:\n",
    "        print('Number not divsible by zero')\n",
    "    else:\n",
    "        print(f'Division of {x} and {y} is {x/y}')\n",
    "        \n",
    "elif op == 5:\n",
    "    if y == 0:\n",
    "        print('Number not divsible by zero')\n",
    "    else:\n",
    "        print(f'Floor division of {x} and {y} is {x//y}')\n",
    "\n",
    "elif op == 6:\n",
    "    if y == 0:\n",
    "        print('Number not divsible by zero')\n",
    "    else:\n",
    "        print(f'Modulo division of {x} and {y} is {x%y}')\n",
    "        \n",
    "elif op == 7:\n",
    "    print(f'{x} to the power of {y} is {x**y}')\n",
    "    \n",
    "else:\n",
    "    print('Operation not in range enter between 1 to 7')"
   ]
  },
  {
   "cell_type": "code",
   "execution_count": 46,
   "metadata": {},
   "outputs": [
    {
     "name": "stdout",
     "output_type": "stream",
     "text": [
      "Enter the first number: 30\n",
      "Enter the second number: 20\n",
      "Enter the third number: 10\n",
      "\n",
      "30 is greater than 20 and 10\n",
      "30 is greater than 20 and 10\n"
     ]
    }
   ],
   "source": [
    "# Find the largest of three numbers. Take input from user.\n",
    "\n",
    "num1 = int(input('Enter the first number: '))\n",
    "num2 = int(input('Enter the second number: '))\n",
    "num3 = int(input('Enter the third number: '))\n",
    "print()\n",
    "\n",
    "if num1>num2 and num1>num3:\n",
    "    print(f'{num1} is greater than {num2} and {num3}')\n",
    "elif num2>num3:\n",
    "    print(f'{num2} is greater than {num1} and {num3}')\n",
    "else:\n",
    "    print(f'{num3} is greater than {num1} and {num2}')\n",
    "\n",
    "# The above program can be written using ternary operator\n",
    "# syntax - print(exp_1 if cond_1 else exp_2 if cond_2 else exp_3 if cond_3)\n",
    "\n",
    "print(f'{num1} is greater than {num2} and {num3}' if num1>num2\\\n",
    "      else f'{num2} is greater than {num1} and {num3}' if num2>num3\\\n",
    "      else f'{num3} is greater than {num1} and {num2}')"
   ]
  },
  {
   "cell_type": "code",
   "execution_count": 58,
   "metadata": {},
   "outputs": [
    {
     "name": "stdout",
     "output_type": "stream",
     "text": [
      "Enter a year: 2020\n",
      "2020 is a leap year\n"
     ]
    }
   ],
   "source": [
    "# To find wheather the user entered year is aleap year or not\n",
    "\n",
    "# Rules to be a leap year: \n",
    "# 1. The year should be divisible by 4\n",
    "# 2. The year should be divisible by 4 but not 100\n",
    "# 3. The year should be divisible by 4 and 100 but not 400\n",
    "# 4. The year should by divisible by 4, 100 and 400\n",
    "\n",
    "year = int(input('Enter a year: '))\n",
    "if year%4==0:\n",
    "    if year%100==0:\n",
    "        if year%400==0:\n",
    "            print(f'{year} is a leap year')\n",
    "        else:\n",
    "            print(f'{year} is not a leap year')\n",
    "    else:\n",
    "        print(f'{year} is a leap year')\n",
    "else:\n",
    "    print(f'{year} is not a leap year')"
   ]
  },
  {
   "cell_type": "markdown",
   "metadata": {},
   "source": [
    "## 11. Concept of loops"
   ]
  },
  {
   "cell_type": "raw",
   "metadata": {},
   "source": [
    " ---> for loop (if number of itereation is known and when the data is iterable and have generator function)\n",
    " ---> while loop (if number of iteration is not known and data is not iterable and doesnt have generator function)\n",
    " \n",
    " - for loop syntax\n",
    "     for variable in sequence:\n",
    "         code\n",
    "         code\n",
    " - while expression (True/False):\n",
    "     code\n",
    "     code\n",
    "     increment/decrement"
   ]
  },
  {
   "cell_type": "code",
   "execution_count": 11,
   "metadata": {},
   "outputs": [
    {
     "name": "stdout",
     "output_type": "stream",
     "text": [
      "This sentence will be itered over loop\n",
      "Number of vowels in the sentence =  13\n",
      "hssnec ilb trdoe op"
     ]
    }
   ],
   "source": [
    "# EXAMPLE:\n",
    "\n",
    "sen = 'This sentence will be itered over loop'\n",
    "\n",
    "# for loop\n",
    "for i in sen:\n",
    "    print(i,end='')\n",
    "print()\n",
    "\n",
    "c=0\n",
    "for i in sen:\n",
    "    if i in ['a','e','i','o','u']:\n",
    "        c += 1\n",
    "print('Number of vowels in the sentence = ',c)\n",
    "\n",
    "for i in range(len(sen)):\n",
    "    if i%2!=0:\n",
    "        print(sen[i], end='')"
   ]
  },
  {
   "cell_type": "code",
   "execution_count": null,
   "metadata": {},
   "outputs": [],
   "source": []
  }
 ],
 "metadata": {
  "kernelspec": {
   "display_name": "Python 3",
   "language": "python",
   "name": "python3"
  },
  "language_info": {
   "codemirror_mode": {
    "name": "ipython",
    "version": 3
   },
   "file_extension": ".py",
   "mimetype": "text/x-python",
   "name": "python",
   "nbconvert_exporter": "python",
   "pygments_lexer": "ipython3",
   "version": "3.8.5"
  }
 },
 "nbformat": 4,
 "nbformat_minor": 4
}
