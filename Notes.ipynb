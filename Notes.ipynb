{
 "cells": [
  {
   "cell_type": "markdown",
   "metadata": {},
   "source": [
    "# QUICK REVISION NOTES"
   ]
  },
  {
   "cell_type": "markdown",
   "metadata": {},
   "source": [
    "### 1. ZEN OF PYTHON"
   ]
  },
  {
   "cell_type": "code",
   "execution_count": 1,
   "metadata": {
    "scrolled": true
   },
   "outputs": [
    {
     "name": "stdout",
     "output_type": "stream",
     "text": [
      "The Zen of Python, by Tim Peters\n",
      "\n",
      "Beautiful is better than ugly.\n",
      "Explicit is better than implicit.\n",
      "Simple is better than complex.\n",
      "Complex is better than complicated.\n",
      "Flat is better than nested.\n",
      "Sparse is better than dense.\n",
      "Readability counts.\n",
      "Special cases aren't special enough to break the rules.\n",
      "Although practicality beats purity.\n",
      "Errors should never pass silently.\n",
      "Unless explicitly silenced.\n",
      "In the face of ambiguity, refuse the temptation to guess.\n",
      "There should be one-- and preferably only one --obvious way to do it.\n",
      "Although that way may not be obvious at first unless you're Dutch.\n",
      "Now is better than never.\n",
      "Although never is often better than *right* now.\n",
      "If the implementation is hard to explain, it's a bad idea.\n",
      "If the implementation is easy to explain, it may be a good idea.\n",
      "Namespaces are one honking great idea -- let's do more of those!\n"
     ]
    }
   ],
   "source": [
    "import this"
   ]
  },
  {
   "cell_type": "markdown",
   "metadata": {},
   "source": [
    "### 2. FUNDAMENTAL DATATYPES"
   ]
  },
  {
   "cell_type": "code",
   "execution_count": null,
   "metadata": {},
   "outputs": [],
   "source": [
    "# int:\n",
    "  #Whole number without decimal point is integer ---> decimal->(int(10)),binary->(bin(0b)),octal->(oct(0o)),hexa->(hex(0x))\n",
    "\n",
    "# float:\n",
    "  #any number with decimal point is integer ---> print(float(10))\n",
    "    \n",
    "# complex:\n",
    "  #combination of real and imaginary part ---> 6+12j --> 6 is real part & 12j is imaginary part & j is imaginary value          \n",
    "\n",
    "# string:\n",
    "  #combination of characters kept inside quote-->print('python class')& print(\"python's class\")& print('''python's & \"java\"''')\n",
    "    \n",
    "# boolean:\n",
    "  #represented by True or False (1 & 0) --> every thing other than 0 is True, 0 and empty string is False\n",
    "    \n",
    "# None:\n",
    "  #it represents null/no value, null is not same as 0, It can be added anywere for future changes, ID of null is same everywere.\n"
   ]
  },
  {
   "cell_type": "markdown",
   "metadata": {},
   "source": [
    "### 3. SEQUENCE, INDEXING, SLICING, CONCATENATION AND REPETITION"
   ]
  },
  {
   "cell_type": "code",
   "execution_count": null,
   "metadata": {},
   "outputs": [],
   "source": [
    "# Sequence:\n",
    "  #Sequence is a ordered collection of elements --> string,list,tuple,byte,bytearray,range.\n",
    "  #Indexing and slicing is allowed.\n",
    "\n",
    "# Index:\n",
    "  #Index is the represent of position of the element in python. Python allows both positive and negative index\n",
    "           \n",
    "#                                           -6  -5  -4  -3  -2  -1\n",
    "#     Negative index (right to left)     <--------------------------    starts from -1\n",
    "#                                            p   y   t   h   o   n\n",
    "#     Positive index (left to right)     --------------------------->   starts from 0\n",
    "#                                            0   1   2   3   4   5\n",
    "        \n",
    "# Indexing:\n",
    "  #Indexing is a concept of accessing single element from list. only one element can be accessed at a time.\n",
    "    #syntax :\n",
    "            # --> list_name[index_number] --> to access the element\n",
    "            # --> list_name.index('element',start,stop) --> to access the index of first occurance of element\n",
    "\n",
    "# Slicing:\n",
    "  #Slicing is a concept of accessing multiple element from list at a time.\n",
    "    #syntax :\n",
    "            # --> list_name[start:stop:step] --> to access multiple elements\n",
    "                  #start --> position to start slicing , default = 0\n",
    "                  #stop  --> position one more than were we want to end slicing, default = length of the string\n",
    "                  #step  --> step of slicing , default = 1.\n",
    "                     #step = 1  --> slices from left to right.\n",
    "                     #step = -1 --> slices from right to left.\n",
    "\n",
    "# Concatenation:\n",
    "  #Process of combining two sequence of same datatype. print('python' + ' ' + 'is awesome')\n",
    "    \n",
    "# Repetition:\n",
    "  #It is the process of repeating a string multiple times. It should have one string and one integer datatype.\n",
    "    #ex: print('python is cool, '*3)"
   ]
  },
  {
   "cell_type": "markdown",
   "metadata": {},
   "source": [
    "### 4. DERIVED DATATYPES"
   ]
  },
  {
   "cell_type": "code",
   "execution_count": null,
   "metadata": {},
   "outputs": [],
   "source": [
    "# list:\n",
    "  #Collection of hetrogeneous elements written inside the square bracket --> [20,{30:40},(56,96)]\n",
    "  #It is a mutable datatype and a sequence so indexing and slicing is possible.\n",
    "  #list_name.append('element') ---> to add element at the end of the list.\n",
    "  #list_name.remove('element') ---> to remove the element from the list.\n",
    "\n",
    "    \n",
    "# tuple:\n",
    "  #Collection of ordered and immutable data written inside round brackets. --> (20,{30:40},(56,96))\n",
    "  #It is sequence so indexing and slicing is possible.  \n",
    "    \n",
    "# set:\n",
    "  #Collection of unordered unique elements written inside curly brackets --> {10,20,30,40}\n",
    "  #Set is mutable but it wont allow mutable datatype as element.  \n",
    "  #It is not a sequence so indexing and slicing is not possible.\n",
    "  #Set doesnot allow to duplicate elements inside it .\n",
    "  #set_name.add('immutable_element') --> to add element inside the set.\n",
    "  #set_name.remove('immutable_element') --> to remove element from the set. \n",
    "\n",
    "# frozenset:\n",
    "  #Collection of elements written inside round brackets with prefix 'frozenset' --> frozenset({10,20,30,40})\n",
    "  #frozenset is immutable datatype. Indexing and slicing is not possible.\n",
    "\n",
    "# dictionary:\n",
    "  #Collection of unordered mutable combination of key-value pair written inside curly brackets --> {1:10,2:20,3:30}\n",
    "  #Keys can't be duplicated and it doesnot allow mutable datatypes as key.\n",
    "  #Values can be duplicated and it allows mutable datatype as values.\n",
    "  #dict_name.update({key:value}) --> adds a pair to the end of dictionary.\n",
    "  #dict_name.pop(key,'return_this_if_key_not_found') --> removes the element with specified key.\n",
    "  #dict_name.popitem() --> removes the last item from the dictionary.  \n",
    "    \n",
    "# range:\n",
    "  #Creates a sequence of numbers based in pattern.\n",
    "    #Syntax :\n",
    "            # range(start,stop,step)\n",
    "            # range(stop) ---> stop = (n-1)\n",
    "  #range can be wraped in list,tuple,set to get range in particular datatype.\n",
    "\n",
    "# byte and bytearray:\n",
    "  #They are used to store images,pdf or soundclips.\n",
    "  #allowed characters are 0-256.\n",
    "    #byte --> immutable --> print(bytes([10,20,30]))\n",
    "    #bytearrray --> mutable --> print(bytearray([10,20,30]))\n"
   ]
  },
  {
   "cell_type": "markdown",
   "metadata": {},
   "source": [
    "### preparing the rest ......."
   ]
  }
 ],
 "metadata": {
  "kernelspec": {
   "display_name": "Python 3",
   "language": "python",
   "name": "python3"
  },
  "language_info": {
   "codemirror_mode": {
    "name": "ipython",
    "version": 3
   },
   "file_extension": ".py",
   "mimetype": "text/x-python",
   "name": "python",
   "nbconvert_exporter": "python",
   "pygments_lexer": "ipython3",
   "version": "3.7.6"
  }
 },
 "nbformat": 4,
 "nbformat_minor": 4
}
