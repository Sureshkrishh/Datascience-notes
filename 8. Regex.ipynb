{
 "cells": [
  {
   "cell_type": "markdown",
   "metadata": {},
   "source": [
    "### QUICK REVISION NOTES 8"
   ]
  },
  {
   "cell_type": "markdown",
   "metadata": {},
   "source": [
    "### Regular expression"
   ]
  },
  {
   "cell_type": "code",
   "execution_count": null,
   "metadata": {},
   "outputs": [],
   "source": [
    "# Regular expression (RegEx) is used to perform various operations on strng.\n",
    "# It is mainly used to extract data from the string.\n",
    "# RegEx can only be performed in raw string.\n",
    "# To use RegEx it as to imported."
   ]
  },
  {
   "cell_type": "code",
   "execution_count": 14,
   "metadata": {},
   "outputs": [
    {
     "name": "stdout",
     "output_type": "stream",
     "text": [
      "<re.Match object; span=(0, 3), match='cat'>\n",
      "cat\n"
     ]
    }
   ],
   "source": [
    "# Example:\n",
    "\n",
    "import re                          # importing RegEx.\n",
    "stng = 'cat mat can bat cup bad'   # input string.\n",
    "exp = r'c\\w+'                      # raw string with expression .\n",
    "out =  re.match(exp, stng)         # applying regEx 'match' method to the string. (pattern matching)\n",
    "print(out)                         # This prints the object if match is found if not it ll return None\n",
    "print(out.group())                 # printing the output using group keyword."
   ]
  },
  {
   "cell_type": "code",
   "execution_count": 10,
   "metadata": {},
   "outputs": [
    {
     "name": "stdout",
     "output_type": "stream",
     "text": [
      "cat\n"
     ]
    }
   ],
   "source": [
    "# above program can also be written using conditional statement\n",
    "strr = 'cat mat can bat cup bad'\n",
    "exp = r'c\\w+'\n",
    "out = re.match(exp,strr)\n",
    "if out == None:\n",
    "    print(out)\n",
    "else:\n",
    "    print(out.group())"
   ]
  },
  {
   "cell_type": "code",
   "execution_count": 8,
   "metadata": {},
   "outputs": [],
   "source": [
    "# The re module offers a set of functions that allows to search a string for match\n",
    "\n",
    "# re.match(exp, str) - find whether string starts with given sub string/srting\n",
    "# re.search(exp, str) - find the first occurance of the string/substring\n",
    "# re.findall(exp, str) - returns all the occurance of matched pattern. group() is not needed\n",
    "# re.split(exp, str) - splits the string for the specified sequence. group() is not needed.\n",
    "# re.sub(exp,new_str,str) - substring is replaced by new string where eve the pattern matches.\n",
    "\n",
    "# for match and search function group() has to be used to print the output\n",
    "# for findall, split, and sub function group() is not needed. Return type is list"
   ]
  },
  {
   "cell_type": "code",
   "execution_count": null,
   "metadata": {},
   "outputs": [],
   "source": [
    "# Sequence characters in regular expression:-\n",
    "#     1. \\d - any digit from 0 to 9\n",
    "#     2. \\D - any non-digit - alphabets, special char\n",
    "#     3. \\s - white space e.g.:- \\t,\\n,\\r,\\v,\\f\n",
    "#     4. \\S - non white space character\n",
    "#     5. \\w - any alphanumeric character e.g.:- (A to Z, a to z, 0 to 9)\n",
    "#     6. \\W - any non alphanumeric character\n",
    "#     7. \\b - represents a space around words\n",
    "#     8. \\A - matches only at the start of the string\n",
    "#     9. \\Z - matches only at the end of the string\n",
    "\n",
    "# Characters represents more than one character to be matched in the string is called Quantifiers.\n",
    "#     1. + - represents 1 or more repetitions of the preceding regex exp\n",
    "#     2. * - 0 or more repetitions of the preceding regex exp\n",
    "#     3. ? - 0 or 1 repetitions of the preceding regex exp\n",
    "#     4. {m} - exactly m occurences\n",
    "#     5. {m,n} - from m to n. m defaults to 0 n to infinity.\n",
    "\n",
    "# Special Characters in regex:-\n",
    "#     1. \\ - Escape special character\n",
    "#     2. . - matches any character except new line\n",
    "#     3. ^ - matches begining of the string\n",
    "#     4. $ - matches ending of a string\n",
    "#     5. [...] - Denotes set of possible charcaters. e.g. [6p-t]matches any characters from 6,p,q,r,s or t.\n",
    "#     6. [^...] - Matches every characters except the ones inside brackets. e.g [^6p-t]matches every characters\n",
    "#     except 6,p,q,r,s or t.\n",
    "#     7. (...) - Matches the regular expression inside the parenthesis and the result can be captured.\n",
    "#     8. R|S - Matches the regex either R or S."
   ]
  },
  {
   "cell_type": "markdown",
   "metadata": {},
   "source": [
    "### File handling"
   ]
  },
  {
   "cell_type": "code",
   "execution_count": 15,
   "metadata": {},
   "outputs": [
    {
     "name": "stdout",
     "output_type": "stream",
     "text": [
      "0\n",
      "This file is created for file handling\n",
      "38\n",
      "file is created for file handling\n"
     ]
    }
   ],
   "source": [
    "# syntax: var_name = open('file_name_with_extension', 'mode')\n",
    "# mode : read(r), write(w), append(a), read and wrire(r+), write and read(w+), append and read(a+)\n",
    "\n",
    "# read mode (r) --> this mode allows only to read the file, we cant write using this mode\n",
    "#               --> while opening, the file ll be opened in read mode & cursor is placed at the beginning\n",
    "#               --> if file doesnt exists it ll return 'FileNotFound' error\n",
    "\n",
    "# Example:\n",
    "\n",
    "rm = open('read_file.txt', 'r')  # opening the file that is already created and saved in the same location.\n",
    "print(rm.tell())  # gives the cursor index.\n",
    "print(rm.read())  # reades the file file from cursor index to the end.\n",
    "print(rm.tell())  # gives the cursor index of after reading all.\n",
    "rm.seek(5)        # moving the cursor to the 5th index.\n",
    "print(rm.read())  # reding the file from 5th index to the end.\n",
    "rm.close()        # saves and closes the file."
   ]
  },
  {
   "cell_type": "code",
   "execution_count": 20,
   "metadata": {},
   "outputs": [
    {
     "name": "stdout",
     "output_type": "stream",
     "text": [
      "0\n",
      "26\n"
     ]
    }
   ],
   "source": [
    "# write mode (w) --> this mode allows only to write in the file, we cant read using this mode\n",
    "#                --> opening existing file in this mode ll delete everything already written in the file.\n",
    "#                --> if file doesnt exists it ll create a file in the name in same location.\n",
    "\n",
    "# Example:\n",
    "\n",
    "wm = open('write_file.txt', 'w')        # creating a file that doesnt exists\n",
    "print(wm.tell())                        # Initially cursor at zero index \n",
    "wm.write('Iam written through python')\n",
    "print(wm.tell())                        # cursor at end of the line index point\n",
    "# print(wm.read())                      # This will return UnsupportedOperation error\n",
    "wm.close()                              # Saving adn closing the file \n",
    "\n",
    "# Now a txt file in the name of write_file is created and saved in the same location."
   ]
  },
  {
   "cell_type": "code",
   "execution_count": 31,
   "metadata": {},
   "outputs": [
    {
     "name": "stdout",
     "output_type": "stream",
     "text": [
      "53\n",
      "78\n",
      "125\n",
      "\n",
      "Reading the appended file using read mode:\n",
      "Iam ceated to check the append mode in file handling.\n",
      "Checking the append mode\n",
      "Checking the append mode after seeking to zero\n"
     ]
    }
   ],
   "source": [
    "# append mode(a) --> this mode is similar to the write mode but doesnt deletes the content of the file.\n",
    "#                --> opening existing file in this mode ll will places the cursor at the end of the file.\n",
    "#                --> if file doesnt exists it ll create a file in the name in same location.\n",
    "\n",
    "# Example:\n",
    "\n",
    "am = open('append_file.txt', 'a')       # Opening the existing file in append mode\n",
    "print(am.tell())                        # by default cursor is placed at the end\n",
    "am.write('\\nChecking the append mode')  # appending the text\n",
    "print(am.tell())                        # checking the cursor index position after apeending\n",
    "am.seek(0)                              # seeking to zero to check the append mode from zero index position\n",
    "am.write('\\nChecking the append mode after seeking to zero')   # appending the text after seek(0)\n",
    "print(am.tell())                        # checking the cursor index position after apeending \n",
    "am.close()                              # saving and closing the file\n",
    "\n",
    "print('\\nReading the appended file using read mode:')\n",
    "am_r = open('append_file.txt', 'r')\n",
    "print(am_r.read())"
   ]
  },
  {
   "cell_type": "code",
   "execution_count": 49,
   "metadata": {},
   "outputs": [
    {
     "name": "stdout",
     "output_type": "stream",
     "text": [
      "0\n",
      "This file is used for checking the read and write mode.\n",
      "55\n",
      "iam written in the beginning\n",
      "g the read and write mode.\n",
      "iam written at the end\n",
      "\n",
      "This file is used to check read write mode by concat method.\n",
      "Iam written in the beginning\n",
      "This file is used to check read write mode by concat method.\n",
      "Iam written in the end\n"
     ]
    }
   ],
   "source": [
    "# read and write mode (r+) \n",
    "\n",
    "# --> This mode allows both the option of read and write in the file.\n",
    "# --> But this is more into the read mode han read mode.\n",
    "# --> it open the file and place the cursor at the beginning of the file.\n",
    "# --> if the file doesnt exists it ll return 'FileNotFound' error.\n",
    "\n",
    "rw = open('read_write.txt', 'r+')          # opening the existing file\n",
    "print(rw.tell())                           # checking the cursor index\n",
    "print(rw.read())                           # reading the content of file\n",
    "print(rw.tell())                           # checking the cursor index\n",
    "rw.write('\\niam written at the end')       # writing at the end of the file\n",
    "rw.seek(0)                                 # moving the cursor to zero index\n",
    "rw.write('iam written in the beginning\\n') # writing from zero index\n",
    "rw.seek(0)                                 # moving the cursor to zero index before reading\n",
    "print(rw.read())                           # reading the complete file again\n",
    "rw.close()                                 # saving and closing the file\n",
    " \n",
    "# writing in this mode will delete the charcters equal to the length of written characters.\n",
    "# To read and write the content without deleteing the previous content we can concatenate\n",
    "\n",
    "print()\n",
    "rwc = open('rw_concat.txt', 'r+')                 # opening the existing file\n",
    "print(rwc.read())                                 # reading the file\n",
    "rwc.write('\\nIam written in the end')             # writing at the end of the file\n",
    "rwc.seek(0)                                       # moving the cursor to zero index\n",
    "cnct = rwc.read()                                 # assigning the content of read mode to a variable\n",
    "rwc.seek(0)                                       # moving the cursor to zero index\n",
    "rwc.write('Iam written in the beginning\\n'+cnct)  # writing the new content and concatenating the variable\n",
    "rwc.seek(0)                                       # moving the cursor to zero index\n",
    "print(rwc.read())                                 # reading the entire file after concatenating\n",
    "rwc.close()                                       # saving and closing the file"
   ]
  },
  {
   "cell_type": "code",
<<<<<<< HEAD
   "execution_count": 5,
   "metadata": {},
   "outputs": [
    {
     "name": "stdout",
     "output_type": "stream",
     "text": [
      "0\n",
      "\n",
      "Iam written using write and read mode\n"
     ]
    }
   ],
   "source": [
    "# write and read mode (w+) \n",
    "\n",
    "# --> This is similar to write mode as it deletes the whole content when the file is opened\n",
    "# --> Place the cursor at the beginning of the file by deleteing the previos content.\n",
    "# --> If the file doesnt exists it ll create a file in the same location with the name mentioned.\n",
    "# --> Additionally it will allow to read the file when the cursor is seeked to zero index\n",
    "\n",
    "# Example\n",
    "wr = open('write_read.txt', 'w+')                  # creating a file that doesnt exists\n",
    "print(wr.tell())                                   # checking the cursor index\n",
    "print(wr.read())                                   # reading the content of file\n",
    "wr.write('Iam written using write and read mode')  # writing the content in the file\n",
    "wr.seek(0)                                         # moving the cursor to zero index\n",
    "print(wr.read())                                   # reading the content of the file\n",
    "wr.close()                                         # saving and closing the file"
   ]
  },
  {
   "cell_type": "code",
   "execution_count": 14,
   "metadata": {},
   "outputs": [
    {
     "name": "stdout",
     "output_type": "stream",
     "text": [
      "28\n",
      "This is append and read file\n",
      "52\n",
      "This is append and read file\n",
      "Iam appended at the end\n"
     ]
    }
   ],
   "source": [
    "# append and read mode (a+) \n",
    "\n",
    "# --> This allows to read and write in the file. (at the end by default)\n",
    "# --> Place the cursor at the end of the file without deleteing the previous content.\n",
    "# --> If the file doesnt exists it ll create a file in the same location with the name mentioned.\n",
    "# --> Additionally it will allow to read the file when the cursor is seeked to zero index\n",
    "\n",
    "ar = open('append_read.txt', 'a+')      # opening the existing file\n",
    "print(ar.tell())                        # checking the cursor index\n",
    "ar.seek(0)                              # seeking the cursor to the beginning of the file\n",
    "print(ar.read())                        # reading the entire content of the file\n",
    "ar.write('\\nIam appended at the end')   # appending the new content at the end\n",
    "print(ar.tell())                        # checking the cursor index\n",
    "ar.seek(0)                              # seeking the cursor to the beginning of the file\n",
    "print(ar.read())                        # reading the entire content of the file\n",
    "ar.close()                              # saving and closing the file"
   ]
  },
  {
   "cell_type": "code",
   "execution_count": 49,
   "metadata": {},
   "outputs": [
    {
     "name": "stdout",
     "output_type": "stream",
     "text": [
      "Reading the whole content using read() method:\n",
      "This file is written to check the methods to read the file\n",
      "read()\n",
      "readline(no_of_char)\n",
      "readline()\n",
      "readlines()\n",
      "\n",
      "Reading the specified number of content using read(n) method:\n",
      "This file is written to check \n",
      "the method\n",
      "\n",
      "Reading the one line at a time using readline() method:\n",
      "This file is written to check the methods to read the file\n",
      "read()\n",
      "readline(no_of_char)\n",
      "readline()\n",
      "readlines()\n",
      "\n",
      "\n",
      "Reading the whole content using readlines() method:\n",
      "['This file is written to check the methods to read the file\\n', 'read()\\n', 'readline(no_of_char)\\n', 'readline()\\n', 'readlines()']\n"
     ]
    }
   ],
   "source": [
    "# Methods to read form the file\n",
    "\n",
    "# read() --> reads the whole content and returns the string object\n",
    "ch = open('read_methods.txt', 'r')\n",
    "print('Reading the whole content using read() method:')\n",
    "print(ch.read())\n",
    "\n",
    "# read(n) --> reads the specified number characters and returns the string object\n",
    "print('\\nReading the specified number of content using read(n) method:')\n",
    "ch.seek(0)             # Seeking the cursor to zero index before reading\n",
    "print(ch.read(30))     # Reading the first 30 charcters\n",
    "print(ch.read(10))     # reading the next 10 characters without seeking to zero index\n",
    "\n",
    "#readline() --> reads 1 line at a time and returns string object\n",
    "print('\\nReading the one line at a time using readline() method:')\n",
    "ch.seek(0)                     # Seeking the cursor to zero index before reading\n",
    "print(ch.readline(), end='')   # Reads the first line of the file\n",
    "print(ch.readline(), end='')   # Reads the next line of the file\n",
    "print(ch.readline(), end='')   # Reads the next line of the file\n",
    "print(ch.readline(), end='')   # Reads the next line of the file\n",
    "print(ch.readline())           # Reads the next line of the file\n",
    "print(ch.readline())           # If there is no next line it returns empty space\n",
    "\n",
    "#readlines() --> read the whole content of the file and returns the list object\n",
    "print('\\nReading the whole content using readlines() method:')\n",
    "ch.seek(0)              # Seeking the cursor to zero index before reading\n",
    "print(ch.readlines())   # Reading the whole content of the file"
   ]
  },
  {
   "cell_type": "code",
=======
>>>>>>> ce74e895e9455106935894837e48738cfa43c6fa
   "execution_count": null,
   "metadata": {},
   "outputs": [],
   "source": [
<<<<<<< HEAD
    "# Methods to write in a file\n",
    "\n",
    "# write('string')\n",
    "# writelines(['str1\\n','str2\\n','str3'])  ---> This is used to write a items of the list to the file as string"
   ]
  },
  {
   "cell_type": "code",
   "execution_count": null,
   "metadata": {},
   "outputs": [],
   "source": [
    "# with statement\n",
    "\n",
    "# Opening the file using with statement will save and close till the executed lines.\n",
    "# In case of errors the file will be saved and closed till error free lines.\n",
    "# Syntax:\n",
    "#     with open('file_name.ext','mode') as var:\n",
    "#         code_1\n",
    "#         code_2\n",
    "#         ...\n",
    "#         ...\n",
    "#         code_n"
   ]
  },
  {
   "cell_type": "code",
   "execution_count": null,
   "metadata": {},
   "outputs": [],
   "source": [
    "# File handling with binary files\n",
    "\n",
    "# read mode --> (rb)\n",
    "# write mode --> (wb)\n",
    "# append mode --> (ab)\n",
    "# read and write mode --> (rb+)\n",
    "# write and read mode --> (wb+)\n",
    "# append and read mode --> (ab+)"
=======
    "# write and read mode (w+) \n",
    "\n",
    "# --> This is similar to write mode as it deletes the whole content when the file is opened\n",
    "# --> Place the cursor at the beginning of the file by deleteing the previos content.\n",
    "# --> If the file doesnt exists it ll return 'FileNotFound' error.\n",
    "# --> Additionally it will allow to read the file when the cursor is seeked to zero index"
>>>>>>> ce74e895e9455106935894837e48738cfa43c6fa
   ]
  },
  {
   "cell_type": "code",
   "execution_count": null,
   "metadata": {},
   "outputs": [],
   "source": []
  },
  {
   "cell_type": "code",
   "execution_count": null,
   "metadata": {},
   "outputs": [],
   "source": []
  },
  {
   "cell_type": "code",
   "execution_count": null,
   "metadata": {},
   "outputs": [],
   "source": []
  },
  {
   "cell_type": "code",
   "execution_count": null,
   "metadata": {},
   "outputs": [],
   "source": []
  }
 ],
 "metadata": {
  "kernelspec": {
   "display_name": "Python 3",
   "language": "python",
   "name": "python3"
  },
  "language_info": {
   "codemirror_mode": {
    "name": "ipython",
    "version": 3
   },
   "file_extension": ".py",
   "mimetype": "text/x-python",
   "name": "python",
   "nbconvert_exporter": "python",
   "pygments_lexer": "ipython3",
   "version": "3.8.5"
  }
 },
 "nbformat": 4,
 "nbformat_minor": 4
}
