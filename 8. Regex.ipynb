{
 "cells": [
  {
   "cell_type": "markdown",
   "metadata": {},
   "source": [
    "### QUICK REVISION NOTES 8"
   ]
  },
  {
   "cell_type": "markdown",
   "metadata": {},
   "source": [
    "### Regular expression"
   ]
  },
  {
   "cell_type": "code",
   "execution_count": null,
   "metadata": {},
   "outputs": [],
   "source": [
    "# Regular expression (RegEx) is used to perform various operations on strng.\n",
    "# It is mainly used to extract data from the string.\n",
    "# RegEx can only be performed in raw string.\n",
    "# To use RegEx it as to imported."
   ]
  },
  {
   "cell_type": "code",
   "execution_count": 14,
   "metadata": {},
   "outputs": [
    {
     "name": "stdout",
     "output_type": "stream",
     "text": [
      "<re.Match object; span=(0, 3), match='cat'>\n",
      "cat\n"
     ]
    }
   ],
   "source": [
    "# Example:\n",
    "\n",
    "import re                          # importing RegEx.\n",
    "stng = 'cat mat can bat cup bad'   # input string.\n",
    "exp = r'c\\w+'                      # raw string with expression .\n",
    "out =  re.match(exp, stng)         # applying regEx 'match' method to the string. (pattern matching)\n",
    "print(out)                         # This prints the object if match is found if not it ll return None\n",
    "print(out.group())                 # printing the output using group keyword."
   ]
  },
  {
   "cell_type": "code",
   "execution_count": 10,
   "metadata": {},
   "outputs": [
    {
     "name": "stdout",
     "output_type": "stream",
     "text": [
      "cat\n"
     ]
    }
   ],
   "source": [
    "# above program can also be written using conditional statement\n",
    "strr = 'cat mat can bat cup bad'\n",
    "exp = r'c\\w+'\n",
    "out = re.match(exp,strr)\n",
    "if out == None:\n",
    "    print(out)\n",
    "else:\n",
    "    print(out.group())"
   ]
  },
  {
   "cell_type": "code",
   "execution_count": 8,
   "metadata": {},
   "outputs": [],
   "source": [
    "# The re module offers a set of functions that allows to search a string for match\n",
    "\n",
    "# re.match(exp, str) - find whether string starts with given sub string/srting\n",
    "# re.search(exp, str) - find the first occurance of the string/substring\n",
    "# re.findall(exp, str) - returns all the occurance of matched pattern. group() is not needed\n",
    "# re.split(exp, str) - splits the string for the specified sequence. group() is not needed.\n",
    "# re.sub(exp,new_str,str) - substring is replaced by new string where eve the pattern matches.\n",
    "\n",
    "# for match and search function group() has to be used to print the output\n",
    "# for findall, split, and sub function group() is not needed. Return type is list"
   ]
  },
  {
   "cell_type": "code",
   "execution_count": null,
   "metadata": {},
   "outputs": [],
   "source": [
    "# Sequence characters in regular expression:-\n",
    "#     1. \\d - any digit from 0 to 9\n",
    "#     2. \\D - any non-digit - alphabets, special char\n",
    "#     3. \\s - white space e.g.:- \\t,\\n,\\r,\\v,\\f\n",
    "#     4. \\S - non white space character\n",
    "#     5. \\w - any alphanumeric character e.g.:- (A to Z, a to z, 0 to 9)\n",
    "#     6. \\W - any non alphanumeric character\n",
    "#     7. \\b - represents a space around words\n",
    "#     8. \\A - matches only at the start of the string\n",
    "#     9. \\Z - matches only at the end of the string\n",
    "\n",
    "# Characters represents more than one character to be matched in the string is called Quantifiers.\n",
    "#     1. + - represents 1 or more repetitions of the preceding regex exp\n",
    "#     2. * - 0 or more repetitions of the preceding regex exp\n",
    "#     3. ? - 0 or 1 repetitions of the preceding regex exp\n",
    "#     4. {m} - exactly m occurences\n",
    "#     5. {m,n} - from m to n. m defaults to 0 n to infinity.\n",
    "\n",
    "# Special Characters in regex:-\n",
    "#     1. \\ - Escape special character\n",
    "#     2. . - matches any character except new line\n",
    "#     3. ^ - matches begining of the string\n",
    "#     4. $ - matches ending of a string\n",
    "#     5. [...] - Denotes set of possible charcaters. e.g. [6p-t]matches any characters from 6,p,q,r,s or t.\n",
    "#     6. [^...] - Matches every characters except the ones inside brackets. e.g [^6p-t]matches every characters\n",
    "#     except 6,p,q,r,s or t.\n",
    "#     7. (...) - Matches the regular expression inside the parenthesis and the result can be captured.\n",
    "#     8. R|S - Matches the regex either R or S."
   ]
  },
  {
   "cell_type": "markdown",
   "metadata": {},
   "source": [
    "### File handling"
   ]
  },
  {
   "cell_type": "code",
   "execution_count": null,
   "metadata": {},
   "outputs": [],
   "source": [
    "# syntax: var_name = open('file_name_with_extension', 'mode')"
   ]
  }
 ],
 "metadata": {
  "kernelspec": {
   "display_name": "Python 3",
   "language": "python",
   "name": "python3"
  },
  "language_info": {
   "codemirror_mode": {
    "name": "ipython",
    "version": 3
   },
   "file_extension": ".py",
   "mimetype": "text/x-python",
   "name": "python",
   "nbconvert_exporter": "python",
   "pygments_lexer": "ipython3",
   "version": "3.8.5"
  }
 },
 "nbformat": 4,
 "nbformat_minor": 4
}
