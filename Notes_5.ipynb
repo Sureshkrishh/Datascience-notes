{
 "cells": [
  {
   "cell_type": "markdown",
   "metadata": {},
   "source": [
    "## QUICK REVISION NOTES 5"
   ]
  },
  {
   "cell_type": "markdown",
   "metadata": {},
   "source": [
    "### Dictionary and its method"
   ]
  },
  {
   "cell_type": "code",
   "execution_count": 1,
   "metadata": {},
   "outputs": [],
   "source": [
    "# Dictionary is a combination of key-value pairs seperated by semi-colan ':' and kept inside '{}'\n",
    "# Dictionary is a mutable object but it doent allow mutable object as key\n",
    "# Key cant be duplicated but values can be duplicated.\n",
    "# Indexing and slicing is not possible.\n",
    "# To access a vale we have to use its key."
   ]
  },
  {
   "cell_type": "code",
   "execution_count": 2,
   "metadata": {},
   "outputs": [
    {
     "name": "stdout",
     "output_type": "stream",
     "text": [
      "{'std': {'name': 'abc', 'num': 40}, 'std2': {'num': 50}} \n",
      "Type of dct is <class 'dict'> \n",
      "ID of dct is 140374704501120\n"
     ]
    }
   ],
   "source": [
    "dct = {'std': {'name':'abc', 'num':40}, 'std2':{'num':50}}\n",
    "print(dct,'\\nType of dct is',type(dct), '\\nID of dct is', id(dct))"
   ]
  },
  {
   "cell_type": "code",
   "execution_count": 3,
   "metadata": {},
   "outputs": [
    {
     "name": "stdout",
     "output_type": "stream",
     "text": [
      "{'name': 'abc', 'num': 40}\n",
      "abc\n",
      "\n",
      "{'std': {'name': 'abc', 'num': 10}, 'std2': {'num': 50}}\n"
     ]
    }
   ],
   "source": [
    "# To access a value in dictionary\n",
    "print(dct['std'])\n",
    "print(dct['std']['name'])\n",
    "print()\n",
    "\n",
    "# To change the value in dictionary\n",
    "dct['std']['num'] = 10\n",
    "print(dct)"
   ]
  },
  {
   "cell_type": "code",
   "execution_count": 4,
   "metadata": {},
   "outputs": [
    {
     "name": "stdout",
     "output_type": "stream",
     "text": [
      "['__class__', '__contains__', '__delattr__', '__delitem__', '__dir__', '__doc__', '__eq__', '__format__', '__ge__', '__getattribute__', '__getitem__', '__gt__', '__hash__', '__init__', '__init_subclass__', '__iter__', '__le__', '__len__', '__lt__', '__ne__', '__new__', '__reduce__', '__reduce_ex__', '__repr__', '__reversed__', '__setattr__', '__setitem__', '__sizeof__', '__str__', '__subclasshook__', 'clear', 'copy', 'fromkeys', 'get', 'items', 'keys', 'pop', 'popitem', 'setdefault', 'update', 'values']\n"
     ]
    }
   ],
   "source": [
    "# To view all the methods in dictionary\n",
    "\n",
    "print(dir(dict))\n",
    "\n",
    "# The identifiers starting and ending with underscore (_) are language defined identifiers\n",
    "# Other than that everything are the methods of dictionary"
   ]
  },
  {
   "cell_type": "code",
   "execution_count": 23,
   "metadata": {},
   "outputs": [
    {
     "name": "stdout",
     "output_type": "stream",
     "text": [
      "{'name': 'abc', 'num': 10}\n",
      "None\n",
      "key-value pair not available\n",
      "{'std': {'name': 'abc', 'num': 10}, 'std2': {'num': 50}}\n",
      "\n",
      "None\n",
      "krishna\n",
      "{1: 20, 'true': 56, 'class': 10, 'age': None, 'name': 'krishna'}\n"
     ]
    }
   ],
   "source": [
    "# get and setdefault\n",
    "\n",
    "# get() - It returns the value of the particular key\n",
    "#       - If the key is not available it returns None which can be edited by the user.\n",
    "\n",
    "print(dct.get('std'))  # Returns the value of 'std'\n",
    "print(dct.get('std3')) # Returns None since the key is not present\n",
    "print(dct.get('hello', 'key-value pair not available'))  # Returns user defined output if the key not available\n",
    "print(dct) \n",
    "\n",
    "# setdefult() - It returns the value of the particular key.\n",
    "#             - If the key is not available it returns None and adds None as value to mentioned key\n",
    "#             - This can also be used to add key-value pair to dictionary\n",
    "print()\n",
    "sdct = {1:20, 'true': 56, 'class':10}\n",
    "print(sdct.setdefault('age'))  # Key 'age is not available so it returns None and saves it as value'\n",
    "print(sdct.setdefault('name','krishna')) # Key 'name' is not available so it returns the assigned value & saves it\n",
    "print(sdct)"
   ]
  },
  {
   "cell_type": "code",
   "execution_count": null,
   "metadata": {},
   "outputs": [],
   "source": []
  }
 ],
 "metadata": {
  "kernelspec": {
   "display_name": "Python 3",
   "language": "python",
   "name": "python3"
  },
  "language_info": {
   "codemirror_mode": {
    "name": "ipython",
    "version": 3
   },
   "file_extension": ".py",
   "mimetype": "text/x-python",
   "name": "python",
   "nbconvert_exporter": "python",
   "pygments_lexer": "ipython3",
   "version": "3.8.5"
  }
 },
 "nbformat": 4,
 "nbformat_minor": 4
}
