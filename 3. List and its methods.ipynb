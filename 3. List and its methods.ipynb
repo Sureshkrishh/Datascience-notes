{
 "cells": [
  {
   "cell_type": "markdown",
   "metadata": {},
   "source": [
    "## QUICK REVISION NOTES 3"
   ]
  },
  {
   "cell_type": "markdown",
   "metadata": {},
   "source": [
    "### List and its method"
   ]
  },
  {
   "cell_type": "code",
   "execution_count": 14,
   "metadata": {},
   "outputs": [
    {
     "name": "stdout",
     "output_type": "stream",
     "text": [
      "[10, 10.2, 'python', (1, 2, 3), {1: 100, 2: 300}, ('true', 'false')]\n",
      "140690048747968 <class 'list'>\n"
     ]
    }
   ],
   "source": [
    "# - List is a sequence and an ordered collection of elements in square bracket.\n",
    "# - Indexing, slicing, concatenation, repetation, membership operations are possible.\n",
    "# - It is a collection of hetrogeneous elements and allow duplicate element and its mutable.\n",
    "\n",
    "lst = [10, 10.20, 'python', (1, 2, 3), {1:100, 2:300}, ('true','false')]\n",
    "print(lst)\n",
    "print(id(lst), type(lst))"
   ]
  },
  {
   "cell_type": "code",
   "execution_count": 15,
   "metadata": {},
   "outputs": [
    {
     "name": "stdout",
     "output_type": "stream",
     "text": [
      "Enter a list: [10,20,30]\n",
      "[10, 20, 30] <class 'list'>\n"
     ]
    }
   ],
   "source": [
    "# taking list input from user\n",
    "\n",
    "inp_lst = eval(input('Enter a list: '))\n",
    "print(inp_lst, type(inp_lst))\n",
    "\n",
    "# eval can be used to get list input from user\n",
    "# We cant use list instead of eval as it returns each and every character as a element in list"
   ]
  },
  {
   "cell_type": "code",
   "execution_count": 21,
   "metadata": {},
   "outputs": [
    {
     "name": "stdout",
     "output_type": "stream",
     "text": [
      "Coverting string to list\n",
      "['This', 'is', 'the', 'string', 'to', 'convert']\n",
      "\n",
      "Indexing in list\n",
      "{1: 100, 2: 300}\n",
      "100\n",
      "3\n",
      "\n",
      "Slicing in list\n",
      "['python', (1, 2, 3), {1: 100, 2: 300}, ('true', 'false')]\n",
      "[('true', 'false'), {1: 100, 2: 300}, (1, 2, 3), 'python', 10.2, 10]\n"
     ]
    }
   ],
   "source": [
    "# coverting string to list:\n",
    "cnv = 'This is the string to convert'\n",
    "print('Coverting string to list')\n",
    "print(cnv.split())\n",
    "\n",
    "# indexing in the list\n",
    "print('\\nIndexing in list')\n",
    "print(lst[4])\n",
    "print(lst[4][1]) # nested indexing\n",
    "print(lst[3][2]) # nested indexing\n",
    "\n",
    "# slicing in the list\n",
    "print('\\nSlicing in list')\n",
    "print(lst[2:6])\n",
    "print(lst[::-1])"
   ]
  },
  {
   "cell_type": "code",
   "execution_count": 23,
   "metadata": {},
   "outputs": [
    {
     "name": "stdout",
     "output_type": "stream",
     "text": [
      "[10, 20, 30]\n",
      "[10, 20, 30]\n",
      "['Aliased', 20, 30, 40]\n",
      "['Aliased', 20, 30, 40]\n",
      "True\n"
     ]
    }
   ],
   "source": [
    "# Aliasing \n",
    "    # - It is the process of assigning another name to exsisting list\n",
    "    # - Changes made in any of them will impact both\n",
    "    \n",
    "ck_lst = [10,20,30]\n",
    "al_lst = ck_lst\n",
    "print(ck_lst)\n",
    "print(al_lst)\n",
    "al_lst[0] = 'Aliased'\n",
    "ck_lst.append(40)\n",
    "print(ck_lst)\n",
    "print(al_lst)\n",
    "print(ck_lst is al_lst)"
   ]
  },
  {
   "cell_type": "code",
   "execution_count": 34,
   "metadata": {},
   "outputs": [
    {
     "name": "stdout",
     "output_type": "stream",
     "text": [
      "[10, 20, 30]\n",
      "[10, 20, 30]\n",
      "[10, 'shallow', 30]\n",
      "[10, 20, 30, 'appended']\n",
      "False\n",
      "\n",
      "Shallow copy in nested list\n",
      "[10, 20, 30, ['oops', 40, 'nest']]\n",
      "[10, 20, 30, ['oops', 40, 'nest']]\n",
      "\n",
      "Concept of deepcopy\n",
      "[10, 20, 30, ['oops', 40, 'deep copy']]\n",
      "[10, 20, 30, ['oops', 40, 'nest']]\n"
     ]
    }
   ],
   "source": [
    "# Shallow copy\n",
    "\n",
    "    # - This is used to create a independent copy of existing an list.\n",
    "    # - Changes made dosnot affect the another list.\n",
    "    \n",
    "olst = [10,20,30]\n",
    "slst = olst[::]\n",
    "print(olst)\n",
    "print(slst)\n",
    "olst[1] = 'shallow'\n",
    "slst.append('appended')\n",
    "print(olst)\n",
    "print(slst)\n",
    "print(olst is slst)\n",
    "\n",
    "    # - Concept of shallow copy doesnt work on nested list.\n",
    "print('\\nShallow copy in nested list')\n",
    "nlst = [10,20,30,['oops',40,100]]\n",
    "snlst = nlst[::]\n",
    "snlst[3][2] = 'nest'\n",
    "print(nlst)\n",
    "print(snlst)\n",
    "\n",
    "    # - To create a copy of nested list deepcopy has to imported and used\n",
    "print('\\nConcept of deepcopy')\n",
    "from copy import deepcopy\n",
    "dnlst = deepcopy(nlst)\n",
    "snlst[3][2] = 'deep copy'\n",
    "print(nlst)\n",
    "print(dnlst)"
   ]
  },
  {
   "cell_type": "code",
   "execution_count": 28,
   "metadata": {},
   "outputs": [
    {
     "name": "stdout",
     "output_type": "stream",
     "text": [
      "[10, 20, 30, ['oops', 40, 'change']] [10, 20, 30, ['oops', 40, 'change']]\n"
     ]
    }
   ],
   "source": [
    "nlst = [10,20,30,['oops',40,100]]\n",
    "snlst = nlst[::]\n",
    "snlst[3][2] = 'change'\n",
    "print(nlst,snlst)"
   ]
  },
  {
   "cell_type": "markdown",
   "metadata": {},
   "source": [
    "### Methods in list"
   ]
  },
  {
   "cell_type": "code",
   "execution_count": 1,
   "metadata": {},
   "outputs": [
    {
     "name": "stdout",
     "output_type": "stream",
     "text": [
      "['__add__', '__class__', '__contains__', '__delattr__', '__delitem__', '__dir__', '__doc__', '__eq__', '__format__', '__ge__', '__getattribute__', '__getitem__', '__gt__', '__hash__', '__iadd__', '__imul__', '__init__', '__init_subclass__', '__iter__', '__le__', '__len__', '__lt__', '__mul__', '__ne__', '__new__', '__reduce__', '__reduce_ex__', '__repr__', '__reversed__', '__rmul__', '__setattr__', '__setitem__', '__sizeof__', '__str__', '__subclasshook__', 'append', 'clear', 'copy', 'count', 'extend', 'index', 'insert', 'pop', 'remove', 'reverse', 'sort']\n"
     ]
    }
   ],
   "source": [
    "print(dir(list))\n",
    "\n",
    "# Identifiers that starts and end with under score (__) are language defined.\n",
    "# Other than that everything else is the method of list.\n",
    "# Since list is a mutable object any method applied on a list will have direct impact on the orginal list."
   ]
  },
  {
   "cell_type": "code",
   "execution_count": 9,
   "metadata": {},
   "outputs": [
    {
     "name": "stdout",
     "output_type": "stream",
     "text": [
      "\n",
      "Adding element using 'append'\n",
      "None\n",
      "[10, 20, 30, 'true', 'false', (56, 95, 31), [{20: 30}, {40: 50}]]\n",
      "\n",
      "Adding element using 'insert'\n",
      "None\n",
      "[10, 20, ['hi', 'iam', 'in'], 40, 'True']\n",
      "\n",
      "Adding element using 'extend'\n",
      "[10, 20, 30, ['true', 'false'], 'iam', 'extended', {20: 80, 50: 'hello'}]\n"
     ]
    }
   ],
   "source": [
    "# To add elements to the list\n",
    "\n",
    "# Append - This add element to the end of the list. This take one argument only\n",
    "print('\\nAdding element using \\'append\\'')\n",
    "alst = [10,20,30,'true','false',(56,95,31)]\n",
    "print(alst.append([{20:30},{40:50}]))   # This will add the element to the list but return type is none.\n",
    "print(alst) # This will print the list with appended elements.\n",
    "\n",
    "# Insert - This add element at the particular index of the list\n",
    "print('\\nAdding element using \\'insert\\'')\n",
    "ilst = [10,20,40,'True']\n",
    "print(ilst.insert(2,['hi', 'iam', 'in']))  # This will add the element to the list but return type is none.\n",
    "print(ilst) # This will print the list with inserted elements.\n",
    "\n",
    "# Extend - This extens one list into another and used to add multiple elements\n",
    "print('\\nAdding element using \\'extend\\'')\n",
    "rlst = [10,20,30,['true','false']]\n",
    "elst = ['iam', 'extended',{20:80,50:'hello'}]\n",
    "rlst.extend(elst)\n",
    "print(rlst)\n",
    "\n",
    "# Difference between append & extend:\n",
    "# - Append can take only one argument either list or tuple or string or dict at a time.\n",
    "# - Element is used to as element or list or hetrogeneous elements"
   ]
  },
  {
   "cell_type": "code",
   "execution_count": 16,
   "metadata": {},
   "outputs": [
    {
     "name": "stdout",
     "output_type": "stream",
     "text": [
      "Removing a element from the list\n",
      "None\n",
      "['hello', 'this', 'is', 'list']\n",
      "\n",
      "Poping a element from the list\n",
      "40\n",
      "['nested', 'list', 'element']\n",
      "[10, 20, 30, {'hello': 20, 'world': 21}]\n",
      "\n",
      "Clearing all element from the list\n",
      "None\n",
      "[]\n"
     ]
    }
   ],
   "source": [
    "# To remove a element from the list\n",
    "\n",
    "# remove - This is used to remove single element from the list\n",
    "print('Removing a element from the list')\n",
    "rmlst = ['hello', 'this', 'is', 'a', 'list']\n",
    "print(rmlst.remove('a')) # Printing remove will return None\n",
    "print(rmlst) # Returns list after removing a element\n",
    "\n",
    "#pop - This is used to remove a element from the list by its index\n",
    "#    - If index is not mentioned it will remove the last element from the list\n",
    "print('\\nPoping a element from the list')\n",
    "plst = [10,20,30,40,{'hello':20,'world':21},['nested','list','element']]\n",
    "print(plst.pop(3)) # removes element from third index and prints it\n",
    "print(plst.pop()) # removes the last element from the list and print it\n",
    "print(plst) # prints the remaining list\n",
    "\n",
    "#clear() - This will remove all the elements of the list and returns empty list\n",
    "print('\\nClearing all element from the list')\n",
    "clst = [10,20,30,40,{'hello':20,'world':21},['nested','list','element']]\n",
    "print(clst.clear())  # printing clear will return None \n",
    "print(clst) # prints the list after clearing everything"
   ]
  },
  {
   "cell_type": "code",
   "execution_count": 39,
   "metadata": {},
   "outputs": [
    {
     "name": "stdout",
     "output_type": "stream",
     "text": [
      "Removing a range of elements from the list\n",
      "[10, 20, 30, 40, 50, 60, 200, 10, 30, 45, 53]\n",
      "\n",
      "Removing a set of elements from the list\n",
      "[50, 60, 200, 45, 53]\n"
     ]
    }
   ],
   "source": [
    "# To remove a range of elements from the list\n",
    "\n",
    "print('Removing a range of elements from the list')\n",
    "lt = [10,20,30,40,50,60,70,80,90,100,200,10,30,45,53]\n",
    "llt = lt[6:10]\n",
    "for i in llt:\n",
    "    lt.remove(i)\n",
    "print(lt)\n",
    "\n",
    "print('\\nRemoving a set of elements from the list')\n",
    "ltt = [10, 20, 30, 40, 50, 60, 200, 10, 30, 45, 53]\n",
    "for i in list(ltt):\n",
    "    if i in [10,20,40,100,30]:\n",
    "        ltt.remove(i)\n",
    "print(ltt)\n",
    "# In the above example copy of list has been created intially. \n",
    "# Using remove() function in python changes the index of the remaining elements.\n",
    "# while iterating this ll cause index invalidation or unexpected output.\n",
    "# This is why the copy of list has been created initially."
   ]
  },
  {
   "cell_type": "code",
   "execution_count": 55,
   "metadata": {},
   "outputs": [
    {
     "name": "stdout",
     "output_type": "stream",
     "text": [
      "Ceating a copy of list\n",
      "\n",
      "Before changing element in lstc2\n",
      "lstc1 = [100, 200, 300, 400, 'raw'] \n",
      "lstc2 = [100, 200, 300, 400, 'raw']\n",
      "\n",
      "After changing element in lstc2\n",
      "lstc1 = [100, 200, 300, 400, 'raw'] \n",
      "lstc2 = [100, 200, 300, 400, 'copy']\n",
      "\n",
      "Changes in the copy of nested list elements will impact both the list\n",
      "\n",
      "Before changing element in nlstc2\n",
      "lstc1 = [10, 20, (30, 40, 50), [60, 70, 80]] \n",
      "lstc2 = [10, 20, (30, 40, 50), [60, 70, 80]]\n",
      "\n",
      "After changing element in nlstc2\n",
      "nlstc1 = [10, 20, (30, 40, 50), [60, 'copy', 80]] \n",
      "nlstc2 = [10, 20, (30, 40, 50), [60, 'copy', 80]]\n"
     ]
    }
   ],
   "source": [
    "# Creating a copy of list\n",
    "\n",
    "print('Ceating a copy of list')\n",
    "lstc1 = [100,200,300,400,'raw']\n",
    "lstc2 = lstc1.copy()\n",
    "print('\\nBefore changing element in lstc2')\n",
    "print('lstc1 =',lstc1, '\\nlstc2 =',lstc2)\n",
    "\n",
    "print('\\nAfter changing element in lstc2')\n",
    "lstc2[4] = 'copy'\n",
    "print('lstc1 =',lstc1, '\\nlstc2 =',lstc2)\n",
    "\n",
    "print('\\nChanges in the copy of nested list elements will impact both the list')\n",
    "nlstc1 = [10,20,(30,40,50),[60,70,80]]\n",
    "nlstc2 = nlstc1.copy()\n",
    "print('\\nBefore changing element in nlstc2')\n",
    "print('lstc1 =',nlstc1, '\\nlstc2 =',nlstc2)\n",
    "\n",
    "print('\\nAfter changing element in nlstc2')\n",
    "nlstc2[3][1] = 'copy'\n",
    "print('nlstc1 =',nlstc1, '\\nnlstc2 =',nlstc2)\n",
    "\n",
    "# To avoid this we can import and use deepcopy."
   ]
  },
  {
   "cell_type": "code",
   "execution_count": 62,
   "metadata": {},
   "outputs": [
    {
     "name": "stdout",
     "output_type": "stream",
     "text": [
      "4\n",
      "0\n",
      "\n",
      "1\n"
     ]
    },
    {
     "ename": "ValueError",
     "evalue": "80 is not in list",
     "output_type": "error",
     "traceback": [
      "\u001b[0;31m---------------------------------------------------------------------------\u001b[0m",
      "\u001b[0;31mValueError\u001b[0m                                Traceback (most recent call last)",
      "\u001b[0;32m<ipython-input-62-d26abf1db589>\u001b[0m in \u001b[0;36m<module>\u001b[0;34m\u001b[0m\n\u001b[1;32m      9\u001b[0m \u001b[0;31m# index() - Returns the index of first occurance of a particular element from the list.\u001b[0m\u001b[0;34m\u001b[0m\u001b[0;34m\u001b[0m\u001b[0;34m\u001b[0m\u001b[0m\n\u001b[1;32m     10\u001b[0m \u001b[0mprint\u001b[0m\u001b[0;34m(\u001b[0m\u001b[0mctlst\u001b[0m\u001b[0;34m.\u001b[0m\u001b[0mindex\u001b[0m\u001b[0;34m(\u001b[0m\u001b[0;36m2\u001b[0m\u001b[0;34m)\u001b[0m\u001b[0;34m)\u001b[0m\u001b[0;34m\u001b[0m\u001b[0;34m\u001b[0m\u001b[0m\n\u001b[0;32m---> 11\u001b[0;31m \u001b[0mprint\u001b[0m\u001b[0;34m(\u001b[0m\u001b[0mctlst\u001b[0m\u001b[0;34m.\u001b[0m\u001b[0mindex\u001b[0m\u001b[0;34m(\u001b[0m\u001b[0;36m80\u001b[0m\u001b[0;34m)\u001b[0m\u001b[0;34m)\u001b[0m \u001b[0;31m# if the element is not present in the list it Value Error\u001b[0m\u001b[0;34m\u001b[0m\u001b[0;34m\u001b[0m\u001b[0m\n\u001b[0m",
      "\u001b[0;31mValueError\u001b[0m: 80 is not in list"
     ]
    }
   ],
   "source": [
    "# Count and index\n",
    "\n",
    "# count() - Returns the total occurances of a particular element in the list.\n",
    "ctlst = [100,2,200,1,2,4,2,8,16,2]\n",
    "print(ctlst.count(2))\n",
    "print(ctlst.count(80)) # if the element is not present in the list it returns 0\n",
    "print()\n",
    "\n",
    "# index() - Returns the index of first occurance of a particular element from the list.\n",
    "print(ctlst.index(2))\n",
    "print(ctlst.index(80)) # if the element is not present in the list it ValueError"
   ]
  },
  {
   "cell_type": "code",
   "execution_count": 69,
   "metadata": {},
   "outputs": [
    {
     "name": "stdout",
     "output_type": "stream",
     "text": [
      "None\n",
      "[0, 2, 4, 6, 8, 10]\n",
      "\n",
      "Sorting in ascending order\n",
      "None\n",
      "[0, 1, 2, 3, 4, 5, 6, 7, 8, 9]\n",
      "\n",
      "\n",
      "Sorting in descending order\n",
      "None\n",
      "[9, 8, 7, 6, 5, 4, 3, 2, 1, 0]\n",
      "\n"
     ]
    }
   ],
   "source": [
    "# reverse and sorting\n",
    "\n",
    "# reverse() - This will reverse the complete list sarting from the index -1\n",
    "rvlst = [10,8,6,4,2,0]\n",
    "print(rvlst.reverse()) # printing reverse will return none.\n",
    "print(rvlst) # this will return the reversed list\n",
    "\n",
    "# sorting - This will sort the list in ascending or descending order\n",
    "# by default sort() will arrange the ascending order\n",
    "# to arrange in descending order use sort(reverse=True)\n",
    "print('\\nSorting in ascending order')\n",
    "alst = [0,8,5,2,1,6,3,4,9,7]\n",
    "print(alst.sort()) # printing sort will return none.\n",
    "print(alst) # this will return the ascending order sorted list\n",
    "print()\n",
    "\n",
    "print('\\nSorting in descending order')\n",
    "dlst = [0,8,5,2,1,6,3,4,9,7]\n",
    "print(dlst.sort(reverse=True)) # printing sort will return none.\n",
    "print(dlst) # this will return the ascending order sorted list\n",
    "print()"
   ]
  },
  {
   "cell_type": "code",
   "execution_count": null,
   "metadata": {},
   "outputs": [],
   "source": []
  }
 ],
 "metadata": {
  "kernelspec": {
   "display_name": "Python 3",
   "language": "python",
   "name": "python3"
  },
  "language_info": {
   "codemirror_mode": {
    "name": "ipython",
    "version": 3
   },
   "file_extension": ".py",
   "mimetype": "text/x-python",
   "name": "python",
   "nbconvert_exporter": "python",
   "pygments_lexer": "ipython3",
   "version": "3.8.5"
  }
 },
 "nbformat": 4,
 "nbformat_minor": 4
}
