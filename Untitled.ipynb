{
 "cells": [
  {
   "cell_type": "code",
   "execution_count": 4,
   "metadata": {},
   "outputs": [
    {
     "name": "stdout",
     "output_type": "stream",
     "text": [
      "Enter first number: 2\n",
      "Enter second number: 3\n",
      "5\n"
     ]
    }
   ],
   "source": [
    "def ud_sum():\n",
    "    x = int(input('Enter first number: '))\n",
    "    y = int(input('Enter second number: '))\n",
    "    z = x+y\n",
    "    print(z)\n",
    "\n",
    "if __name__ == '__main__':\n",
    "    ud_sum()"
   ]
  }
 ],
 "metadata": {
  "kernelspec": {
   "display_name": "Python 3",
   "language": "python",
   "name": "python3"
  },
  "language_info": {
   "codemirror_mode": {
    "name": "ipython",
    "version": 3
   },
   "file_extension": ".py",
   "mimetype": "text/x-python",
   "name": "python",
   "nbconvert_exporter": "python",
   "pygments_lexer": "ipython3",
   "version": "3.8.5"
  }
 },
 "nbformat": 4,
 "nbformat_minor": 4
}
