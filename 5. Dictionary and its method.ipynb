{
 "cells": [
  {
   "cell_type": "markdown",
   "metadata": {},
   "source": [
    "## QUICK REVISION NOTES 5"
   ]
  },
  {
   "cell_type": "markdown",
   "metadata": {},
   "source": [
    "### Dictionary and its method"
   ]
  },
  {
   "cell_type": "code",
   "execution_count": 10,
   "metadata": {},
   "outputs": [],
   "source": [
    "# Dictionary is a combination of key-value pairs seperated by semi-colan ':' and kept inside '{}'\n",
    "# Dictionary is a mutable object but it doent allow mutable object as key\n",
    "# Key cant be duplicated but values can be duplicated.\n",
    "# Indexing and slicing is not possible.\n",
    "# To access a vale we have to use its key."
   ]
  },
  {
   "cell_type": "code",
   "execution_count": 11,
   "metadata": {},
   "outputs": [
    {
     "name": "stdout",
     "output_type": "stream",
     "text": [
      "{'std': {'name': 'abc', 'num': 40}, 'std2': {'num': 50}} \n",
      "Type of dct is <class 'dict'> \n",
      "ID of dct is 140265996087744\n"
     ]
    }
   ],
   "source": [
    "dct = {'std': {'name':'abc', 'num':40}, 'std2':{'num':50}}\n",
    "print(dct,'\\nType of dct is',type(dct), '\\nID of dct is', id(dct))"
   ]
  },
  {
   "cell_type": "code",
   "execution_count": 12,
   "metadata": {},
   "outputs": [
    {
     "name": "stdout",
     "output_type": "stream",
     "text": [
      "{'name': 'abc', 'num': 40}\n",
      "abc\n",
      "\n",
      "{'std': {'name': 'abc', 'num': 10}, 'std2': {'num': 50}}\n"
     ]
    }
   ],
   "source": [
    "# To access a value in dictionary\n",
    "print(dct['std'])\n",
    "print(dct['std']['name'])\n",
    "print()\n",
    "\n",
    "# To change the value in dictionary\n",
    "dct['std']['num'] = 10\n",
    "print(dct)"
   ]
  },
  {
   "cell_type": "code",
   "execution_count": 13,
   "metadata": {},
   "outputs": [
    {
     "name": "stdout",
     "output_type": "stream",
     "text": [
      "['__class__', '__contains__', '__delattr__', '__delitem__', '__dir__', '__doc__', '__eq__', '__format__', '__ge__', '__getattribute__', '__getitem__', '__gt__', '__hash__', '__init__', '__init_subclass__', '__iter__', '__le__', '__len__', '__lt__', '__ne__', '__new__', '__reduce__', '__reduce_ex__', '__repr__', '__reversed__', '__setattr__', '__setitem__', '__sizeof__', '__str__', '__subclasshook__', 'clear', 'copy', 'fromkeys', 'get', 'items', 'keys', 'pop', 'popitem', 'setdefault', 'update', 'values']\n"
     ]
    }
   ],
   "source": [
    "# To view all the methods in dictionary\n",
    "\n",
    "print(dir(dict))\n",
    "\n",
    "# The identifiers starting and ending with underscore (_) are language defined identifiers\n",
    "# Other than that everything are the methods of dictionary"
   ]
  },
  {
   "cell_type": "code",
   "execution_count": 16,
   "metadata": {},
   "outputs": [
    {
     "name": "stdout",
     "output_type": "stream",
     "text": [
      "Get method in dictionary\n",
      "{'name': 'abc', 'num': 10}\n",
      "None\n",
      "key-value pair not available\n",
      "{'std': {'name': 'abc', 'num': 10}, 'std2': {'num': 50}}\n",
      "\n",
      "Setdefault method in dictionary\n",
      "None\n",
      "krishna\n",
      "{1: 20, 'true': 56, 'class': 10, 'age': None, 'name': 'krishna'}\n",
      "\n",
      "Default method in dictionary\n",
      "None\n",
      "{10: 'suresh', 30: 10, 50: {5: 5, 60: 6}, 45: 82, 'name': 'krishna', 101: 202}\n"
     ]
    }
   ],
   "source": [
    "# get and setdefault\n",
    "\n",
    "# get() - It returns the value of the particular key\n",
    "#       - If the key is not available it returns None which can be edited by the user.\n",
    "print('Get method in dictionary')\n",
    "print(dct.get('std'))  # Returns the value of 'std'\n",
    "print(dct.get('std3')) # Returns None since the key is not present\n",
    "print(dct.get('hello', 'key-value pair not available'))  # Returns user defined output if the key not available\n",
    "print(dct) \n",
    "\n",
    "# setdefult() - It returns the value of the particular key.\n",
    "#             - If the key is not available it returns None and adds None as value to mentioned key\n",
    "#             - This can also be used to add key-value pair to dictionary\n",
    "print('\\nSetdefault method in dictionary')\n",
    "sdct = {1:20, 'true': 56, 'class':10}\n",
    "print(sdct.setdefault('age'))  # Key 'age is not available so it returns None and saves it as value'\n",
    "print(sdct.setdefault('name','krishna')) # Key 'name' is not available so it returns the assigned value & saves it\n",
    "print(sdct)\n",
    "\n",
    "#  update() - Its is used to update the dictionary with new key value pair or assign new value to available key\n",
    "print('\\nDefault method in dictionary')\n",
    "udct = {10:20,30:10,50:89,45:82}\n",
    "udct.update({10:'suresh'}) # return type is None\n",
    "udct.update({'name':'krishna',101:202,50:{5:5,60:6}}) # return type is None\n",
    "print(udct)"
   ]
  },
  {
   "cell_type": "code",
   "execution_count": 51,
   "metadata": {},
   "outputs": [
    {
     "name": "stdout",
     "output_type": "stream",
     "text": [
      "Pop method in dictionary\n",
      "40\n",
      "Key not present\n",
      "{50: 5, 6: 60, 8: 80}\n",
      "\n",
      "Popitem method in dictionary\n",
      "(8, 80)\n",
      "{50: 5, 6: 60}\n"
     ]
    }
   ],
   "source": [
    "# Removing a pair from dictionary\n",
    "\n",
    "# pop() - It is used to remove a particular element from the dictionary\n",
    "print('Pop method in dictionary')\n",
    "pdct = {10:40,50:5,6:60,8:80}\n",
    "print(pdct.pop(10)) # removes the pair and returns the removed value\n",
    "# print(pdct.pop(100))  # returns key error if the key is not present in the dictionary\n",
    "print(pdct.pop(100, 'Key not present')) # To avoid KeyError custom message can be used\n",
    "print(pdct) # returns the dictionary after removing the mentioned pair\n",
    "\n",
    "# popitem() - This removes a last pair from the dictionary.\n",
    "#           - Returns key error if the dictionary is empty.\n",
    "print('\\nPopitem method in dictionary')\n",
    "print(pdct.popitem()) # removes the last pair and returns it\n",
    "print(pdct) # returns the dictionary after removing last pair"
   ]
  },
  {
   "cell_type": "code",
   "execution_count": 66,
   "metadata": {},
   "outputs": [
    {
     "name": "stdout",
     "output_type": "stream",
     "text": [
      "dict_keys([10, 20, 30, 40, 50])\n",
      "dict_values([1, 2, 3, 4, 5])\n",
      "dict_items([(10, 1), (20, 2), (30, 3), (40, 4), (50, 5)])\n",
      "\n",
      "Printing keys\n",
      "10 20 30 40 50 \n",
      "\n",
      "Printing values\n",
      "1 2 3 4 5 \n",
      "\n",
      "Printing items\n",
      "(10, 1) (20, 2) (30, 3) (40, 4) (50, 5) "
     ]
    }
   ],
   "source": [
    "#items(), keys(), values() - These creates a sequence of required elements from the dictionary\n",
    "\n",
    "sdct = {10:1, 20:2, 30:3, 40:4, 50:5}\n",
    "print(sdct.keys())\n",
    "print(sdct.values())\n",
    "print(sdct.items())\n",
    "\n",
    "# This can be looped through dictionary\n",
    "print('\\nPrinting keys')\n",
    "for i in sdct.keys():\n",
    "    print(i, end=' ')\n",
    "    \n",
    "print('\\n\\nPrinting values')\n",
    "for i in sdct.values():\n",
    "    print(i, end=' ')\n",
    "    \n",
    "print('\\n\\nPrinting items')\n",
    "for i in sdct.items():\n",
    "    print(i, end=' ')"
   ]
  },
  {
   "cell_type": "code",
   "execution_count": 88,
   "metadata": {},
   "outputs": [
    {
     "name": "stdout",
     "output_type": "stream",
     "text": [
      "{1: 'suresh', 2: 'suresh', 3: 'suresh', 4: 'suresh', 5: 'suresh', 6: 'suresh', 7: 'suresh'}\n"
     ]
    }
   ],
   "source": [
    "# fromkeys() - This method is used to create default values for all keys in dictionary.\n",
    "fkdct={}\n",
    "fkdct = fkdct.fromkeys([1,2,3,4,5,6,7],'suresh') # Assign it to a variable will return the expected output\n",
    "print(fkdct)"
   ]
  },
  {
   "cell_type": "code",
   "execution_count": 102,
   "metadata": {},
   "outputs": [
    {
     "name": "stdout",
     "output_type": "stream",
     "text": [
      "Before making changes to copy\n",
      "{1: 400, 2: 800, 3: 1200, 4: 2000}\n",
      "{1: 400, 2: 800, 3: 1200, 4: 2000}\n",
      "\n",
      "After making changes to copy\n",
      "{1: 400, 2: 800, 3: 1200, 4: 2000}\n",
      "{1: 400, 2: 800, 3: 1200, 4: 1600}\n"
     ]
    }
   ],
   "source": [
    "# copy() - This method creates a shallow copy of the dictionary\n",
    "\n",
    "spdct = {1:400, 2:800, 3:1200, 4:2000}\n",
    "cpdct = spdct.copy()\n",
    "print('Before making changes to copy')\n",
    "print(spdct,cpdct,sep='\\n')\n",
    "print('\\nAfter making changes to copy')\n",
    "cpdct.update({4:1600})\n",
    "print(spdct,cpdct,sep='\\n')\n",
    "\n",
    "# To create a deepcopy:\n",
    "from copy import deepcopy\n",
    "dpdct = deepcopy(spdct)"
   ]
  }
 ],
 "metadata": {
  "kernelspec": {
   "display_name": "Python 3",
   "language": "python",
   "name": "python3"
  },
  "language_info": {
   "codemirror_mode": {
    "name": "ipython",
    "version": 3
   },
   "file_extension": ".py",
   "mimetype": "text/x-python",
   "name": "python",
   "nbconvert_exporter": "python",
   "pygments_lexer": "ipython3",
   "version": "3.8.5"
  }
 },
 "nbformat": 4,
 "nbformat_minor": 4
}
